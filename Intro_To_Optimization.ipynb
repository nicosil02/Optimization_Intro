{
 "cells": [
  {
   "cell_type": "markdown",
   "id": "0d524ecb",
   "metadata": {},
   "source": [
    "## Homework: Introduction to Optimization\n"
   ]
  },
  {
   "cell_type": "markdown",
   "id": "4a43f844",
   "metadata": {},
   "source": [
    "<p align=\"left\">\n",
    "  <img src=\"https://www.grupolarabida.org/wp-content/uploads/2020/11/Copia-de-Imagotipo-PUCP-alta_resolucion-1-1024x493.png\" alt=\"PUCP Logo\" width=\"300\"/>\n",
    "</p>\n",
    "\n",
    "# Tarea: Introdución a la Optimización - Analítica Social e Inteligencia Estratégica\n",
    "\n",
    "**Estudiante:** Nicolás Silva Andujar  \n",
    "**Código:** 20200832  \n",
    "**Carrera:** Ciencia Política y Gobierno  \n",
    "\n",
    "En esta tarea, aplicamos métodos de **Optimización, Análisis de Jerarquía Analítica (AHP) y Benchmarking** para la toma de decisiones estratégicas en situaciones complejas.\n",
    "\n",
    "**LinkedIn:** [Nicolás Silva Andujar](https://www.linkedin.com/in/nicolas-silva0522a/)\n",
    "\n",
    "---\n",
    "\n"
   ]
  },
  {
   "cell_type": "markdown",
   "id": "aa32e7ce",
   "metadata": {},
   "source": [
    "# Parte 1: *Optimización*"
   ]
  },
  {
   "cell_type": "markdown",
   "id": "34a49d4f",
   "metadata": {},
   "source": [
    "### **Ejercicio 1: Problema de dieta**"
   ]
  },
  {
   "cell_type": "code",
   "execution_count": 1,
   "id": "a7e1cb7a",
   "metadata": {
    "id": "a7e1cb7a"
   },
   "outputs": [
    {
     "data": {
      "text/html": [
       "<iframe src=\"https://docs.google.com/presentation/d/e/2PACX-1vTSq9X74urGAB_5n_MIJ9ZGIboKSvBdokVTBXVLh_qqZnmLRTJioOF431Rzys3Qi9UaFwWXjeq6Wmd5/embed?start=false&loop=false&delayms=3000\" frameborder=\"0\" width=\"960\" height=\"569\" allowfullscreen=\"true\" mozallowfullscreen=\"true\" webkitallowfullscreen=\"true\"></iframe>\n"
      ],
      "text/plain": [
       "<IPython.core.display.HTML object>"
      ]
     },
     "metadata": {},
     "output_type": "display_data"
    }
   ],
   "source": [
    "%%html\n",
    "<iframe src=\"https://docs.google.com/presentation/d/e/2PACX-1vTSq9X74urGAB_5n_MIJ9ZGIboKSvBdokVTBXVLh_qqZnmLRTJioOF431Rzys3Qi9UaFwWXjeq6Wmd5/embed?start=false&loop=false&delayms=3000\" frameborder=\"0\" width=\"960\" height=\"569\" allowfullscreen=\"true\" mozallowfullscreen=\"true\" webkitallowfullscreen=\"true\"></iframe>"
   ]
  },
  {
   "cell_type": "markdown",
   "id": "e541d12d-5739-454b-89db-c73e33bbec24",
   "metadata": {},
   "source": [
    "**Iniciamos el modelo**"
   ]
  },
  {
   "cell_type": "code",
   "execution_count": 2,
   "id": "d4951184",
   "metadata": {},
   "outputs": [],
   "source": [
    "import pulp as pp"
   ]
  },
  {
   "cell_type": "code",
   "execution_count": 3,
   "id": "8e2cacf5-19be-49b7-8302-e4424b1dc9b6",
   "metadata": {},
   "outputs": [],
   "source": [
    "model2 = pp.LpProblem(name='diet-problem', \n",
    "                     sense=pp.LpMinimize) "
   ]
  },
  {
   "cell_type": "markdown",
   "id": "f5ceec37-3f42-4391-a638-8e18f98cc3df",
   "metadata": {},
   "source": [
    "**Declaramos variables**"
   ]
  },
  {
   "cell_type": "code",
   "execution_count": 4,
   "id": "eced5266-41fa-419c-a096-c7c36e663f2d",
   "metadata": {},
   "outputs": [],
   "source": [
    "# VegaVita\n",
    "Vega = pp.LpVariable(name=\"VegaVita\",  \n",
    "                    lowBound=0,  \n",
    "                    cat='Integer') \n",
    "\n",
    "# HappyHealth\n",
    "Happy = pp.LpVariable(name=\"HappyHealth\",\n",
    "                 lowBound=0,\n",
    "                 cat='Integer')"
   ]
  },
  {
   "cell_type": "markdown",
   "id": "03854fc4-7c20-4347-9ff8-002105c3527a",
   "metadata": {},
   "source": [
    "**Creamos función para OPTIMIZAR**"
   ]
  },
  {
   "cell_type": "code",
   "execution_count": 5,
   "id": "60310fd8-8e35-4917-875a-45a1b6fec2d6",
   "metadata": {},
   "outputs": [],
   "source": [
    "VegaCoeff=0.2\n",
    "HappyCoeff=0.3\n",
    "obj_func_ = VegaCoeff*Vega + HappyCoeff*Happy"
   ]
  },
  {
   "cell_type": "markdown",
   "id": "59f6624a-d27e-43e2-a450-36228d367ec9",
   "metadata": {},
   "source": [
    "**Constrains**"
   ]
  },
  {
   "cell_type": "code",
   "execution_count": 6,
   "id": "fb019e06-d6c5-42dd-932e-b0de27f19923",
   "metadata": {},
   "outputs": [],
   "source": [
    "# SUBJECT TO:\n",
    "C1= pp.LpConstraint(name='VitaminC Constraint',   \n",
    "                    e= 20*Vega + 30*Happy, rhs=60, \n",
    "                    sense=pp.LpConstraintGE) \n",
    "C2= pp.LpConstraint(name='Calcium Constraint',\n",
    "                    e= 500*Vega + 250*Happy, rhs=1000,\n",
    "                    sense=pp.LpConstraintGE) \n",
    "C3= pp.LpConstraint(name='Iron Constraint',\n",
    "                    e= 9*Vega + 2*Happy, rhs=18,\n",
    "                    sense=pp.LpConstraintGE, )\n",
    "C4= pp.LpConstraint(name='Niacin Constraint',\n",
    "                    e= 2*Vega + 10*Happy, rhs=20,\n",
    "                    sense=pp.LpConstraintGE, )\n",
    "C5= pp.LpConstraint(name='Magnesium Constraint',\n",
    "                    e= 60*Vega + 90*Happy, rhs=360,\n",
    "                    sense=pp.LpConstraintGE, )"
   ]
  },
  {
   "cell_type": "markdown",
   "id": "ceeebc3e-076c-4140-ac2b-b753e6e4b266",
   "metadata": {},
   "source": [
    "**Construimos el modelo**"
   ]
  },
  {
   "cell_type": "code",
   "execution_count": 7,
   "id": "425dc3cd-2504-4799-98fa-163c3118a33c",
   "metadata": {},
   "outputs": [],
   "source": [
    "model2 += obj_func_\n",
    "model2 += C1\n",
    "model2 += C2\n",
    "model2 += C3\n",
    "model2 += C4\n",
    "model2 += C5"
   ]
  },
  {
   "cell_type": "markdown",
   "id": "dd879ef7-549d-40a5-ae3d-75dfa6c9d657",
   "metadata": {},
   "source": [
    "**Resolvemos el modelo**"
   ]
  },
  {
   "cell_type": "code",
   "execution_count": 8,
   "id": "372d3df0-7792-453e-a04f-f89cd6d862d3",
   "metadata": {},
   "outputs": [
    {
     "name": "stdout",
     "output_type": "stream",
     "text": [
      "['GLPK_CMD', 'PYGLPK', 'CPLEX_CMD', 'CPLEX_PY', 'GUROBI', 'GUROBI_CMD', 'MOSEK', 'XPRESS', 'XPRESS', 'XPRESS_PY', 'PULP_CBC_CMD', 'COIN_CMD', 'COINMP_DLL', 'CHOCO_CMD', 'MIPCL_CMD', 'SCIP_CMD', 'FSCIP_CMD', 'SCIP_PY', 'HiGHS', 'HiGHS_CMD', 'COPT', 'COPT_DLL', 'COPT_CMD']\n"
     ]
    }
   ],
   "source": [
    "solver_list = pp.listSolvers()\n",
    "print(solver_list)"
   ]
  },
  {
   "cell_type": "code",
   "execution_count": 9,
   "id": "4d47b023-1f9e-4d88-9478-4c7d0be86c5d",
   "metadata": {},
   "outputs": [],
   "source": [
    "model2.solve();"
   ]
  },
  {
   "cell_type": "code",
   "execution_count": 10,
   "id": "a1d4b2f1-782c-41b6-9e89-ca9cf76473de",
   "metadata": {},
   "outputs": [
    {
     "data": {
      "text/plain": [
       "{'Model Status': 'Optimal',\n",
       " 'Optimal Solution': 1.2000000000000002,\n",
       " 'HappyHealth': 2.0,\n",
       " 'VegaVita': 3.0}"
      ]
     },
     "execution_count": 10,
     "metadata": {},
     "output_type": "execute_result"
    }
   ],
   "source": [
    "import pandas as pd\n",
    "\n",
    "Results={\"Model Status\":pp.LpStatus[model2.status]}\n",
    "Results.update({\"Optimal Solution\":pp.value(model2.objective)})\n",
    "Results.update({v.name: v.varValue for v in model2.variables()})\n",
    "Results"
   ]
  },
  {
   "cell_type": "code",
   "execution_count": 11,
   "id": "2fbd19ee-f6c3-4b2c-b330-285130cd5347",
   "metadata": {},
   "outputs": [
    {
     "data": {
      "text/html": [
       "<style type=\"text/css\">\n",
       "</style>\n",
       "<table id=\"T_e1556\">\n",
       "  <thead>\n",
       "    <tr>\n",
       "      <th class=\"blank level0\" >&nbsp;</th>\n",
       "      <th id=\"T_e1556_level0_col0\" class=\"col_heading level0 col0\" >Optimal Solution</th>\n",
       "      <th id=\"T_e1556_level0_col1\" class=\"col_heading level0 col1\" >HappyHealth</th>\n",
       "      <th id=\"T_e1556_level0_col2\" class=\"col_heading level0 col2\" >VegaVita</th>\n",
       "    </tr>\n",
       "    <tr>\n",
       "      <th class=\"index_name level0\" >Model Status</th>\n",
       "      <th class=\"blank col0\" >&nbsp;</th>\n",
       "      <th class=\"blank col1\" >&nbsp;</th>\n",
       "      <th class=\"blank col2\" >&nbsp;</th>\n",
       "    </tr>\n",
       "  </thead>\n",
       "  <tbody>\n",
       "    <tr>\n",
       "      <th id=\"T_e1556_level0_row0\" class=\"row_heading level0 row0\" >Optimal</th>\n",
       "      <td id=\"T_e1556_row0_col0\" class=\"data row0 col0\" >1.2000000000000002</td>\n",
       "      <td id=\"T_e1556_row0_col1\" class=\"data row0 col1\" >2.0</td>\n",
       "      <td id=\"T_e1556_row0_col2\" class=\"data row0 col2\" >3.0</td>\n",
       "    </tr>\n",
       "  </tbody>\n",
       "</table>\n"
      ],
      "text/plain": [
       "<pandas.io.formats.style.Styler at 0x19250fdc650>"
      ]
     },
     "execution_count": 11,
     "metadata": {},
     "output_type": "execute_result"
    }
   ],
   "source": [
    "pd.DataFrame.from_dict(Results,orient='index').T.set_index('Model Status').style.format('{:,}')"
   ]
  },
  {
   "cell_type": "markdown",
   "id": "6b1ddc4b",
   "metadata": {},
   "source": [
    "### **Ejercicio 2: Problemas de horario**"
   ]
  },
  {
   "cell_type": "code",
   "execution_count": 12,
   "id": "13f944ca-ef56-46e8-88f7-2b08141c2208",
   "metadata": {
    "id": "13f944ca-ef56-46e8-88f7-2b08141c2208"
   },
   "outputs": [
    {
     "data": {
      "text/html": [
       "<iframe src=\"https://docs.google.com/presentation/d/e/2PACX-1vQtBRpIr6Hx1_T0zJ3_DRqsE82YUjx7ZkeEKLdA64fbjtjkmc6Ibf6ebzp6CY69D482IGpG2h9GcsC5/embed?start=false&loop=false&delayms=3000\" frameborder=\"0\" width=\"960\" height=\"569\" allowfullscreen=\"true\" mozallowfullscreen=\"true\" webkitallowfullscreen=\"true\"></iframe>\n"
      ],
      "text/plain": [
       "<IPython.core.display.HTML object>"
      ]
     },
     "metadata": {},
     "output_type": "display_data"
    }
   ],
   "source": [
    "%%html\n",
    "<iframe src=\"https://docs.google.com/presentation/d/e/2PACX-1vQtBRpIr6Hx1_T0zJ3_DRqsE82YUjx7ZkeEKLdA64fbjtjkmc6Ibf6ebzp6CY69D482IGpG2h9GcsC5/embed?start=false&loop=false&delayms=3000\" frameborder=\"0\" width=\"960\" height=\"569\" allowfullscreen=\"true\" mozallowfullscreen=\"true\" webkitallowfullscreen=\"true\"></iframe>"
   ]
  },
  {
   "cell_type": "markdown",
   "id": "a2f4763f",
   "metadata": {},
   "source": [
    "**Iniciamos el modelo**"
   ]
  },
  {
   "cell_type": "code",
   "execution_count": 13,
   "id": "f64635a8",
   "metadata": {},
   "outputs": [],
   "source": [
    "model3 = pp.LpProblem(name=\"scheduling-problem\", sense=pp.LpMinimize)\n"
   ]
  },
  {
   "cell_type": "markdown",
   "id": "393e1e49",
   "metadata": {},
   "source": [
    "**Establecemos las variables**"
   ]
  },
  {
   "cell_type": "code",
   "execution_count": 14,
   "id": "7068493d",
   "metadata": {},
   "outputs": [],
   "source": [
    "DR_0_8 = pp.LpVariable(name=\"DR_0_8\", lowBound=0, cat='Integer')\n",
    "DR_4_12 = pp.LpVariable(name=\"DR_4_12\", lowBound=0, cat='Integer')\n",
    "DR_8_16 = pp.LpVariable(name=\"DR_8_16\", lowBound=0, cat='Integer')\n",
    "DR_12_20 = pp.LpVariable(name=\"DR_12_20\", lowBound=0, cat='Integer')\n",
    "DR_16_0 = pp.LpVariable(name=\"DR_16_0\", lowBound=0, cat='Integer')\n",
    "DR_20_4 = pp.LpVariable(name=\"DR_20_4\", lowBound=0, cat='Integer')"
   ]
  },
  {
   "cell_type": "markdown",
   "id": "825fd6ec",
   "metadata": {},
   "source": [
    "**Creamos la función para optimizar**"
   ]
  },
  {
   "cell_type": "code",
   "execution_count": 15,
   "id": "b0cf31b0",
   "metadata": {},
   "outputs": [],
   "source": [
    "obj_func2 = DR_0_8 + DR_4_12 + DR_8_16 + DR_12_20 + DR_16_0 + DR_20_4\n"
   ]
  },
  {
   "cell_type": "markdown",
   "id": "07379b3f",
   "metadata": {},
   "source": [
    "**Contrains**"
   ]
  },
  {
   "cell_type": "code",
   "execution_count": 16,
   "id": "eb3c3568",
   "metadata": {},
   "outputs": [],
   "source": [
    "L1 = pp.LpConstraint(e=DR_0_8 + DR_20_4, sense=pp.LpConstraintGE, rhs=4, name=\"Demand Midnight to 4 am\")\n",
    "L2 = pp.LpConstraint(e=DR_0_8 + DR_4_12, sense=pp.LpConstraintGE, rhs=8, name=\"Demand 4 am to 8 am\")\n",
    "L3 = pp.LpConstraint(e=DR_4_12 + DR_8_16, sense=pp.LpConstraintGE, rhs=10, name=\"Demand 8 am to 12 pm\")\n",
    "L4 = pp.LpConstraint(e=DR_8_16 + DR_12_20, sense=pp.LpConstraintGE, rhs=7, name=\"Demand 12 pm to 4 pm\")\n",
    "L5 = pp.LpConstraint(e=DR_12_20 + DR_16_0, sense=pp.LpConstraintGE, rhs=12, name=\"Demand 4 pm to 8 pm\")\n",
    "L6 = pp.LpConstraint(e=DR_16_0 + DR_20_4, sense=pp.LpConstraintGE, rhs=4, name=\"Demand 8 pm to midnight\")"
   ]
  },
  {
   "cell_type": "code",
   "execution_count": 17,
   "id": "bb367c4e",
   "metadata": {},
   "outputs": [],
   "source": [
    "model3 += obj_func2\n",
    "model3 += L1\n",
    "model3 += L2\n",
    "model3 += L3\n",
    "model3 += L4\n",
    "model3 += L5\n",
    "model3 += L6"
   ]
  },
  {
   "cell_type": "markdown",
   "id": "8ac0faa2",
   "metadata": {},
   "source": [
    "**Resolvemos el modelo**"
   ]
  },
  {
   "cell_type": "code",
   "execution_count": 18,
   "id": "9510d706",
   "metadata": {},
   "outputs": [],
   "source": [
    "model3.solve();\n"
   ]
  },
  {
   "cell_type": "code",
   "execution_count": 19,
   "id": "45936d4f",
   "metadata": {},
   "outputs": [
    {
     "data": {
      "text/plain": [
       "{'Model Status': 'Optimal',\n",
       " 'Optimal Solution': 26.0,\n",
       " 'DR_0_8': 0.0,\n",
       " 'DR_12_20': 12.0,\n",
       " 'DR_16_0': 0.0,\n",
       " 'DR_20_4': 4.0,\n",
       " 'DR_4_12': 10.0,\n",
       " 'DR_8_16': 0.0}"
      ]
     },
     "execution_count": 19,
     "metadata": {},
     "output_type": "execute_result"
    }
   ],
   "source": [
    "results={\"Model Status\":pp.LpStatus[model3.status]}\n",
    "results.update({\"Optimal Solution\":pp.value(model3.objective)})\n",
    "results.update({v.name: v.varValue for v in model3.variables()})\n",
    "results"
   ]
  },
  {
   "cell_type": "code",
   "execution_count": 20,
   "id": "5ae00473",
   "metadata": {},
   "outputs": [
    {
     "data": {
      "text/html": [
       "<style type=\"text/css\">\n",
       "</style>\n",
       "<table id=\"T_bdd03\">\n",
       "  <thead>\n",
       "    <tr>\n",
       "      <th class=\"blank level0\" >&nbsp;</th>\n",
       "      <th id=\"T_bdd03_level0_col0\" class=\"col_heading level0 col0\" >Optimal Solution</th>\n",
       "      <th id=\"T_bdd03_level0_col1\" class=\"col_heading level0 col1\" >DR_0_8</th>\n",
       "      <th id=\"T_bdd03_level0_col2\" class=\"col_heading level0 col2\" >DR_12_20</th>\n",
       "      <th id=\"T_bdd03_level0_col3\" class=\"col_heading level0 col3\" >DR_16_0</th>\n",
       "      <th id=\"T_bdd03_level0_col4\" class=\"col_heading level0 col4\" >DR_20_4</th>\n",
       "      <th id=\"T_bdd03_level0_col5\" class=\"col_heading level0 col5\" >DR_4_12</th>\n",
       "      <th id=\"T_bdd03_level0_col6\" class=\"col_heading level0 col6\" >DR_8_16</th>\n",
       "    </tr>\n",
       "    <tr>\n",
       "      <th class=\"index_name level0\" >Model Status</th>\n",
       "      <th class=\"blank col0\" >&nbsp;</th>\n",
       "      <th class=\"blank col1\" >&nbsp;</th>\n",
       "      <th class=\"blank col2\" >&nbsp;</th>\n",
       "      <th class=\"blank col3\" >&nbsp;</th>\n",
       "      <th class=\"blank col4\" >&nbsp;</th>\n",
       "      <th class=\"blank col5\" >&nbsp;</th>\n",
       "      <th class=\"blank col6\" >&nbsp;</th>\n",
       "    </tr>\n",
       "  </thead>\n",
       "  <tbody>\n",
       "    <tr>\n",
       "      <th id=\"T_bdd03_level0_row0\" class=\"row_heading level0 row0\" >Optimal</th>\n",
       "      <td id=\"T_bdd03_row0_col0\" class=\"data row0 col0\" >26.0</td>\n",
       "      <td id=\"T_bdd03_row0_col1\" class=\"data row0 col1\" >0.0</td>\n",
       "      <td id=\"T_bdd03_row0_col2\" class=\"data row0 col2\" >12.0</td>\n",
       "      <td id=\"T_bdd03_row0_col3\" class=\"data row0 col3\" >0.0</td>\n",
       "      <td id=\"T_bdd03_row0_col4\" class=\"data row0 col4\" >4.0</td>\n",
       "      <td id=\"T_bdd03_row0_col5\" class=\"data row0 col5\" >10.0</td>\n",
       "      <td id=\"T_bdd03_row0_col6\" class=\"data row0 col6\" >0.0</td>\n",
       "    </tr>\n",
       "  </tbody>\n",
       "</table>\n"
      ],
      "text/plain": [
       "<pandas.io.formats.style.Styler at 0x1925388e2d0>"
      ]
     },
     "execution_count": 20,
     "metadata": {},
     "output_type": "execute_result"
    }
   ],
   "source": [
    "pd.DataFrame.from_dict(results,orient='index').T.set_index('Model Status').style.format('{:,}')"
   ]
  },
  {
   "cell_type": "markdown",
   "id": "2478f1d7-aa1c-4e6c-b404-d7faf01ab371",
   "metadata": {
    "id": "2478f1d7-aa1c-4e6c-b404-d7faf01ab371"
   },
   "source": [
    "# Parte 2: *Multicriteria Decision-Making*"
   ]
  },
  {
   "cell_type": "markdown",
   "id": "b50bc5f6-7d5d-4a90-bf30-ec0cd2e9aaac",
   "metadata": {
    "id": "b50bc5f6-7d5d-4a90-bf30-ec0cd2e9aaac"
   },
   "source": [
    "<div class=\"alert-success\">\n",
    "\n",
    "<strong>Ejercicio: Elegir un país para un programa de maestría</strong>\n",
    "\n",
    "- Si tienes los criterios: costo de vida, dificultad del idioma, posibilidades de conseguir un trabajo en ese país después de finalizar los estudios.\n",
    "- Si tienes las alternativas: Brasil, Canadá, EE.UU., Alemania.\n",
    "- Crea un modelo AHP y obtén el ranking.\n"
   ]
  },
  {
   "cell_type": "markdown",
   "id": "ee78de76",
   "metadata": {},
   "source": [
    "### Matriz de Comparación para Costo de Vida\n",
    "\n",
    "| Comparación          | País 1  | Puntaje | País 2      | Puntaje | Justificación                                                                                                                               |\n",
    "|----------------------|---------|---------|-------------|---------|---------------------------------------------------------------------------------------------------------------------------------------------|\n",
    "| **Brasil vs. Canadá**      | Brasil  | 1       | Canadá      | 7       | Según el índice de precios, Brasil es significativamente más asequible que Canadá, especialmente en vivienda y servicios, justificando un valor alto de **7** a favor de Brasil. |\n",
    "| **Brasil vs. Reino Unido** | Brasil  | 1       | Reino Unido | 9       | El costo de vida en el Reino Unido es considerablemente mayor que en Brasil, especialmente en ciudades grandes como Londres. Brasil, con su bajo costo de vida, obtiene un **9**. |\n",
    "| **Brasil vs. EE.UU.**      | Brasil  | 1       | EE.UU.      | 9       | EE.UU. tiene un índice de precios más alto en promedio en comparación con Brasil, especialmente en vivienda y servicios. Esto justifica un valor de **9** para Brasil como una opción mucho más asequible. |\n",
    "| **Canadá vs. Reino Unido** | Canadá  | 1       | Reino Unido | 3       | Aunque ambos tienen un costo de vida alto, Reino Unido es moderadamente más caro, especialmente en grandes ciudades, justificando una preferencia de **3** hacia Canadá. |\n",
    "| **Canadá vs. EE.UU.**      | Canadá  | 1       | EE.UU.      | 3       | EE.UU. es moderadamente más caro que Canadá, especialmente en servicios y vivienda. Esto justifica un valor de **3** a favor de Canadá en términos de accesibilidad. |\n",
    "| **Reino Unido vs. EE.UU.** | Reino Unido | 1    | EE.UU. | 2 | Reino Unido y EE.UU. tienen costos de vida similares, aunque ligeramente mayores en Reino Unido en ciertas áreas, justificando una leve preferencia hacia EE.UU. con un valor de **2**. |\n"
   ]
  },
  {
   "cell_type": "markdown",
   "id": "31cfd002",
   "metadata": {},
   "source": [
    "### Matriz de Comparación para Dificultad del Lenguaje\n",
    "\n",
    "| Comparación          | País 1  | Puntaje | País 2      | Puntaje | Justificación                                                                                                                                                             |\n",
    "|----------------------|---------|---------|-------------|---------|---------------------------------------------------------------------------------------------------------------------------------------------------------------------------|\n",
    "| **Brasil vs. Canadá**      | Brasil  | 1       | Canadá      | 3       | Aunque el portugués es un idioma nuevo para hispanohablantes, su similitud con el español facilita el aprendizaje. Sin embargo, el inglés, que se habla en Canadá, es un idioma global y más accesible para estudios internacionales, justificando una preferencia moderada de **3** hacia Canadá. |\n",
    "| **Brasil vs. Reino Unido** | Brasil  | 1       | Reino Unido | 5       | El inglés británico, como idioma principal en el Reino Unido, es ampliamente reconocido y facilita el acceso a materiales y redes internacionales. Aunque el portugués es cercano al español, el inglés ofrece mayores ventajas para la academia y los negocios, justificando una preferencia significativa de **5** hacia el Reino Unido. |\n",
    "| **Brasil vs. EE.UU.**      | Brasil  | 1       | EE.UU.      | 6       | El inglés estadounidense es ampliamente utilizado en educación, tecnología y negocios internacionales, y es el estándar en muchas industrias globales. Esto justifica una preferencia alta de **6** hacia EE.UU., donde el inglés es el idioma principal. |\n",
    "| **Canadá vs. Reino Unido** | Canadá  | 1       | Reino Unido | 3       | Aunque ambos países tienen el inglés como idioma principal, el Reino Unido utiliza variantes lingüísticas y culturales distintas. Aun así, ambas opciones son accesibles para angloparlantes, justificando una preferencia moderada de **3** hacia el Reino Unido. |\n",
    "| **Canadá vs. EE.UU.**      | Canadá  | 1       | EE.UU.      | 5       | Aunque Canadá y EE.UU. comparten el inglés como idioma principal, el inglés estadounidense es el estándar en muchos sectores y ofrece mayor familiaridad en ámbitos internacionales, justificando una preferencia alta de **5** hacia EE.UU. |\n",
    "| **Reino Unido vs. EE.UU.** | Reino Unido | 1    | EE.UU. | 3 | Ambos países son angloparlantes, pero el inglés estadounidense es más común en entornos académicos y profesionales globales. Esto justifica una preferencia moderada de **3** hacia EE.UU. |\n"
   ]
  },
  {
   "cell_type": "markdown",
   "metadata": {},
   "source": [
    "### Matriz de Comparación para Oportunidades de Empleo Post-Maestría\n",
    "\n",
    "| Comparación               | País 1  | Puntaje | País 2      | Puntaje | Justificación                                                                                                                                                                                                                                                                                                 |\n",
    "|---------------------------|---------|---------|-------------|---------|-------------------------------------------------------------------------------------------------------------------------------------------------------------------------------------------------------------------------------------------------------------------------------------------------------------|\n",
    "| **Brasil vs. Canadá**     | Brasil  | 1       | Canadá      | 4       | Canadá ofrece el Post-Graduation Work Permit (PGWP), permitiendo a los graduados internacionales trabajar hasta tres años y facilitando el acceso a la residencia permanente. Aunque Brasil ofrece oportunidades en sectores como ingeniería y salud, su mercado laboral es más limitado para expatriados y requiere permisos adicionales. |\n",
    "| **Brasil vs. Reino Unido** | Brasil  | 1       | Reino Unido | 3       | El Reino Unido permite a los graduados trabajar hasta dos años con la Graduate Route, mientras que Brasil requiere permisos de trabajo específicos y tiene menos opciones estructuradas para graduados internacionales. Aunque Brasil ofrece oportunidades en ingeniería y gestión, el Reino Unido proporciona mayor estabilidad laboral. |\n",
    "| **Brasil vs. EE.UU.**     | Brasil  | 1       | EE.UU.      | 4       | EE.UU. ofrece el OPT de hasta un año (y una extensión de 24 meses para graduados en STEM), lo que brinda a los estudiantes internacionales una ventaja en campos como tecnología, ciencia de datos y gestión. Además, el salario promedio en EE.UU. ($74,990) es significativamente mayor que en Brasil ($21,000). |\n",
    "| **Canadá vs. Reino Unido** | Canadá  | 4       | Reino Unido | 1       | Canadá tiene una ventaja con el PGWP, que permite hasta tres años de empleo y facilita la residencia permanente, mientras que el Reino Unido limita el empleo a dos años bajo la Graduate Route. La diferencia en la duración y las opciones de residencia favorece a Canadá. |\n",
    "| **Canadá vs. EE.UU.**     | Canadá  | 5       | EE.UU.      | 1       | Aunque ambos países ofrecen amplias oportunidades para los graduados, EE.UU. tiene un mercado laboral más robusto, especialmente en tecnología y STEM. La extensión del OPT para graduados en STEM y el salario promedio más alto justifican una preferencia fuerte hacia EE.UU. |\n",
    "| **Reino Unido vs. EE.UU.** | Reino Unido | 1       | EE.UU. | 6       | Aunque el Reino Unido ofrece dos años de empleo post-maestría con la Graduate Route, EE.UU. tiene una ventaja clara en empleabilidad, especialmente para graduados en STEM con la extensión de OPT, así como mayores salarios promedio y oportunidades en sectores tecnológicos. |\n"
   ]
  },
  {
   "cell_type": "markdown",
   "id": "4fe3425b",
   "metadata": {},
   "source": [
    "1. Descargamos la data"
   ]
  },
  {
   "cell_type": "code",
   "execution_count": 23,
   "id": "dc540081",
   "metadata": {},
   "outputs": [],
   "source": [
    "# the link to the data\n",
    "\n",
    "linkGoogle='https://docs.google.com/spreadsheets/d/e/2PACX-1vRUt165g9_9geYIsZvC75FLg3G6a5rwpz8U4SrCyS0Nk_AOVNdRrC6V9gKk6oy0IQ/pub?output=xlsx'# the link to the data"
   ]
  },
  {
   "cell_type": "markdown",
   "id": "f09b1738",
   "metadata": {},
   "source": [
    "2. Abrimos cada página"
   ]
  },
  {
   "cell_type": "code",
   "execution_count": 24,
   "id": "465e0883",
   "metadata": {},
   "outputs": [],
   "source": [
    "\n",
    "pairwise_living=pd.read_excel(linkGoogle,sheet_name='cost_living', index_col=0)\n",
    "pairwise_language=pd.read_excel(linkGoogle,sheet_name='language', index_col=0)\n",
    "pairwise_job=pd.read_excel(linkGoogle,sheet_name='job_finding', index_col=0)\n",
    "pairwise_criteria=pd.read_excel(linkGoogle,sheet_name='criteria', index_col=0)"
   ]
  },
  {
   "cell_type": "markdown",
   "id": "59b7f5c1",
   "metadata": {},
   "source": [
    "3. Convertimos las matrices en comparaciones (Pairwise)"
   ]
  },
  {
   "cell_type": "code",
   "execution_count": 25,
   "id": "a3970083",
   "metadata": {},
   "outputs": [],
   "source": [
    "import networkx as nx\n",
    "\n",
    "G_living = nx.from_pandas_adjacency(pairwise_living,create_using=nx.MultiDiGraph())\n",
    "living_comparisons ={(e[0],e[1]):e[2]['weight'] for e in G_living.edges(data=True) if e[0]!= e[1]}\n",
    "\n",
    "G_language = nx.from_pandas_adjacency(pairwise_language,create_using=nx.MultiDiGraph())\n",
    "language_comparisons={(e[0],e[1]):e[2]['weight'] for e in G_language.edges(data=True) if e[0]!= e[1]}\n",
    "\n",
    "G_job = nx.from_pandas_adjacency(pairwise_job,create_using=nx.MultiDiGraph())\n",
    "job_comparisons={(e[0],e[1]):e[2]['weight'] for e in G_job.edges(data=True) if e[0]!= e[1]}\n"
   ]
  },
  {
   "cell_type": "code",
   "execution_count": 26,
   "id": "301d774a",
   "metadata": {},
   "outputs": [
    {
     "data": {
      "text/plain": [
       "{('cost_living', 'language'): 8.0,\n",
       " ('cost_living', 'job_finding'): 6.0,\n",
       " ('language', 'cost_living'): 0.125,\n",
       " ('language', 'job_finding'): 0.111111111,\n",
       " ('job_finding', 'cost_living'): 5.0,\n",
       " ('job_finding', 'language'): 9.0}"
      ]
     },
     "execution_count": 26,
     "metadata": {},
     "output_type": "execute_result"
    }
   ],
   "source": [
    "#para criteria\n",
    "G_CRIT = nx.from_pandas_adjacency(pairwise_criteria,create_using=nx.MultiDiGraph())\n",
    "criteria_comparisons ={(e[0],e[1]):e[2]['weight'] for e in G_CRIT.edges(data=True) if e[0]!= e[1]}\n",
    "criteria_comparisons"
   ]
  },
  {
   "cell_type": "markdown",
   "id": "1910e539",
   "metadata": {},
   "source": [
    "4. Aplicamos el algoritmo"
   ]
  },
  {
   "cell_type": "code",
   "execution_count": null,
   "id": "3c53bcdc",
   "metadata": {},
   "outputs": [
    {
     "name": "stderr",
     "output_type": "stream",
     "text": [
      "\n",
      "[notice] A new release of pip is available: 24.2 -> 24.3.1\n",
      "[notice] To update, run: python.exe -m pip install --upgrade pip\n"
     ]
    },
    {
     "name": "stdout",
     "output_type": "stream",
     "text": [
      "Requirement already satisfied: ahpy in c:\\users\\nicolas silva\\appdata\\local\\programs\\python\\python312\\lib\\site-packages (2.0)\n",
      "Requirement already satisfied: numpy in c:\\users\\nicolas silva\\appdata\\local\\programs\\python\\python312\\lib\\site-packages (from ahpy) (2.0.2)\n",
      "Requirement already satisfied: scipy in c:\\users\\nicolas silva\\appdata\\local\\programs\\python\\python312\\lib\\site-packages (from ahpy) (1.14.1)\n"
     ]
    }
   ],
   "source": [
    "#!pip install ahpy\n",
    "import ahpy\n",
    "\n",
    "living = ahpy.Compare('living', living_comparisons, precision=3, random_index='saaty')\n",
    "language = ahpy.Compare('language', language_comparisons, precision=3, random_index='saaty')\n",
    "job = ahpy.Compare('job', job_comparisons, precision=3, random_index='saaty')\n",
    "criteria = ahpy.Compare('criteria', criteria_comparisons, precision=3, random_index='saaty')"
   ]
  },
  {
   "cell_type": "markdown",
   "id": "d901bbb2",
   "metadata": {},
   "source": [
    "5. Creamos la jerarquía"
   ]
  },
  {
   "cell_type": "code",
   "execution_count": 29,
   "id": "3ad4acd2",
   "metadata": {},
   "outputs": [],
   "source": [
    "criteria.add_children([living, language, job])"
   ]
  },
  {
   "cell_type": "markdown",
   "id": "67c40438",
   "metadata": {},
   "source": [
    "6. Resultados"
   ]
  },
  {
   "cell_type": "code",
   "execution_count": 30,
   "id": "d7c366ec",
   "metadata": {},
   "outputs": [
    {
     "name": "stdout",
     "output_type": "stream",
     "text": [
      "{'USA': np.float64(0.027), 'UK': np.float64(0.013), 'Canada': np.float64(0.006), 'Brazil': np.float64(0.003)}\n"
     ]
    }
   ],
   "source": [
    "print(criteria.target_weights)"
   ]
  },
  {
   "cell_type": "markdown",
   "id": "e5894d1d",
   "metadata": {},
   "source": [
    "7. Evaluamos consistencia"
   ]
  },
  {
   "cell_type": "code",
   "execution_count": 31,
   "id": "e481b4df",
   "metadata": {},
   "outputs": [
    {
     "data": {
      "text/plain": [
       "[('living', np.float64(0.057)),\n",
       " ('language', np.float64(0.056)),\n",
       " ('job', np.float64(0.219)),\n",
       " ('criteria', np.float64(0.243))]"
      ]
     },
     "execution_count": 31,
     "metadata": {},
     "output_type": "execute_result"
    }
   ],
   "source": [
    "## We should review comparissons if greater than 0.1!\n",
    "[(val.name,val.consistency_ratio) for val in [living, language, job, criteria]]"
   ]
  },
  {
   "cell_type": "markdown",
   "id": "60f6a0b9-872e-40c1-b681-64d6a9dc26e2",
   "metadata": {
    "id": "60f6a0b9-872e-40c1-b681-64d6a9dc26e2"
   },
   "source": [
    "# Parte 3: *Benchmarking*"
   ]
  },
  {
   "cell_type": "markdown",
   "id": "19cd21f6",
   "metadata": {},
   "source": [
    "<div class=\"alert-success\">\n",
    "\n",
    "<strong>Exercise: Efficiency in Public sector</strong>\n",
    "\n",
    "- Make a group of 2 people from this course.\n",
    "- Find a set of municipalities (homogenity required).\n",
    "- Find a set of common input and out variables for them.\n",
    "- Compute efficiency."
   ]
  },
  {
   "cell_type": "markdown",
   "id": "3552b7d8-df4d-4c4f-80e5-bfbe4f2211af",
   "metadata": {
    "id": "3552b7d8-df4d-4c4f-80e5-bfbe4f2211af"
   },
   "source": [
    "Imagine you have this [information](https://www.sciencedirect.com/science/article/abs/pii/S0377221711007168):"
   ]
  },
  {
   "cell_type": "code",
   "execution_count": 32,
   "id": "908e917e-bed6-488b-9a6b-dafbe5f6d1e5",
   "metadata": {
    "id": "908e917e-bed6-488b-9a6b-dafbe5f6d1e5"
   },
   "outputs": [
    {
     "data": {
      "text/html": [
       "<div>\n",
       "<style scoped>\n",
       "    .dataframe tbody tr th:only-of-type {\n",
       "        vertical-align: middle;\n",
       "    }\n",
       "\n",
       "    .dataframe tbody tr th {\n",
       "        vertical-align: top;\n",
       "    }\n",
       "\n",
       "    .dataframe thead th {\n",
       "        text-align: right;\n",
       "    }\n",
       "</style>\n",
       "<table border=\"1\" class=\"dataframe\">\n",
       "  <thead>\n",
       "    <tr style=\"text-align: right;\">\n",
       "      <th></th>\n",
       "      <th>name</th>\n",
       "      <th>Aircraft</th>\n",
       "      <th>Fuel</th>\n",
       "      <th>Employee</th>\n",
       "      <th>Passenger</th>\n",
       "      <th>Freight</th>\n",
       "    </tr>\n",
       "  </thead>\n",
       "  <tbody>\n",
       "    <tr>\n",
       "      <th>0</th>\n",
       "      <td>A</td>\n",
       "      <td>109</td>\n",
       "      <td>392</td>\n",
       "      <td>8259</td>\n",
       "      <td>23756</td>\n",
       "      <td>870</td>\n",
       "    </tr>\n",
       "    <tr>\n",
       "      <th>1</th>\n",
       "      <td>B</td>\n",
       "      <td>115</td>\n",
       "      <td>381</td>\n",
       "      <td>9628</td>\n",
       "      <td>24183</td>\n",
       "      <td>1359</td>\n",
       "    </tr>\n",
       "    <tr>\n",
       "      <th>2</th>\n",
       "      <td>C</td>\n",
       "      <td>767</td>\n",
       "      <td>2673</td>\n",
       "      <td>70923</td>\n",
       "      <td>163483</td>\n",
       "      <td>12449</td>\n",
       "    </tr>\n",
       "    <tr>\n",
       "      <th>3</th>\n",
       "      <td>D</td>\n",
       "      <td>90</td>\n",
       "      <td>282</td>\n",
       "      <td>9683</td>\n",
       "      <td>10370</td>\n",
       "      <td>509</td>\n",
       "    </tr>\n",
       "    <tr>\n",
       "      <th>4</th>\n",
       "      <td>E</td>\n",
       "      <td>461</td>\n",
       "      <td>1608</td>\n",
       "      <td>40630</td>\n",
       "      <td>99047</td>\n",
       "      <td>3726</td>\n",
       "    </tr>\n",
       "    <tr>\n",
       "      <th>5</th>\n",
       "      <td>F</td>\n",
       "      <td>628</td>\n",
       "      <td>2074</td>\n",
       "      <td>47420</td>\n",
       "      <td>128635</td>\n",
       "      <td>9214</td>\n",
       "    </tr>\n",
       "    <tr>\n",
       "      <th>6</th>\n",
       "      <td>G</td>\n",
       "      <td>81</td>\n",
       "      <td>75</td>\n",
       "      <td>7115</td>\n",
       "      <td>11962</td>\n",
       "      <td>536</td>\n",
       "    </tr>\n",
       "    <tr>\n",
       "      <th>7</th>\n",
       "      <td>I</td>\n",
       "      <td>153</td>\n",
       "      <td>458</td>\n",
       "      <td>10177</td>\n",
       "      <td>32436</td>\n",
       "      <td>1462</td>\n",
       "    </tr>\n",
       "    <tr>\n",
       "      <th>8</th>\n",
       "      <td>J</td>\n",
       "      <td>455</td>\n",
       "      <td>1722</td>\n",
       "      <td>29124</td>\n",
       "      <td>83862</td>\n",
       "      <td>6337</td>\n",
       "    </tr>\n",
       "    <tr>\n",
       "      <th>9</th>\n",
       "      <td>K</td>\n",
       "      <td>103</td>\n",
       "      <td>400</td>\n",
       "      <td>8987</td>\n",
       "      <td>14618</td>\n",
       "      <td>785</td>\n",
       "    </tr>\n",
       "    <tr>\n",
       "      <th>10</th>\n",
       "      <td>L</td>\n",
       "      <td>547</td>\n",
       "      <td>1217</td>\n",
       "      <td>34680</td>\n",
       "      <td>99636</td>\n",
       "      <td>6597</td>\n",
       "    </tr>\n",
       "    <tr>\n",
       "      <th>11</th>\n",
       "      <td>M</td>\n",
       "      <td>560</td>\n",
       "      <td>2532</td>\n",
       "      <td>51536</td>\n",
       "      <td>135480</td>\n",
       "      <td>10928</td>\n",
       "    </tr>\n",
       "    <tr>\n",
       "      <th>12</th>\n",
       "      <td>N</td>\n",
       "      <td>423</td>\n",
       "      <td>1303</td>\n",
       "      <td>32683</td>\n",
       "      <td>74106</td>\n",
       "      <td>4258</td>\n",
       "    </tr>\n",
       "  </tbody>\n",
       "</table>\n",
       "</div>"
      ],
      "text/plain": [
       "   name  Aircraft  Fuel  Employee  Passenger  Freight\n",
       "0     A       109   392      8259      23756      870\n",
       "1     B       115   381      9628      24183     1359\n",
       "2     C       767  2673     70923     163483    12449\n",
       "3     D        90   282      9683      10370      509\n",
       "4     E       461  1608     40630      99047     3726\n",
       "5     F       628  2074     47420     128635     9214\n",
       "6     G        81    75      7115      11962      536\n",
       "7     I       153   458     10177      32436     1462\n",
       "8     J       455  1722     29124      83862     6337\n",
       "9     K       103   400      8987      14618      785\n",
       "10    L       547  1217     34680      99636     6597\n",
       "11    M       560  2532     51536     135480    10928\n",
       "12    N       423  1303     32683      74106     4258"
      ]
     },
     "execution_count": 32,
     "metadata": {},
     "output_type": "execute_result"
    }
   ],
   "source": [
    "airline=pd.read_csv(\"https://raw.githubusercontent.com/SocialAnalytics-StrategicIntelligence/introOptimization/refs/heads/main/airlines_data.csv\")\n",
    "airline"
   ]
  },
  {
   "cell_type": "markdown",
   "id": "10e0fa9a-0cbc-4be6-86a3-e6a457f5e201",
   "metadata": {
    "id": "10e0fa9a-0cbc-4be6-86a3-e6a457f5e201"
   },
   "source": [
    "The first three variables (Aircraft,Fuel,Employee) represent **inputs** and the last two ones represent **outputs**. If that is so, there should be a way to compute some measure of efficiency: the ratio **output/input**.\n",
    "\n",
    "Let's compute some ratios:"
   ]
  },
  {
   "cell_type": "code",
   "execution_count": 33,
   "id": "6f5812f5-d64b-4d05-91e7-57159dbc6368",
   "metadata": {
    "id": "6f5812f5-d64b-4d05-91e7-57159dbc6368"
   },
   "outputs": [],
   "source": [
    "# ratio passenger employee:\n",
    "airline['rate_ClientsByEmployee']=(airline.Passenger/airline.Employee)\n",
    "airline['rate_CargoByFleet']=(airline.Freight/airline.Aircraft)"
   ]
  },
  {
   "cell_type": "markdown",
   "id": "dd7ee6d4-1673-4976-a4a6-2f10b3de2135",
   "metadata": {
    "id": "dd7ee6d4-1673-4976-a4a6-2f10b3de2135"
   },
   "source": [
    "Let me plot those ratios:"
   ]
  },
  {
   "cell_type": "code",
   "execution_count": 34,
   "id": "2f2c746f-28fb-4e24-92d2-aaffc4af7658",
   "metadata": {
    "id": "2f2c746f-28fb-4e24-92d2-aaffc4af7658"
   },
   "outputs": [
    {
     "data": {
      "text/html": [
       "\n",
       "<style>\n",
       "  #altair-viz-9854b148874c4385afd43806780ce280.vega-embed {\n",
       "    width: 100%;\n",
       "    display: flex;\n",
       "  }\n",
       "\n",
       "  #altair-viz-9854b148874c4385afd43806780ce280.vega-embed details,\n",
       "  #altair-viz-9854b148874c4385afd43806780ce280.vega-embed details summary {\n",
       "    position: relative;\n",
       "  }\n",
       "</style>\n",
       "<div id=\"altair-viz-9854b148874c4385afd43806780ce280\"></div>\n",
       "<script type=\"text/javascript\">\n",
       "  var VEGA_DEBUG = (typeof VEGA_DEBUG == \"undefined\") ? {} : VEGA_DEBUG;\n",
       "  (function(spec, embedOpt){\n",
       "    let outputDiv = document.currentScript.previousElementSibling;\n",
       "    if (outputDiv.id !== \"altair-viz-9854b148874c4385afd43806780ce280\") {\n",
       "      outputDiv = document.getElementById(\"altair-viz-9854b148874c4385afd43806780ce280\");\n",
       "    }\n",
       "    const paths = {\n",
       "      \"vega\": \"https://cdn.jsdelivr.net/npm/vega@5?noext\",\n",
       "      \"vega-lib\": \"https://cdn.jsdelivr.net/npm/vega-lib?noext\",\n",
       "      \"vega-lite\": \"https://cdn.jsdelivr.net/npm/vega-lite@5.20.1?noext\",\n",
       "      \"vega-embed\": \"https://cdn.jsdelivr.net/npm/vega-embed@6?noext\",\n",
       "    };\n",
       "\n",
       "    function maybeLoadScript(lib, version) {\n",
       "      var key = `${lib.replace(\"-\", \"\")}_version`;\n",
       "      return (VEGA_DEBUG[key] == version) ?\n",
       "        Promise.resolve(paths[lib]) :\n",
       "        new Promise(function(resolve, reject) {\n",
       "          var s = document.createElement('script');\n",
       "          document.getElementsByTagName(\"head\")[0].appendChild(s);\n",
       "          s.async = true;\n",
       "          s.onload = () => {\n",
       "            VEGA_DEBUG[key] = version;\n",
       "            return resolve(paths[lib]);\n",
       "          };\n",
       "          s.onerror = () => reject(`Error loading script: ${paths[lib]}`);\n",
       "          s.src = paths[lib];\n",
       "        });\n",
       "    }\n",
       "\n",
       "    function showError(err) {\n",
       "      outputDiv.innerHTML = `<div class=\"error\" style=\"color:red;\">${err}</div>`;\n",
       "      throw err;\n",
       "    }\n",
       "\n",
       "    function displayChart(vegaEmbed) {\n",
       "      vegaEmbed(outputDiv, spec, embedOpt)\n",
       "        .catch(err => showError(`Javascript Error: ${err.message}<br>This usually means there's a typo in your chart specification. See the javascript console for the full traceback.`));\n",
       "    }\n",
       "\n",
       "    if(typeof define === \"function\" && define.amd) {\n",
       "      requirejs.config({paths});\n",
       "      require([\"vega-embed\"], displayChart, err => showError(`Error loading script: ${err.message}`));\n",
       "    } else {\n",
       "      maybeLoadScript(\"vega\", \"5\")\n",
       "        .then(() => maybeLoadScript(\"vega-lite\", \"5.20.1\"))\n",
       "        .then(() => maybeLoadScript(\"vega-embed\", \"6\"))\n",
       "        .catch(showError)\n",
       "        .then(() => displayChart(vegaEmbed));\n",
       "    }\n",
       "  })({\"config\": {\"view\": {\"continuousWidth\": 300, \"continuousHeight\": 300}}, \"layer\": [{\"mark\": {\"type\": \"point\"}, \"encoding\": {\"x\": {\"field\": \"rate_ClientsByEmployee\", \"type\": \"quantitative\"}, \"y\": {\"field\": \"rate_CargoByFleet\", \"type\": \"quantitative\"}}}, {\"mark\": {\"type\": \"text\", \"align\": \"right\", \"baseline\": \"middle\", \"dx\": -7}, \"encoding\": {\"text\": {\"field\": \"name\", \"type\": \"nominal\"}, \"x\": {\"field\": \"rate_ClientsByEmployee\", \"type\": \"quantitative\"}, \"y\": {\"field\": \"rate_CargoByFleet\", \"type\": \"quantitative\"}}, \"name\": \"view_1\"}], \"data\": {\"name\": \"data-4c03cc2a1b585fb3c50c138f34dd2247\"}, \"params\": [{\"name\": \"param_1\", \"select\": {\"type\": \"interval\", \"encodings\": [\"x\", \"y\"]}, \"bind\": \"scales\", \"views\": [\"view_1\"]}], \"$schema\": \"https://vega.github.io/schema/vega-lite/v5.20.1.json\", \"datasets\": {\"data-4c03cc2a1b585fb3c50c138f34dd2247\": [{\"name\": \"A\", \"Aircraft\": 109, \"Fuel\": 392, \"Employee\": 8259, \"Passenger\": 23756, \"Freight\": 870, \"rate_ClientsByEmployee\": 2.8763772853856397, \"rate_CargoByFleet\": 7.981651376146789}, {\"name\": \"B\", \"Aircraft\": 115, \"Fuel\": 381, \"Employee\": 9628, \"Passenger\": 24183, \"Freight\": 1359, \"rate_ClientsByEmployee\": 2.5117366015787286, \"rate_CargoByFleet\": 11.817391304347826}, {\"name\": \"C\", \"Aircraft\": 767, \"Fuel\": 2673, \"Employee\": 70923, \"Passenger\": 163483, \"Freight\": 12449, \"rate_ClientsByEmployee\": 2.305077337394075, \"rate_CargoByFleet\": 16.23076923076923}, {\"name\": \"D\", \"Aircraft\": 90, \"Fuel\": 282, \"Employee\": 9683, \"Passenger\": 10370, \"Freight\": 509, \"rate_ClientsByEmployee\": 1.0709490860270576, \"rate_CargoByFleet\": 5.655555555555556}, {\"name\": \"E\", \"Aircraft\": 461, \"Fuel\": 1608, \"Employee\": 40630, \"Passenger\": 99047, \"Freight\": 3726, \"rate_ClientsByEmployee\": 2.4377799655427026, \"rate_CargoByFleet\": 8.082429501084599}, {\"name\": \"F\", \"Aircraft\": 628, \"Fuel\": 2074, \"Employee\": 47420, \"Passenger\": 128635, \"Freight\": 9214, \"rate_ClientsByEmployee\": 2.7126739772248, \"rate_CargoByFleet\": 14.671974522292993}, {\"name\": \"G\", \"Aircraft\": 81, \"Fuel\": 75, \"Employee\": 7115, \"Passenger\": 11962, \"Freight\": 536, \"rate_ClientsByEmployee\": 1.6812368236120872, \"rate_CargoByFleet\": 6.617283950617284}, {\"name\": \"I\", \"Aircraft\": 153, \"Fuel\": 458, \"Employee\": 10177, \"Passenger\": 32436, \"Freight\": 1462, \"rate_ClientsByEmployee\": 3.187186793750614, \"rate_CargoByFleet\": 9.555555555555555}, {\"name\": \"J\", \"Aircraft\": 455, \"Fuel\": 1722, \"Employee\": 29124, \"Passenger\": 83862, \"Freight\": 6337, \"rate_ClientsByEmployee\": 2.879480840543881, \"rate_CargoByFleet\": 13.927472527472528}, {\"name\": \"K\", \"Aircraft\": 103, \"Fuel\": 400, \"Employee\": 8987, \"Passenger\": 14618, \"Freight\": 785, \"rate_ClientsByEmployee\": 1.6265717146990097, \"rate_CargoByFleet\": 7.621359223300971}, {\"name\": \"L\", \"Aircraft\": 547, \"Fuel\": 1217, \"Employee\": 34680, \"Passenger\": 99636, \"Freight\": 6597, \"rate_ClientsByEmployee\": 2.8730103806228375, \"rate_CargoByFleet\": 12.060329067641682}, {\"name\": \"M\", \"Aircraft\": 560, \"Fuel\": 2532, \"Employee\": 51536, \"Passenger\": 135480, \"Freight\": 10928, \"rate_ClientsByEmployee\": 2.6288419745420675, \"rate_CargoByFleet\": 19.514285714285716}, {\"name\": \"N\", \"Aircraft\": 423, \"Fuel\": 1303, \"Employee\": 32683, \"Passenger\": 74106, \"Freight\": 4258, \"rate_ClientsByEmployee\": 2.267417311752287, \"rate_CargoByFleet\": 10.066193853427896}]}}, {\"mode\": \"vega-lite\"});\n",
       "</script>"
      ],
      "text/plain": [
       "alt.LayerChart(...)"
      ]
     },
     "execution_count": 34,
     "metadata": {},
     "output_type": "execute_result"
    }
   ],
   "source": [
    "import altair as alt\n",
    "\n",
    "points = alt.Chart(airline).mark_point().encode(\n",
    "    x='rate_ClientsByEmployee:Q',\n",
    "    y='rate_CargoByFleet:Q'\n",
    ")\n",
    "\n",
    "text = points.mark_text(\n",
    "    align='right',\n",
    "    baseline='middle',\n",
    "    dx=-7\n",
    ").encode(\n",
    "    text='name'\n",
    ").interactive()\n",
    "\n",
    "points + text"
   ]
  },
  {
   "cell_type": "markdown",
   "id": "c0665021-e733-4e7d-bf03-fca028b269c9",
   "metadata": {
    "id": "c0665021-e733-4e7d-bf03-fca028b269c9"
   },
   "source": [
    "Which one is more efficient? As you see, one airline might not be good in both ratios:"
   ]
  },
  {
   "cell_type": "code",
   "execution_count": 35,
   "id": "9333f68a-1e25-4d03-907d-f142a623823f",
   "metadata": {
    "id": "9333f68a-1e25-4d03-907d-f142a623823f"
   },
   "outputs": [
    {
     "data": {
      "text/html": [
       "<div>\n",
       "<style scoped>\n",
       "    .dataframe tbody tr th:only-of-type {\n",
       "        vertical-align: middle;\n",
       "    }\n",
       "\n",
       "    .dataframe tbody tr th {\n",
       "        vertical-align: top;\n",
       "    }\n",
       "\n",
       "    .dataframe thead th {\n",
       "        text-align: right;\n",
       "    }\n",
       "</style>\n",
       "<table border=\"1\" class=\"dataframe\">\n",
       "  <thead>\n",
       "    <tr style=\"text-align: right;\">\n",
       "      <th></th>\n",
       "      <th>name</th>\n",
       "      <th>rate_ClientsByEmployee</th>\n",
       "      <th>rate_CargoByFleet</th>\n",
       "    </tr>\n",
       "  </thead>\n",
       "  <tbody>\n",
       "    <tr>\n",
       "      <th>7</th>\n",
       "      <td>I</td>\n",
       "      <td>3.187187</td>\n",
       "      <td>9.555556</td>\n",
       "    </tr>\n",
       "    <tr>\n",
       "      <th>8</th>\n",
       "      <td>J</td>\n",
       "      <td>2.879481</td>\n",
       "      <td>13.927473</td>\n",
       "    </tr>\n",
       "    <tr>\n",
       "      <th>0</th>\n",
       "      <td>A</td>\n",
       "      <td>2.876377</td>\n",
       "      <td>7.981651</td>\n",
       "    </tr>\n",
       "    <tr>\n",
       "      <th>10</th>\n",
       "      <td>L</td>\n",
       "      <td>2.873010</td>\n",
       "      <td>12.060329</td>\n",
       "    </tr>\n",
       "    <tr>\n",
       "      <th>5</th>\n",
       "      <td>F</td>\n",
       "      <td>2.712674</td>\n",
       "      <td>14.671975</td>\n",
       "    </tr>\n",
       "  </tbody>\n",
       "</table>\n",
       "</div>"
      ],
      "text/plain": [
       "   name  rate_ClientsByEmployee  rate_CargoByFleet\n",
       "7     I                3.187187           9.555556\n",
       "8     J                2.879481          13.927473\n",
       "0     A                2.876377           7.981651\n",
       "10    L                2.873010          12.060329\n",
       "5     F                2.712674          14.671975"
      ]
     },
     "execution_count": 35,
     "metadata": {},
     "output_type": "execute_result"
    }
   ],
   "source": [
    "airline[['name','rate_ClientsByEmployee','rate_CargoByFleet']].sort_values(by='rate_ClientsByEmployee',ascending=False).head()"
   ]
  },
  {
   "cell_type": "code",
   "execution_count": 36,
   "id": "3c2a7e8b-71ba-4f97-a0de-1e4bc02f285f",
   "metadata": {
    "id": "3c2a7e8b-71ba-4f97-a0de-1e4bc02f285f"
   },
   "outputs": [
    {
     "data": {
      "text/html": [
       "<div>\n",
       "<style scoped>\n",
       "    .dataframe tbody tr th:only-of-type {\n",
       "        vertical-align: middle;\n",
       "    }\n",
       "\n",
       "    .dataframe tbody tr th {\n",
       "        vertical-align: top;\n",
       "    }\n",
       "\n",
       "    .dataframe thead th {\n",
       "        text-align: right;\n",
       "    }\n",
       "</style>\n",
       "<table border=\"1\" class=\"dataframe\">\n",
       "  <thead>\n",
       "    <tr style=\"text-align: right;\">\n",
       "      <th></th>\n",
       "      <th>name</th>\n",
       "      <th>rate_ClientsByEmployee</th>\n",
       "      <th>rate_CargoByFleet</th>\n",
       "    </tr>\n",
       "  </thead>\n",
       "  <tbody>\n",
       "    <tr>\n",
       "      <th>11</th>\n",
       "      <td>M</td>\n",
       "      <td>2.628842</td>\n",
       "      <td>19.514286</td>\n",
       "    </tr>\n",
       "    <tr>\n",
       "      <th>2</th>\n",
       "      <td>C</td>\n",
       "      <td>2.305077</td>\n",
       "      <td>16.230769</td>\n",
       "    </tr>\n",
       "    <tr>\n",
       "      <th>5</th>\n",
       "      <td>F</td>\n",
       "      <td>2.712674</td>\n",
       "      <td>14.671975</td>\n",
       "    </tr>\n",
       "    <tr>\n",
       "      <th>8</th>\n",
       "      <td>J</td>\n",
       "      <td>2.879481</td>\n",
       "      <td>13.927473</td>\n",
       "    </tr>\n",
       "    <tr>\n",
       "      <th>10</th>\n",
       "      <td>L</td>\n",
       "      <td>2.873010</td>\n",
       "      <td>12.060329</td>\n",
       "    </tr>\n",
       "  </tbody>\n",
       "</table>\n",
       "</div>"
      ],
      "text/plain": [
       "   name  rate_ClientsByEmployee  rate_CargoByFleet\n",
       "11    M                2.628842          19.514286\n",
       "2     C                2.305077          16.230769\n",
       "5     F                2.712674          14.671975\n",
       "8     J                2.879481          13.927473\n",
       "10    L                2.873010          12.060329"
      ]
     },
     "execution_count": 36,
     "metadata": {},
     "output_type": "execute_result"
    }
   ],
   "source": [
    "airline[['name','rate_ClientsByEmployee','rate_CargoByFleet']].sort_values(by='rate_CargoByFleet',ascending=False).head()"
   ]
  },
  {
   "cell_type": "markdown",
   "id": "d22cef46-f69f-4ca0-bfe0-69e4d6cd2f81",
   "metadata": {
    "id": "d22cef46-f69f-4ca0-bfe0-69e4d6cd2f81"
   },
   "source": [
    "Let me show you the **envelope**:"
   ]
  },
  {
   "cell_type": "code",
   "execution_count": 37,
   "id": "d71901fd-13dc-45c1-b01f-39005c3b04a7",
   "metadata": {
    "id": "d71901fd-13dc-45c1-b01f-39005c3b04a7"
   },
   "outputs": [
    {
     "data": {
      "text/html": [
       "<div>\n",
       "<style scoped>\n",
       "    .dataframe tbody tr th:only-of-type {\n",
       "        vertical-align: middle;\n",
       "    }\n",
       "\n",
       "    .dataframe tbody tr th {\n",
       "        vertical-align: top;\n",
       "    }\n",
       "\n",
       "    .dataframe thead th {\n",
       "        text-align: right;\n",
       "    }\n",
       "</style>\n",
       "<table border=\"1\" class=\"dataframe\">\n",
       "  <thead>\n",
       "    <tr style=\"text-align: right;\">\n",
       "      <th></th>\n",
       "      <th>x</th>\n",
       "      <th>y</th>\n",
       "    </tr>\n",
       "  </thead>\n",
       "  <tbody>\n",
       "    <tr>\n",
       "      <th>0</th>\n",
       "      <td>0.000000</td>\n",
       "      <td>19.514286</td>\n",
       "    </tr>\n",
       "    <tr>\n",
       "      <th>1</th>\n",
       "      <td>2.628842</td>\n",
       "      <td>19.514286</td>\n",
       "    </tr>\n",
       "    <tr>\n",
       "      <th>2</th>\n",
       "      <td>3.187187</td>\n",
       "      <td>9.555556</td>\n",
       "    </tr>\n",
       "    <tr>\n",
       "      <th>3</th>\n",
       "      <td>3.187187</td>\n",
       "      <td>0.000000</td>\n",
       "    </tr>\n",
       "  </tbody>\n",
       "</table>\n",
       "</div>"
      ],
      "text/plain": [
       "          x          y\n",
       "0  0.000000  19.514286\n",
       "1  2.628842  19.514286\n",
       "2  3.187187   9.555556\n",
       "3  3.187187   0.000000"
      ]
     },
     "execution_count": 37,
     "metadata": {},
     "output_type": "execute_result"
    }
   ],
   "source": [
    "Best_ClientsByEmployee=airline.rate_ClientsByEmployee.idxmax()\n",
    "Best_CargoByFleet=airline.rate_CargoByFleet.idxmax()\n",
    "\n",
    "frontier1=airline.loc[Best_ClientsByEmployee,['rate_ClientsByEmployee','rate_CargoByFleet']].to_list()\n",
    "frontier2=airline.loc[Best_CargoByFleet,['rate_ClientsByEmployee','rate_CargoByFleet']].to_list()\n",
    "\n",
    "#parallels\n",
    "frontier1v=[frontier1[0],0]\n",
    "frontier2h=[0,frontier2[1]]\n",
    "\n",
    "#then\n",
    "envelope=pd.DataFrame([frontier2h,frontier2,frontier1,frontier1v],columns=['x','y'])\n",
    "envelope"
   ]
  },
  {
   "cell_type": "markdown",
   "id": "d4253373-1d5a-4944-a782-922959dd399b",
   "metadata": {
    "id": "d4253373-1d5a-4944-a782-922959dd399b"
   },
   "source": [
    "Updating the plot:"
   ]
  },
  {
   "cell_type": "code",
   "execution_count": 38,
   "id": "ca1f47ef-b224-4141-aade-887208a19fa5",
   "metadata": {
    "id": "ca1f47ef-b224-4141-aade-887208a19fa5"
   },
   "outputs": [
    {
     "data": {
      "text/html": [
       "\n",
       "<style>\n",
       "  #altair-viz-cfc7275d1c9c43b693441645c6e57383.vega-embed {\n",
       "    width: 100%;\n",
       "    display: flex;\n",
       "  }\n",
       "\n",
       "  #altair-viz-cfc7275d1c9c43b693441645c6e57383.vega-embed details,\n",
       "  #altair-viz-cfc7275d1c9c43b693441645c6e57383.vega-embed details summary {\n",
       "    position: relative;\n",
       "  }\n",
       "</style>\n",
       "<div id=\"altair-viz-cfc7275d1c9c43b693441645c6e57383\"></div>\n",
       "<script type=\"text/javascript\">\n",
       "  var VEGA_DEBUG = (typeof VEGA_DEBUG == \"undefined\") ? {} : VEGA_DEBUG;\n",
       "  (function(spec, embedOpt){\n",
       "    let outputDiv = document.currentScript.previousElementSibling;\n",
       "    if (outputDiv.id !== \"altair-viz-cfc7275d1c9c43b693441645c6e57383\") {\n",
       "      outputDiv = document.getElementById(\"altair-viz-cfc7275d1c9c43b693441645c6e57383\");\n",
       "    }\n",
       "    const paths = {\n",
       "      \"vega\": \"https://cdn.jsdelivr.net/npm/vega@5?noext\",\n",
       "      \"vega-lib\": \"https://cdn.jsdelivr.net/npm/vega-lib?noext\",\n",
       "      \"vega-lite\": \"https://cdn.jsdelivr.net/npm/vega-lite@5.20.1?noext\",\n",
       "      \"vega-embed\": \"https://cdn.jsdelivr.net/npm/vega-embed@6?noext\",\n",
       "    };\n",
       "\n",
       "    function maybeLoadScript(lib, version) {\n",
       "      var key = `${lib.replace(\"-\", \"\")}_version`;\n",
       "      return (VEGA_DEBUG[key] == version) ?\n",
       "        Promise.resolve(paths[lib]) :\n",
       "        new Promise(function(resolve, reject) {\n",
       "          var s = document.createElement('script');\n",
       "          document.getElementsByTagName(\"head\")[0].appendChild(s);\n",
       "          s.async = true;\n",
       "          s.onload = () => {\n",
       "            VEGA_DEBUG[key] = version;\n",
       "            return resolve(paths[lib]);\n",
       "          };\n",
       "          s.onerror = () => reject(`Error loading script: ${paths[lib]}`);\n",
       "          s.src = paths[lib];\n",
       "        });\n",
       "    }\n",
       "\n",
       "    function showError(err) {\n",
       "      outputDiv.innerHTML = `<div class=\"error\" style=\"color:red;\">${err}</div>`;\n",
       "      throw err;\n",
       "    }\n",
       "\n",
       "    function displayChart(vegaEmbed) {\n",
       "      vegaEmbed(outputDiv, spec, embedOpt)\n",
       "        .catch(err => showError(`Javascript Error: ${err.message}<br>This usually means there's a typo in your chart specification. See the javascript console for the full traceback.`));\n",
       "    }\n",
       "\n",
       "    if(typeof define === \"function\" && define.amd) {\n",
       "      requirejs.config({paths});\n",
       "      require([\"vega-embed\"], displayChart, err => showError(`Error loading script: ${err.message}`));\n",
       "    } else {\n",
       "      maybeLoadScript(\"vega\", \"5\")\n",
       "        .then(() => maybeLoadScript(\"vega-lite\", \"5.20.1\"))\n",
       "        .then(() => maybeLoadScript(\"vega-embed\", \"6\"))\n",
       "        .catch(showError)\n",
       "        .then(() => displayChart(vegaEmbed));\n",
       "    }\n",
       "  })({\"config\": {\"view\": {\"continuousWidth\": 300, \"continuousHeight\": 300}}, \"layer\": [{\"mark\": {\"type\": \"point\"}, \"encoding\": {\"x\": {\"field\": \"rate_ClientsByEmployee\", \"type\": \"quantitative\"}, \"y\": {\"field\": \"rate_CargoByFleet\", \"type\": \"quantitative\"}}}, {\"mark\": {\"type\": \"text\", \"align\": \"right\", \"baseline\": \"middle\", \"dx\": -7}, \"encoding\": {\"text\": {\"field\": \"name\", \"type\": \"nominal\"}, \"x\": {\"field\": \"rate_ClientsByEmployee\", \"type\": \"quantitative\"}, \"y\": {\"field\": \"rate_CargoByFleet\", \"type\": \"quantitative\"}}, \"name\": \"view_2\"}, {\"data\": {\"name\": \"data-758cd33b7cfa1f06da75b14e8b07ebd3\"}, \"mark\": {\"type\": \"line\", \"color\": \"red\"}, \"encoding\": {\"x\": {\"field\": \"x\", \"type\": \"quantitative\"}, \"y\": {\"field\": \"y\", \"type\": \"quantitative\"}}}], \"data\": {\"name\": \"data-4c03cc2a1b585fb3c50c138f34dd2247\"}, \"params\": [{\"name\": \"param_1\", \"select\": {\"type\": \"interval\", \"encodings\": [\"x\", \"y\"]}, \"bind\": \"scales\", \"views\": [\"view_2\"]}], \"$schema\": \"https://vega.github.io/schema/vega-lite/v5.20.1.json\", \"datasets\": {\"data-4c03cc2a1b585fb3c50c138f34dd2247\": [{\"name\": \"A\", \"Aircraft\": 109, \"Fuel\": 392, \"Employee\": 8259, \"Passenger\": 23756, \"Freight\": 870, \"rate_ClientsByEmployee\": 2.8763772853856397, \"rate_CargoByFleet\": 7.981651376146789}, {\"name\": \"B\", \"Aircraft\": 115, \"Fuel\": 381, \"Employee\": 9628, \"Passenger\": 24183, \"Freight\": 1359, \"rate_ClientsByEmployee\": 2.5117366015787286, \"rate_CargoByFleet\": 11.817391304347826}, {\"name\": \"C\", \"Aircraft\": 767, \"Fuel\": 2673, \"Employee\": 70923, \"Passenger\": 163483, \"Freight\": 12449, \"rate_ClientsByEmployee\": 2.305077337394075, \"rate_CargoByFleet\": 16.23076923076923}, {\"name\": \"D\", \"Aircraft\": 90, \"Fuel\": 282, \"Employee\": 9683, \"Passenger\": 10370, \"Freight\": 509, \"rate_ClientsByEmployee\": 1.0709490860270576, \"rate_CargoByFleet\": 5.655555555555556}, {\"name\": \"E\", \"Aircraft\": 461, \"Fuel\": 1608, \"Employee\": 40630, \"Passenger\": 99047, \"Freight\": 3726, \"rate_ClientsByEmployee\": 2.4377799655427026, \"rate_CargoByFleet\": 8.082429501084599}, {\"name\": \"F\", \"Aircraft\": 628, \"Fuel\": 2074, \"Employee\": 47420, \"Passenger\": 128635, \"Freight\": 9214, \"rate_ClientsByEmployee\": 2.7126739772248, \"rate_CargoByFleet\": 14.671974522292993}, {\"name\": \"G\", \"Aircraft\": 81, \"Fuel\": 75, \"Employee\": 7115, \"Passenger\": 11962, \"Freight\": 536, \"rate_ClientsByEmployee\": 1.6812368236120872, \"rate_CargoByFleet\": 6.617283950617284}, {\"name\": \"I\", \"Aircraft\": 153, \"Fuel\": 458, \"Employee\": 10177, \"Passenger\": 32436, \"Freight\": 1462, \"rate_ClientsByEmployee\": 3.187186793750614, \"rate_CargoByFleet\": 9.555555555555555}, {\"name\": \"J\", \"Aircraft\": 455, \"Fuel\": 1722, \"Employee\": 29124, \"Passenger\": 83862, \"Freight\": 6337, \"rate_ClientsByEmployee\": 2.879480840543881, \"rate_CargoByFleet\": 13.927472527472528}, {\"name\": \"K\", \"Aircraft\": 103, \"Fuel\": 400, \"Employee\": 8987, \"Passenger\": 14618, \"Freight\": 785, \"rate_ClientsByEmployee\": 1.6265717146990097, \"rate_CargoByFleet\": 7.621359223300971}, {\"name\": \"L\", \"Aircraft\": 547, \"Fuel\": 1217, \"Employee\": 34680, \"Passenger\": 99636, \"Freight\": 6597, \"rate_ClientsByEmployee\": 2.8730103806228375, \"rate_CargoByFleet\": 12.060329067641682}, {\"name\": \"M\", \"Aircraft\": 560, \"Fuel\": 2532, \"Employee\": 51536, \"Passenger\": 135480, \"Freight\": 10928, \"rate_ClientsByEmployee\": 2.6288419745420675, \"rate_CargoByFleet\": 19.514285714285716}, {\"name\": \"N\", \"Aircraft\": 423, \"Fuel\": 1303, \"Employee\": 32683, \"Passenger\": 74106, \"Freight\": 4258, \"rate_ClientsByEmployee\": 2.267417311752287, \"rate_CargoByFleet\": 10.066193853427896}], \"data-758cd33b7cfa1f06da75b14e8b07ebd3\": [{\"x\": 0.0, \"y\": 19.514285714285716}, {\"x\": 2.6288419745420675, \"y\": 19.514285714285716}, {\"x\": 3.187186793750614, \"y\": 9.555555555555555}, {\"x\": 3.187186793750614, \"y\": 0.0}]}}, {\"mode\": \"vega-lite\"});\n",
       "</script>"
      ],
      "text/plain": [
       "alt.LayerChart(...)"
      ]
     },
     "execution_count": 38,
     "metadata": {},
     "output_type": "execute_result"
    }
   ],
   "source": [
    "points + text + alt.Chart(envelope).mark_line(color='red').encode(\n",
    "    x='x',\n",
    "    y='y',\n",
    ")"
   ]
  },
  {
   "cell_type": "markdown",
   "id": "2ef65583-5277-43fd-8338-080d7f7d8525",
   "metadata": {
    "id": "2ef65583-5277-43fd-8338-080d7f7d8525"
   },
   "source": [
    "The presence of several units (DMUs), several inputs, and several outputs makes it difficult to judge who is doing better. This an optimization problem that may be carried out using **Pyfrontier**:"
   ]
  },
  {
   "cell_type": "code",
   "execution_count": null,
   "id": "4247566e-f442-4151-a776-d5aafbe4e93e",
   "metadata": {
    "id": "4247566e-f442-4151-a776-d5aafbe4e93e"
   },
   "outputs": [
    {
     "name": "stdout",
     "output_type": "stream",
     "text": [
      "Collecting Pyfrontier\n",
      "  Downloading Pyfrontier-1.0.2-py3-none-any.whl.metadata (2.7 kB)\n",
      "Requirement already satisfied: numpy>=1.21 in c:\\users\\nicolas silva\\appdata\\local\\programs\\python\\python312\\lib\\site-packages (from Pyfrontier) (2.0.2)\n",
      "Requirement already satisfied: pulp>=2.6.0 in c:\\users\\nicolas silva\\appdata\\local\\programs\\python\\python312\\lib\\site-packages (from Pyfrontier) (2.9.0)\n",
      "Downloading Pyfrontier-1.0.2-py3-none-any.whl (15 kB)\n",
      "Installing collected packages: Pyfrontier\n",
      "Successfully installed Pyfrontier-1.0.2\n"
     ]
    },
    {
     "name": "stderr",
     "output_type": "stream",
     "text": [
      "\n",
      "[notice] A new release of pip is available: 24.2 -> 24.3.1\n",
      "[notice] To update, run: python.exe -m pip install --upgrade pip\n"
     ]
    }
   ],
   "source": [
    "## installation\n",
    "#!pip install Pyfrontier"
   ]
  },
  {
   "cell_type": "markdown",
   "id": "59b0f779-fa22-4c99-9346-2e25aa80afbc",
   "metadata": {
    "id": "59b0f779-fa22-4c99-9346-2e25aa80afbc"
   },
   "source": [
    "Let me recover the names for each group of variables:"
   ]
  },
  {
   "cell_type": "code",
   "execution_count": 40,
   "id": "e157f107-913d-4877-b1a3-3bae3e0e93e9",
   "metadata": {
    "id": "e157f107-913d-4877-b1a3-3bae3e0e93e9"
   },
   "outputs": [],
   "source": [
    "airlineInput=airline.columns[1:4].to_list()\n",
    "airlineOutput=airline.columns[4:6].to_list()"
   ]
  },
  {
   "cell_type": "markdown",
   "id": "9b202766-484f-4b33-8cc4-235059540290",
   "metadata": {
    "id": "9b202766-484f-4b33-8cc4-235059540290"
   },
   "source": [
    "Let's apply the function:"
   ]
  },
  {
   "cell_type": "code",
   "execution_count": 41,
   "id": "8d077a3c-08f5-4ee2-98fe-36cc707522b9",
   "metadata": {
    "id": "8d077a3c-08f5-4ee2-98fe-36cc707522b9"
   },
   "outputs": [],
   "source": [
    "from Pyfrontier.frontier_model import EnvelopDEA\n",
    "\n",
    "dea_air_vrs_in = EnvelopDEA(\"VRS\", \"in\")\n",
    "dea_air_vrs_in.fit(\n",
    "    inputs=airline[airlineInput].to_numpy(),\n",
    "    outputs=airline[airlineOutput].to_numpy()\n",
    ")"
   ]
  },
  {
   "cell_type": "markdown",
   "id": "d7d42a32-693a-4c39-9153-588466d2df0f",
   "metadata": {
    "id": "d7d42a32-693a-4c39-9153-588466d2df0f"
   },
   "source": [
    "Here is the result:"
   ]
  },
  {
   "cell_type": "code",
   "execution_count": 42,
   "id": "85a16e24-54fa-4558-a9b3-f0165c078a99",
   "metadata": {
    "id": "85a16e24-54fa-4558-a9b3-f0165c078a99"
   },
   "outputs": [
    {
     "data": {
      "text/plain": [
       "name\n",
       "A    1.000000\n",
       "B    1.000000\n",
       "C    1.000000\n",
       "D    0.900000\n",
       "E    0.995561\n",
       "F    1.000000\n",
       "G    1.000000\n",
       "I    1.000000\n",
       "J    1.000000\n",
       "K    0.886279\n",
       "L    1.000000\n",
       "M    1.000000\n",
       "N    0.848598\n",
       "Name: vrs_in, dtype: float64"
      ]
     },
     "execution_count": 42,
     "metadata": {},
     "output_type": "execute_result"
    }
   ],
   "source": [
    "airline['vrs_in']=[r.score for r in dea_air_vrs_in.result]\n",
    "airline.set_index(airline.name,inplace=True)\n",
    "airline['vrs_in']"
   ]
  },
  {
   "cell_type": "markdown",
   "id": "fb60762d-fdf7-4a0a-8565-faa149f3c55b",
   "metadata": {
    "id": "fb60762d-fdf7-4a0a-8565-faa149f3c55b"
   },
   "source": [
    "At this stage, you may be tempted to do a regression:"
   ]
  },
  {
   "cell_type": "code",
   "execution_count": null,
   "id": "aec8fe2a-09f2-400c-960b-2b12450c35a8",
   "metadata": {
    "id": "aec8fe2a-09f2-400c-960b-2b12450c35a8"
   },
   "outputs": [
    {
     "name": "stdout",
     "output_type": "stream",
     "text": [
      "Collecting py4etrics\n",
      "  Downloading py4etrics-0.1.9-py2.py3-none-any.whl.metadata (1.8 kB)\n",
      "Downloading py4etrics-0.1.9-py2.py3-none-any.whl (19 kB)\n",
      "Installing collected packages: py4etrics\n",
      "Successfully installed py4etrics-0.1.9\n"
     ]
    },
    {
     "name": "stderr",
     "output_type": "stream",
     "text": [
      "\n",
      "[notice] A new release of pip is available: 24.2 -> 24.3.1\n",
      "[notice] To update, run: python.exe -m pip install --upgrade pip\n"
     ]
    }
   ],
   "source": [
    "#!pip install py4etrics\n"
   ]
  },
  {
   "cell_type": "code",
   "execution_count": 44,
   "id": "db3f11f1-6520-4303-9dc9-e7352153afb0",
   "metadata": {
    "id": "db3f11f1-6520-4303-9dc9-e7352153afb0"
   },
   "outputs": [
    {
     "name": "stdout",
     "output_type": "stream",
     "text": [
      "Optimization terminated successfully.\n",
      "         Current function value: 0.725578\n",
      "         Iterations: 679\n",
      "         Function evaluations: 1043\n"
     ]
    },
    {
     "name": "stderr",
     "output_type": "stream",
     "text": [
      "c:\\Users\\Nicolas Silva\\AppData\\Local\\Programs\\Python\\Python312\\Lib\\site-packages\\statsmodels\\base\\model.py:595: HessianInversionWarning: Inverting hessian failed, no bse or cov_params available\n",
      "  warnings.warn('Inverting hessian failed, no bse or cov_params '\n"
     ]
    },
    {
     "data": {
      "text/html": [
       "<table class=\"simpletable\">\n",
       "<caption>Tobit Regression Results</caption>\n",
       "<tr>\n",
       "  <th>Dep. Variable:</th>                <td>vrs_in</td>       <th>  Pseudo R-squ:      </th>  <td>-3.471</td>  \n",
       "</tr>\n",
       "<tr>\n",
       "  <th>Method:</th>                 <td>Maximum Likelihood</td> <th>  Log-Likelihood:    </th>   <td>-9.4</td>   \n",
       "</tr>\n",
       "<tr>\n",
       "  <th>No. Observations:</th>             <td>    13</td>       <th>  LL-Null:           </th>   <td>-2.1</td>   \n",
       "</tr>\n",
       "<tr>\n",
       "  <th>No. Uncensored Obs:</th>              <td>4</td>         <th>  LL-Ratio:          </th>   <td>-14.6</td>  \n",
       "</tr>\n",
       "<tr>\n",
       "  <th>No. Left-censored Obs:</th>           <td>0</td>         <th>  LLR p-value:       </th>   <td>1.000</td>  \n",
       "</tr>\n",
       "<tr>\n",
       "  <th>No. Right-censored Obs:</th>          <td>9</td>         <th>  AIC:               </th>   <td>26.9</td>   \n",
       "</tr>\n",
       "<tr>\n",
       "  <th>Df Residuals:</th>                 <td>     8</td>       <th>  BIC:               </th>   <td>29.1</td>   \n",
       "</tr>\n",
       "<tr>\n",
       "  <th>Df Model:</th>                     <td>     4</td>       <th>  Covariance Type:   </th> <td>nonrobust</td>\n",
       "</tr>\n",
       "</table>\n",
       "<table class=\"simpletable\">\n",
       "<tr>\n",
       "       <td></td>         <th>coef</th>     <th>std err</th>      <th>z</th>      <th>P>|z|</th>  <th>[0.025</th>    <th>0.975]</th>  \n",
       "</tr>\n",
       "<tr>\n",
       "  <th>Aircraft</th>   <td>    0.0091</td> <td>      nan</td> <td>      nan</td> <td>   nan</td> <td>      nan</td> <td>      nan</td>\n",
       "</tr>\n",
       "<tr>\n",
       "  <th>Fuel</th>       <td>   -0.0032</td> <td>      nan</td> <td>      nan</td> <td>   nan</td> <td>      nan</td> <td>      nan</td>\n",
       "</tr>\n",
       "<tr>\n",
       "  <th>Employee</th>   <td>-2.778e-05</td> <td>      nan</td> <td>      nan</td> <td>   nan</td> <td>      nan</td> <td>      nan</td>\n",
       "</tr>\n",
       "<tr>\n",
       "  <th>Passenger</th>  <td> 1.683e-05</td> <td>      nan</td> <td>      nan</td> <td>   nan</td> <td>      nan</td> <td>      nan</td>\n",
       "</tr>\n",
       "<tr>\n",
       "  <th>Freight</th>    <td>    0.0005</td> <td>      nan</td> <td>      nan</td> <td>   nan</td> <td>      nan</td> <td>      nan</td>\n",
       "</tr>\n",
       "<tr>\n",
       "  <th>Log(Sigma)</th> <td>    0.0523</td> <td>      nan</td> <td>      nan</td> <td>   nan</td> <td>      nan</td> <td>      nan</td>\n",
       "</tr>\n",
       "</table>"
      ],
      "text/latex": [
       "\\begin{center}\n",
       "\\begin{tabular}{lclc}\n",
       "\\toprule\n",
       "\\textbf{Dep. Variable:}          &      vrs\\_in       & \\textbf{  Pseudo R-squ:      } &   -3.471    \\\\\n",
       "\\textbf{Method:}                 & Maximum Likelihood & \\textbf{  Log-Likelihood:    } &    -9.4     \\\\\n",
       "\\textbf{No. Observations:}       &           13       & \\textbf{  LL-Null:           } &    -2.1     \\\\\n",
       "\\textbf{No. Uncensored Obs:}     &         4          & \\textbf{  LL-Ratio:          } &   -14.6     \\\\\n",
       "\\textbf{No. Left-censored Obs:}  &         0          & \\textbf{  LLR p-value:       } &   1.000     \\\\\n",
       "\\textbf{No. Right-censored Obs:} &         9          & \\textbf{  AIC:               } &    26.9     \\\\\n",
       "\\textbf{Df Residuals:}           &            8       & \\textbf{  BIC:               } &    29.1     \\\\\n",
       "\\textbf{Df Model:}               &            4       & \\textbf{  Covariance Type:   } & nonrobust   \\\\\n",
       "\\bottomrule\n",
       "\\end{tabular}\n",
       "\\begin{tabular}{lcccccc}\n",
       "                    & \\textbf{coef} & \\textbf{std err} & \\textbf{z} & \\textbf{P$> |$z$|$} & \\textbf{[0.025} & \\textbf{0.975]}  \\\\\n",
       "\\midrule\n",
       "\\textbf{Aircraft}   &       0.0091  &          nan     &       nan  &           nan        &          nan    &          nan     \\\\\n",
       "\\textbf{Fuel}       &      -0.0032  &          nan     &       nan  &           nan        &          nan    &          nan     \\\\\n",
       "\\textbf{Employee}   &   -2.778e-05  &          nan     &       nan  &           nan        &          nan    &          nan     \\\\\n",
       "\\textbf{Passenger}  &    1.683e-05  &          nan     &       nan  &           nan        &          nan    &          nan     \\\\\n",
       "\\textbf{Freight}    &       0.0005  &          nan     &       nan  &           nan        &          nan    &          nan     \\\\\n",
       "\\textbf{Log(Sigma)} &       0.0523  &          nan     &       nan  &           nan        &          nan    &          nan     \\\\\n",
       "\\bottomrule\n",
       "\\end{tabular}\n",
       "%\\caption{Tobit Regression Results}\n",
       "\\end{center}"
      ],
      "text/plain": [
       "<class 'statsmodels.iolib.summary.Summary'>\n",
       "\"\"\"\n",
       "                              Tobit Regression Results                             \n",
       "===================================================================================\n",
       "Dep. Variable:                      vrs_in   Pseudo R-squ:                   -3.471\n",
       "Method:                 Maximum Likelihood   Log-Likelihood:                   -9.4\n",
       "No. Observations:                       13   LL-Null:                          -2.1\n",
       "No. Uncensored Obs:                      4   LL-Ratio:                        -14.6\n",
       "No. Left-censored Obs:                   0   LLR p-value:                     1.000\n",
       "No. Right-censored Obs:                  9   AIC:                              26.9\n",
       "Df Residuals:                            8   BIC:                              29.1\n",
       "Df Model:                                4   Covariance Type:             nonrobust\n",
       "==============================================================================\n",
       "                 coef    std err          z      P>|z|      [0.025      0.975]\n",
       "------------------------------------------------------------------------------\n",
       "Aircraft       0.0091        nan        nan        nan         nan         nan\n",
       "Fuel          -0.0032        nan        nan        nan         nan         nan\n",
       "Employee   -2.778e-05        nan        nan        nan         nan         nan\n",
       "Passenger   1.683e-05        nan        nan        nan         nan         nan\n",
       "Freight        0.0005        nan        nan        nan         nan         nan\n",
       "Log(Sigma)     0.0523        nan        nan        nan         nan         nan\n",
       "==============================================================================\n",
       "\"\"\""
      ]
     },
     "execution_count": 44,
     "metadata": {},
     "output_type": "execute_result"
    }
   ],
   "source": [
    "import numpy as np # linear algebra\n",
    "from py4etrics import tobit\n",
    "import statsmodels.api as sm\n",
    "\n",
    "airline['censored'] =np.where(airline['vrs_in']==1, 1, 0)\n",
    "cens = airline['censored']\n",
    "endog = airline.loc[:,'vrs_in']\n",
    "exog = airline.loc[:,'Aircraft':'Freight']\n",
    "\n",
    "tobit_res = tobit.Tobit(endog, exog, cens,right=1).fit()\n",
    "tobit_res.summary()"
   ]
  }
 ],
 "metadata": {
  "colab": {
   "provenance": []
  },
  "kernelspec": {
   "display_name": "Python 3",
   "language": "python",
   "name": "python3"
  },
  "language_info": {
   "codemirror_mode": {
    "name": "ipython",
    "version": 3
   },
   "file_extension": ".py",
   "mimetype": "text/x-python",
   "name": "python",
   "nbconvert_exporter": "python",
   "pygments_lexer": "ipython3",
   "version": "3.12.5"
  }
 },
 "nbformat": 4,
 "nbformat_minor": 5
}
