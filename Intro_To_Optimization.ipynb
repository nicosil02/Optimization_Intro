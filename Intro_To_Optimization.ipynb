{
 "cells": [
  {
   "cell_type": "markdown",
   "id": "0d524ecb",
   "metadata": {},
   "source": [
    "## Homework: Introduction to Optimization\n"
   ]
  },
  {
   "cell_type": "markdown",
   "id": "34a49d4f",
   "metadata": {},
   "source": [
    "### **Excercise 1: Diet problem**"
   ]
  },
  {
   "cell_type": "code",
   "execution_count": 25,
   "id": "a7e1cb7a",
   "metadata": {
    "id": "a7e1cb7a"
   },
   "outputs": [
    {
     "data": {
      "text/html": [
       "<iframe src=\"https://docs.google.com/presentation/d/e/2PACX-1vTSq9X74urGAB_5n_MIJ9ZGIboKSvBdokVTBXVLh_qqZnmLRTJioOF431Rzys3Qi9UaFwWXjeq6Wmd5/embed?start=false&loop=false&delayms=3000\" frameborder=\"0\" width=\"960\" height=\"569\" allowfullscreen=\"true\" mozallowfullscreen=\"true\" webkitallowfullscreen=\"true\"></iframe>\n"
      ],
      "text/plain": [
       "<IPython.core.display.HTML object>"
      ]
     },
     "metadata": {},
     "output_type": "display_data"
    }
   ],
   "source": [
    "%%html\n",
    "<iframe src=\"https://docs.google.com/presentation/d/e/2PACX-1vTSq9X74urGAB_5n_MIJ9ZGIboKSvBdokVTBXVLh_qqZnmLRTJioOF431Rzys3Qi9UaFwWXjeq6Wmd5/embed?start=false&loop=false&delayms=3000\" frameborder=\"0\" width=\"960\" height=\"569\" allowfullscreen=\"true\" mozallowfullscreen=\"true\" webkitallowfullscreen=\"true\"></iframe>"
   ]
  },
  {
   "cell_type": "markdown",
   "id": "e541d12d-5739-454b-89db-c73e33bbec24",
   "metadata": {},
   "source": [
    "**Iniciamos el modelo**"
   ]
  },
  {
   "cell_type": "code",
   "execution_count": 1,
   "id": "d4951184",
   "metadata": {},
   "outputs": [],
   "source": [
    "import pulp as pp"
   ]
  },
  {
   "cell_type": "code",
   "execution_count": 2,
   "id": "8e2cacf5-19be-49b7-8302-e4424b1dc9b6",
   "metadata": {},
   "outputs": [],
   "source": [
    "model2 = pp.LpProblem(name='diet-problem', \n",
    "                     sense=pp.LpMinimize) "
   ]
  },
  {
   "cell_type": "markdown",
   "id": "f5ceec37-3f42-4391-a638-8e18f98cc3df",
   "metadata": {},
   "source": [
    "**Declaramos variables**"
   ]
  },
  {
   "cell_type": "code",
   "execution_count": 3,
   "id": "eced5266-41fa-419c-a096-c7c36e663f2d",
   "metadata": {},
   "outputs": [],
   "source": [
    "# VegaVita\n",
    "Vega = pp.LpVariable(name=\"VegaVita\",  \n",
    "                    lowBound=0,  \n",
    "                    cat='Integer') \n",
    "\n",
    "# HappyHealth\n",
    "Happy = pp.LpVariable(name=\"HappyHealth\",\n",
    "                 lowBound=0,\n",
    "                 cat='Integer')"
   ]
  },
  {
   "cell_type": "markdown",
   "id": "03854fc4-7c20-4347-9ff8-002105c3527a",
   "metadata": {},
   "source": [
    "**Creamos función para OPTIMIZAR**"
   ]
  },
  {
   "cell_type": "code",
   "execution_count": 4,
   "id": "60310fd8-8e35-4917-875a-45a1b6fec2d6",
   "metadata": {},
   "outputs": [],
   "source": [
    "VegaCoeff=0.2\n",
    "HappyCoeff=0.3\n",
    "obj_func_ = VegaCoeff*Vega + HappyCoeff*Happy"
   ]
  },
  {
   "cell_type": "markdown",
   "id": "59f6624a-d27e-43e2-a450-36228d367ec9",
   "metadata": {},
   "source": [
    "**Constrains**"
   ]
  },
  {
   "cell_type": "code",
   "execution_count": 5,
   "id": "fb019e06-d6c5-42dd-932e-b0de27f19923",
   "metadata": {},
   "outputs": [],
   "source": [
    "# SUBJECT TO:\n",
    "C1= pp.LpConstraint(name='VitaminC Constraint',   \n",
    "                    e= 20*Vega + 30*Happy, rhs=60, \n",
    "                    sense=pp.LpConstraintGE) \n",
    "C2= pp.LpConstraint(name='Calcium Constraint',\n",
    "                    e= 500*Vega + 250*Happy, rhs=1000,\n",
    "                    sense=pp.LpConstraintGE) \n",
    "C3= pp.LpConstraint(name='Iron Constraint',\n",
    "                    e= 9*Vega + 2*Happy, rhs=18,\n",
    "                    sense=pp.LpConstraintGE, )\n",
    "C4= pp.LpConstraint(name='Niacin Constraint',\n",
    "                    e= 2*Vega + 10*Happy, rhs=20,\n",
    "                    sense=pp.LpConstraintGE, )\n",
    "C5= pp.LpConstraint(name='Magnesium Constraint',\n",
    "                    e= 60*Vega + 90*Happy, rhs=360,\n",
    "                    sense=pp.LpConstraintGE, )"
   ]
  },
  {
   "cell_type": "markdown",
   "id": "ceeebc3e-076c-4140-ac2b-b753e6e4b266",
   "metadata": {},
   "source": [
    "**Construimos el modelo**"
   ]
  },
  {
   "cell_type": "code",
   "execution_count": 6,
   "id": "425dc3cd-2504-4799-98fa-163c3118a33c",
   "metadata": {},
   "outputs": [],
   "source": [
    "model2 += obj_func_\n",
    "model2 += C1\n",
    "model2 += C2\n",
    "model2 += C3\n",
    "model2 += C4\n",
    "model2 += C5"
   ]
  },
  {
   "cell_type": "markdown",
   "id": "dd879ef7-549d-40a5-ae3d-75dfa6c9d657",
   "metadata": {},
   "source": [
    "**Resolvemos el modelo**"
   ]
  },
  {
   "cell_type": "code",
   "execution_count": 7,
   "id": "372d3df0-7792-453e-a04f-f89cd6d862d3",
   "metadata": {},
   "outputs": [
    {
     "name": "stdout",
     "output_type": "stream",
     "text": [
      "['GLPK_CMD', 'PYGLPK', 'CPLEX_CMD', 'CPLEX_PY', 'GUROBI', 'GUROBI_CMD', 'MOSEK', 'XPRESS', 'XPRESS', 'XPRESS_PY', 'PULP_CBC_CMD', 'COIN_CMD', 'COINMP_DLL', 'CHOCO_CMD', 'MIPCL_CMD', 'SCIP_CMD', 'FSCIP_CMD', 'SCIP_PY', 'HiGHS', 'HiGHS_CMD', 'COPT', 'COPT_DLL', 'COPT_CMD']\n"
     ]
    }
   ],
   "source": [
    "solver_list = pp.listSolvers()\n",
    "print(solver_list)"
   ]
  },
  {
   "cell_type": "code",
   "execution_count": 8,
   "id": "4d47b023-1f9e-4d88-9478-4c7d0be86c5d",
   "metadata": {},
   "outputs": [],
   "source": [
    "model2.solve();"
   ]
  },
  {
   "cell_type": "code",
   "execution_count": 9,
   "id": "a1d4b2f1-782c-41b6-9e89-ca9cf76473de",
   "metadata": {},
   "outputs": [
    {
     "data": {
      "text/plain": [
       "{'Model Status': 'Optimal',\n",
       " 'Optimal Solution': 1.2000000000000002,\n",
       " 'HappyHealth': 2.0,\n",
       " 'VegaVita': 3.0}"
      ]
     },
     "execution_count": 9,
     "metadata": {},
     "output_type": "execute_result"
    }
   ],
   "source": [
    "import pandas as pd\n",
    "\n",
    "Results={\"Model Status\":pp.LpStatus[model2.status]}\n",
    "Results.update({\"Optimal Solution\":pp.value(model2.objective)})\n",
    "Results.update({v.name: v.varValue for v in model2.variables()})\n",
    "Results"
   ]
  },
  {
   "cell_type": "code",
   "execution_count": 10,
   "id": "2fbd19ee-f6c3-4b2c-b330-285130cd5347",
   "metadata": {},
   "outputs": [
    {
     "data": {
      "text/html": [
       "<style type=\"text/css\">\n",
       "</style>\n",
       "<table id=\"T_8fdcb\">\n",
       "  <thead>\n",
       "    <tr>\n",
       "      <th class=\"blank level0\" >&nbsp;</th>\n",
       "      <th id=\"T_8fdcb_level0_col0\" class=\"col_heading level0 col0\" >Optimal Solution</th>\n",
       "      <th id=\"T_8fdcb_level0_col1\" class=\"col_heading level0 col1\" >HappyHealth</th>\n",
       "      <th id=\"T_8fdcb_level0_col2\" class=\"col_heading level0 col2\" >VegaVita</th>\n",
       "    </tr>\n",
       "    <tr>\n",
       "      <th class=\"index_name level0\" >Model Status</th>\n",
       "      <th class=\"blank col0\" >&nbsp;</th>\n",
       "      <th class=\"blank col1\" >&nbsp;</th>\n",
       "      <th class=\"blank col2\" >&nbsp;</th>\n",
       "    </tr>\n",
       "  </thead>\n",
       "  <tbody>\n",
       "    <tr>\n",
       "      <th id=\"T_8fdcb_level0_row0\" class=\"row_heading level0 row0\" >Optimal</th>\n",
       "      <td id=\"T_8fdcb_row0_col0\" class=\"data row0 col0\" >1.2000000000000002</td>\n",
       "      <td id=\"T_8fdcb_row0_col1\" class=\"data row0 col1\" >2.0</td>\n",
       "      <td id=\"T_8fdcb_row0_col2\" class=\"data row0 col2\" >3.0</td>\n",
       "    </tr>\n",
       "  </tbody>\n",
       "</table>\n"
      ],
      "text/plain": [
       "<pandas.io.formats.style.Styler at 0x129fac72c30>"
      ]
     },
     "execution_count": 10,
     "metadata": {},
     "output_type": "execute_result"
    }
   ],
   "source": [
    "pd.DataFrame.from_dict(Results,orient='index').T.set_index('Model Status').style.format('{:,}')"
   ]
  },
  {
   "cell_type": "markdown",
   "id": "6b1ddc4b",
   "metadata": {},
   "source": [
    "### **Excercise 2: The scheduling problem**"
   ]
  },
  {
   "cell_type": "code",
   "execution_count": 11,
   "id": "13f944ca-ef56-46e8-88f7-2b08141c2208",
   "metadata": {
    "id": "13f944ca-ef56-46e8-88f7-2b08141c2208"
   },
   "outputs": [
    {
     "data": {
      "text/html": [
       "<iframe src=\"https://docs.google.com/presentation/d/e/2PACX-1vQtBRpIr6Hx1_T0zJ3_DRqsE82YUjx7ZkeEKLdA64fbjtjkmc6Ibf6ebzp6CY69D482IGpG2h9GcsC5/embed?start=false&loop=false&delayms=3000\" frameborder=\"0\" width=\"960\" height=\"569\" allowfullscreen=\"true\" mozallowfullscreen=\"true\" webkitallowfullscreen=\"true\"></iframe>\n"
      ],
      "text/plain": [
       "<IPython.core.display.HTML object>"
      ]
     },
     "metadata": {},
     "output_type": "display_data"
    }
   ],
   "source": [
    "%%html\n",
    "<iframe src=\"https://docs.google.com/presentation/d/e/2PACX-1vQtBRpIr6Hx1_T0zJ3_DRqsE82YUjx7ZkeEKLdA64fbjtjkmc6Ibf6ebzp6CY69D482IGpG2h9GcsC5/embed?start=false&loop=false&delayms=3000\" frameborder=\"0\" width=\"960\" height=\"569\" allowfullscreen=\"true\" mozallowfullscreen=\"true\" webkitallowfullscreen=\"true\"></iframe>"
   ]
  },
  {
   "cell_type": "code",
   "execution_count": 31,
   "id": "f64635a8",
   "metadata": {},
   "outputs": [],
   "source": [
    "model3 = pp.LpProblem(name=\"scheduling-problem\", sense=pp.LpMinimize)\n"
   ]
  },
  {
   "cell_type": "code",
   "execution_count": 32,
   "id": "7068493d",
   "metadata": {},
   "outputs": [],
   "source": [
    "DR_0_8 = pp.LpVariable(name=\"DR_0_8\", lowBound=0, cat='Integer')\n",
    "DR_4_12 = pp.LpVariable(name=\"DR_4_12\", lowBound=0, cat='Integer')\n",
    "DR_8_16 = pp.LpVariable(name=\"DR_8_16\", lowBound=0, cat='Integer')\n",
    "DR_12_20 = pp.LpVariable(name=\"DR_12_20\", lowBound=0, cat='Integer')\n",
    "DR_16_0 = pp.LpVariable(name=\"DR_16_0\", lowBound=0, cat='Integer')\n",
    "DR_20_4 = pp.LpVariable(name=\"DR_20_4\", lowBound=0, cat='Integer')"
   ]
  },
  {
   "cell_type": "code",
   "execution_count": 33,
   "id": "b0cf31b0",
   "metadata": {},
   "outputs": [],
   "source": [
    "obj_func2 = DR_0_8 + DR_4_12 + DR_8_16 + DR_12_20 + DR_16_0 + DR_20_4\n"
   ]
  },
  {
   "cell_type": "code",
   "execution_count": 34,
   "id": "eb3c3568",
   "metadata": {},
   "outputs": [],
   "source": [
    "L1 = pp.LpConstraint(e=DR_0_8 + DR_20_4, sense=pp.LpConstraintGE, rhs=4, name=\"Demand Midnight to 4 am\")\n",
    "L2 = pp.LpConstraint(e=DR_0_8 + DR_4_12, sense=pp.LpConstraintGE, rhs=8, name=\"Demand 4 am to 8 am\")\n",
    "L3 = pp.LpConstraint(e=DR_4_12 + DR_8_16, sense=pp.LpConstraintGE, rhs=10, name=\"Demand 8 am to 12 pm\")\n",
    "L4 = pp.LpConstraint(e=DR_8_16 + DR_12_20, sense=pp.LpConstraintGE, rhs=7, name=\"Demand 12 pm to 4 pm\")\n",
    "L5 = pp.LpConstraint(e=DR_12_20 + DR_16_0, sense=pp.LpConstraintGE, rhs=12, name=\"Demand 4 pm to 8 pm\")\n",
    "L6 = pp.LpConstraint(e=DR_16_0 + DR_20_4, sense=pp.LpConstraintGE, rhs=4, name=\"Demand 8 pm to midnight\")"
   ]
  },
  {
   "cell_type": "code",
   "execution_count": 35,
   "id": "bb367c4e",
   "metadata": {},
   "outputs": [],
   "source": [
    "model3 += obj_func2\n",
    "model3 += L1\n",
    "model3 += L2\n",
    "model3 += L3\n",
    "model3 += L4\n",
    "model3 += L5\n",
    "model3 += L6"
   ]
  },
  {
   "cell_type": "code",
   "execution_count": 36,
   "id": "9510d706",
   "metadata": {},
   "outputs": [],
   "source": [
    "model3.solve();\n"
   ]
  },
  {
   "cell_type": "code",
   "execution_count": 40,
   "id": "45936d4f",
   "metadata": {},
   "outputs": [
    {
     "data": {
      "text/plain": [
       "{'Model Status': 'Optimal',\n",
       " 'Optimal Solution': 26.0,\n",
       " 'DR_0_8': 0.0,\n",
       " 'DR_12_20': 12.0,\n",
       " 'DR_16_0': 0.0,\n",
       " 'DR_20_4': 4.0,\n",
       " 'DR_4_12': 10.0,\n",
       " 'DR_8_16': 0.0}"
      ]
     },
     "execution_count": 40,
     "metadata": {},
     "output_type": "execute_result"
    }
   ],
   "source": [
    "results={\"Model Status\":pp.LpStatus[model3.status]}\n",
    "results.update({\"Optimal Solution\":pp.value(model3.objective)})\n",
    "results.update({v.name: v.varValue for v in model3.variables()})\n",
    "results"
   ]
  },
  {
   "cell_type": "code",
   "execution_count": 41,
   "id": "5ae00473",
   "metadata": {},
   "outputs": [
    {
     "data": {
      "text/html": [
       "<style type=\"text/css\">\n",
       "</style>\n",
       "<table id=\"T_2fa14\">\n",
       "  <thead>\n",
       "    <tr>\n",
       "      <th class=\"blank level0\" >&nbsp;</th>\n",
       "      <th id=\"T_2fa14_level0_col0\" class=\"col_heading level0 col0\" >Optimal Solution</th>\n",
       "      <th id=\"T_2fa14_level0_col1\" class=\"col_heading level0 col1\" >DR_0_8</th>\n",
       "      <th id=\"T_2fa14_level0_col2\" class=\"col_heading level0 col2\" >DR_12_20</th>\n",
       "      <th id=\"T_2fa14_level0_col3\" class=\"col_heading level0 col3\" >DR_16_0</th>\n",
       "      <th id=\"T_2fa14_level0_col4\" class=\"col_heading level0 col4\" >DR_20_4</th>\n",
       "      <th id=\"T_2fa14_level0_col5\" class=\"col_heading level0 col5\" >DR_4_12</th>\n",
       "      <th id=\"T_2fa14_level0_col6\" class=\"col_heading level0 col6\" >DR_8_16</th>\n",
       "    </tr>\n",
       "    <tr>\n",
       "      <th class=\"index_name level0\" >Model Status</th>\n",
       "      <th class=\"blank col0\" >&nbsp;</th>\n",
       "      <th class=\"blank col1\" >&nbsp;</th>\n",
       "      <th class=\"blank col2\" >&nbsp;</th>\n",
       "      <th class=\"blank col3\" >&nbsp;</th>\n",
       "      <th class=\"blank col4\" >&nbsp;</th>\n",
       "      <th class=\"blank col5\" >&nbsp;</th>\n",
       "      <th class=\"blank col6\" >&nbsp;</th>\n",
       "    </tr>\n",
       "  </thead>\n",
       "  <tbody>\n",
       "    <tr>\n",
       "      <th id=\"T_2fa14_level0_row0\" class=\"row_heading level0 row0\" >Optimal</th>\n",
       "      <td id=\"T_2fa14_row0_col0\" class=\"data row0 col0\" >26.0</td>\n",
       "      <td id=\"T_2fa14_row0_col1\" class=\"data row0 col1\" >0.0</td>\n",
       "      <td id=\"T_2fa14_row0_col2\" class=\"data row0 col2\" >12.0</td>\n",
       "      <td id=\"T_2fa14_row0_col3\" class=\"data row0 col3\" >0.0</td>\n",
       "      <td id=\"T_2fa14_row0_col4\" class=\"data row0 col4\" >4.0</td>\n",
       "      <td id=\"T_2fa14_row0_col5\" class=\"data row0 col5\" >10.0</td>\n",
       "      <td id=\"T_2fa14_row0_col6\" class=\"data row0 col6\" >0.0</td>\n",
       "    </tr>\n",
       "  </tbody>\n",
       "</table>\n"
      ],
      "text/plain": [
       "<pandas.io.formats.style.Styler at 0x129fcc335f0>"
      ]
     },
     "execution_count": 41,
     "metadata": {},
     "output_type": "execute_result"
    }
   ],
   "source": [
    "pd.DataFrame.from_dict(results,orient='index').T.set_index('Model Status').style.format('{:,}')"
   ]
  },
  {
   "cell_type": "markdown",
   "id": "2478f1d7-aa1c-4e6c-b404-d7faf01ab371",
   "metadata": {
    "id": "2478f1d7-aa1c-4e6c-b404-d7faf01ab371"
   },
   "source": [
    "# Part 2: Multicriteria Decision-Making"
   ]
  },
  {
   "cell_type": "code",
   "execution_count": 42,
   "id": "4bf5038e-daec-4f81-a2dd-afe31322f7e3",
   "metadata": {
    "id": "4bf5038e-daec-4f81-a2dd-afe31322f7e3"
   },
   "outputs": [
    {
     "data": {
      "text/html": [
       "<iframe src=\"https://docs.google.com/presentation/d/e/2PACX-1vR7GL_wF1eKRO0JgEUyIx5cxXUhTQ8ZM4F3AE1MLr7GYG33dwEobrLo6O2MaV2d7Cv47TaTgHghkhrV/embed?start=false&loop=false&delayms=3000\" frameborder=\"0\" width=\"960\" height=\"569\" allowfullscreen=\"true\" mozallowfullscreen=\"true\" webkitallowfullscreen=\"true\"></iframe>\n"
      ],
      "text/plain": [
       "<IPython.core.display.HTML object>"
      ]
     },
     "metadata": {},
     "output_type": "display_data"
    }
   ],
   "source": [
    "%%html\n",
    "<iframe src=\"https://docs.google.com/presentation/d/e/2PACX-1vR7GL_wF1eKRO0JgEUyIx5cxXUhTQ8ZM4F3AE1MLr7GYG33dwEobrLo6O2MaV2d7Cv47TaTgHghkhrV/embed?start=false&loop=false&delayms=3000\" frameborder=\"0\" width=\"960\" height=\"569\" allowfullscreen=\"true\" mozallowfullscreen=\"true\" webkitallowfullscreen=\"true\"></iframe>"
   ]
  },
  {
   "cell_type": "markdown",
   "id": "a0717b92-b145-4499-baad-fa95a1a755cf",
   "metadata": {
    "id": "a0717b92-b145-4499-baad-fa95a1a755cf"
   },
   "source": [
    "1. Prepare data file with the comparissons:"
   ]
  },
  {
   "cell_type": "code",
   "execution_count": null,
   "id": "227c2b77-cc4e-4437-b7bc-c522b22168d8",
   "metadata": {
    "id": "227c2b77-cc4e-4437-b7bc-c522b22168d8"
   },
   "outputs": [],
   "source": [
    "%%html\n",
    "\n",
    "<iframe src=\"https://docs.google.com/spreadsheets/d/e/2PACX-1vSeUfh-DtfAAvEecirNS7Qs2qN4npmNfRiw9JvKmRpq88snVc8HJBlru2cyPy8lsQflSxlnx6U-IePw/pubhtml?widget=true&amp;headers=false\" width=\"600\" height=\"300\" ></iframe>"
   ]
  },
  {
   "cell_type": "markdown",
   "id": "52def875-21cf-4270-a9b2-d61aed9fc025",
   "metadata": {
    "id": "52def875-21cf-4270-a9b2-d61aed9fc025"
   },
   "source": [
    "2. Get the data (Excel)"
   ]
  },
  {
   "cell_type": "code",
   "execution_count": null,
   "id": "5afba538-ee4e-4a1b-9573-22dcbb177db5",
   "metadata": {
    "id": "5afba538-ee4e-4a1b-9573-22dcbb177db5"
   },
   "outputs": [],
   "source": [
    "# the link to the data\n",
    "\n",
    "linkGoogle='https://docs.google.com/spreadsheets/d/e/2PACX-1vSeUfh-DtfAAvEecirNS7Qs2qN4npmNfRiw9JvKmRpq88snVc8HJBlru2cyPy8lsQflSxlnx6U-IePw/pub?output=xlsx'# the link to the data"
   ]
  },
  {
   "cell_type": "markdown",
   "id": "7c73c2ca-2022-42e9-bf24-1559b215d7a9",
   "metadata": {
    "id": "7c73c2ca-2022-42e9-bf24-1559b215d7a9"
   },
   "source": [
    "3. Open each sheet:"
   ]
  },
  {
   "cell_type": "code",
   "execution_count": null,
   "id": "eb165cc5-95fb-499a-a6f5-9306914d7249",
   "metadata": {
    "id": "eb165cc5-95fb-499a-a6f5-9306914d7249"
   },
   "outputs": [],
   "source": [
    "# opening the comparissons\n",
    "\n",
    "import pandas as pd\n",
    "\n",
    "pairwise_age=pd.read_excel(linkGoogle,sheet_name='age', index_col=0)\n",
    "pairwise_experience=pd.read_excel(linkGoogle,sheet_name='experience', index_col=0)\n",
    "pairwise_education=pd.read_excel(linkGoogle,sheet_name='education', index_col=0)\n",
    "pairwise_charisma=pd.read_excel(linkGoogle,sheet_name='charisma', index_col=0)\n",
    "pairwise_criteria=pd.read_excel(linkGoogle,sheet_name='criteria', index_col=0)"
   ]
  },
  {
   "cell_type": "markdown",
   "id": "5f775058-f007-4d9a-8655-98021ef0a1e0",
   "metadata": {
    "id": "5f775058-f007-4d9a-8655-98021ef0a1e0"
   },
   "source": [
    "You may want to check the structure:"
   ]
  },
  {
   "cell_type": "code",
   "execution_count": null,
   "id": "bb707240-1275-4408-9471-7842c7b43c85",
   "metadata": {
    "id": "bb707240-1275-4408-9471-7842c7b43c85"
   },
   "outputs": [],
   "source": [
    "pairwise_criteria"
   ]
  },
  {
   "cell_type": "markdown",
   "id": "cc2b0d2d-68f7-4f44-a016-7ade98c2edc0",
   "metadata": {
    "id": "cc2b0d2d-68f7-4f44-a016-7ade98c2edc0"
   },
   "source": [
    "4. Transform all matrices into pairwise comparissons:"
   ]
  },
  {
   "cell_type": "code",
   "execution_count": null,
   "id": "7489673e-1160-4fb9-af4e-17bd6c3d47b5",
   "metadata": {
    "id": "7489673e-1160-4fb9-af4e-17bd6c3d47b5"
   },
   "outputs": [],
   "source": [
    "import networkx as nx\n",
    "\n",
    "G_age = nx.from_pandas_adjacency(pairwise_age,create_using=nx.MultiDiGraph())\n",
    "\n",
    "# pairwise\n",
    "G_age.edges(data=True)"
   ]
  },
  {
   "cell_type": "code",
   "execution_count": null,
   "id": "5c159762-70a2-4d13-aca5-77ad593cc8d7",
   "metadata": {
    "id": "5c159762-70a2-4d13-aca5-77ad593cc8d7"
   },
   "outputs": [],
   "source": [
    "# comparissons for age as dict\n",
    "age_comparisons ={(e[0],e[1]):e[2]['weight'] for e in G_age.edges(data=True) if e[0]!= e[1]}\n",
    "age_comparisons"
   ]
  },
  {
   "cell_type": "code",
   "execution_count": null,
   "id": "91910bf0-55d1-4001-adcd-aeb255486e32",
   "metadata": {
    "id": "91910bf0-55d1-4001-adcd-aeb255486e32"
   },
   "outputs": [],
   "source": [
    "# the remaining comparissons:\n",
    "\n",
    "G_exp = nx.from_pandas_adjacency(pairwise_experience,create_using=nx.MultiDiGraph())\n",
    "experience_comparisons={(e[0],e[1]):e[2]['weight'] for e in G_exp.edges(data=True) if e[0]!= e[1]}\n",
    "\n",
    "G_edu = nx.from_pandas_adjacency(pairwise_education,create_using=nx.MultiDiGraph())\n",
    "education_comparisons={(e[0],e[1]):e[2]['weight'] for e in G_edu.edges(data=True) if e[0]!= e[1]}\n",
    "\n",
    "G_cha = nx.from_pandas_adjacency(pairwise_charisma,create_using=nx.MultiDiGraph())\n",
    "charisma_comparisons={(e[0],e[1]):e[2]['weight'] for e in G_cha.edges(data=True) if e[0]!= e[1]}"
   ]
  },
  {
   "cell_type": "code",
   "execution_count": null,
   "id": "1a060b13-70ec-4121-bf45-a073435eca58",
   "metadata": {
    "id": "1a060b13-70ec-4121-bf45-a073435eca58"
   },
   "outputs": [],
   "source": [
    "# take a look\n",
    "[age_comparisons, experience_comparisons,education_comparisons,charisma_comparisons]"
   ]
  },
  {
   "cell_type": "code",
   "execution_count": null,
   "id": "c84996bc-4941-42cb-8855-54c72a6737a9",
   "metadata": {
    "id": "c84996bc-4941-42cb-8855-54c72a6737a9"
   },
   "outputs": [],
   "source": [
    "# now the criteria\n",
    "\n",
    "G_CRIT = nx.from_pandas_adjacency(pairwise_criteria,create_using=nx.MultiDiGraph())\n",
    "criteria_comparisons ={(e[0],e[1]):e[2]['weight'] for e in G_CRIT.edges(data=True) if e[0]!= e[1]}\n",
    "criteria_comparisons"
   ]
  },
  {
   "cell_type": "markdown",
   "id": "537c0ad5-e1b0-4d49-a60c-e7a3a0d95c2d",
   "metadata": {
    "id": "537c0ad5-e1b0-4d49-a60c-e7a3a0d95c2d"
   },
   "source": [
    "5. Apply the Algorithm"
   ]
  },
  {
   "cell_type": "code",
   "execution_count": null,
   "id": "69e67f1d-408e-446b-9991-0566a0aaee5b",
   "metadata": {
    "id": "69e67f1d-408e-446b-9991-0566a0aaee5b"
   },
   "outputs": [],
   "source": [
    "## install\n",
    "# !pip install ahpy"
   ]
  },
  {
   "cell_type": "code",
   "execution_count": null,
   "id": "16ec39e8-0c5e-4803-8a05-00b354bc2133",
   "metadata": {
    "id": "16ec39e8-0c5e-4803-8a05-00b354bc2133"
   },
   "outputs": [],
   "source": [
    "# input each comparisson\n",
    "\n",
    "import ahpy\n",
    "\n",
    "experience = ahpy.Compare('experience', experience_comparisons, precision=3, random_index='saaty')\n",
    "education = ahpy.Compare('education', education_comparisons, precision=3, random_index='saaty')\n",
    "charisma = ahpy.Compare('charisma', charisma_comparisons, precision=3, random_index='saaty')\n",
    "age = ahpy.Compare('age', age_comparisons, precision=3, random_index='saaty')\n",
    "criteria = ahpy.Compare('criteria', criteria_comparisons, precision=3, random_index='saaty')"
   ]
  },
  {
   "cell_type": "markdown",
   "id": "e6ab4dfb-efc1-4940-adf9-21e2940fcb33",
   "metadata": {
    "id": "e6ab4dfb-efc1-4940-adf9-21e2940fcb33"
   },
   "source": [
    "6. Create hierarchy:"
   ]
  },
  {
   "cell_type": "code",
   "execution_count": null,
   "id": "7cdf93ec-edf1-4127-8734-885d6da1c855",
   "metadata": {
    "id": "7cdf93ec-edf1-4127-8734-885d6da1c855"
   },
   "outputs": [],
   "source": [
    "criteria.add_children([experience, education, charisma, age])"
   ]
  },
  {
   "cell_type": "markdown",
   "id": "ebc25b0c-6a21-439e-a4da-6c8d5e50797d",
   "metadata": {
    "id": "ebc25b0c-6a21-439e-a4da-6c8d5e50797d"
   },
   "source": [
    "7. See result:"
   ]
  },
  {
   "cell_type": "code",
   "execution_count": null,
   "id": "ba46787a-e341-4867-9321-412f8be5a92a",
   "metadata": {
    "id": "ba46787a-e341-4867-9321-412f8be5a92a"
   },
   "outputs": [],
   "source": [
    "print(criteria.target_weights)"
   ]
  },
  {
   "cell_type": "markdown",
   "id": "2dc9dcde-7d2b-4bb8-8d93-c16b73f4347b",
   "metadata": {
    "id": "2dc9dcde-7d2b-4bb8-8d93-c16b73f4347b"
   },
   "source": [
    "8. Assess consistency"
   ]
  },
  {
   "cell_type": "code",
   "execution_count": null,
   "id": "c07344a5-0ed2-4d7a-9f44-a284a3ee122b",
   "metadata": {
    "id": "c07344a5-0ed2-4d7a-9f44-a284a3ee122b"
   },
   "outputs": [],
   "source": [
    "## We should review comparissons if greater than 0.1!\n",
    "[(val.name,val.consistency_ratio) for val in [experience, education, charisma, age, criteria]]"
   ]
  },
  {
   "cell_type": "markdown",
   "id": "b50bc5f6-7d5d-4a90-bf30-ec0cd2e9aaac",
   "metadata": {
    "id": "b50bc5f6-7d5d-4a90-bf30-ec0cd2e9aaac"
   },
   "source": [
    "<div class=\"alert-success\">\n",
    "\n",
    "<strong>Exercise: Choosing a country for a Master Program</strong>\n",
    "\n",
    "- Make a group of 4 people from this course.\n",
    "- If you have the criteria: cost of living, language difficulty, possibilities to get a job in that country after studies are finished.\n",
    "- If you have the alternatives: Brazil, Spain, USA, Germany.\n",
    "- Create an AHP model and get the ranking.\n",
    "\n",
    "You can follow this [example](https://en.wikipedia.org/wiki/Analytic_hierarchy_process_%E2%80%93_leader_example).\n",
    "If you have a better idea, you can use it instead."
   ]
  },
  {
   "cell_type": "markdown",
   "id": "60f6a0b9-872e-40c1-b681-64d6a9dc26e2",
   "metadata": {
    "id": "60f6a0b9-872e-40c1-b681-64d6a9dc26e2"
   },
   "source": [
    "# Part 3: Benchmarking"
   ]
  },
  {
   "cell_type": "markdown",
   "id": "3552b7d8-df4d-4c4f-80e5-bfbe4f2211af",
   "metadata": {
    "id": "3552b7d8-df4d-4c4f-80e5-bfbe4f2211af"
   },
   "source": [
    "Imagine you have this [information](https://www.sciencedirect.com/science/article/abs/pii/S0377221711007168):"
   ]
  },
  {
   "cell_type": "code",
   "execution_count": null,
   "id": "908e917e-bed6-488b-9a6b-dafbe5f6d1e5",
   "metadata": {
    "id": "908e917e-bed6-488b-9a6b-dafbe5f6d1e5"
   },
   "outputs": [],
   "source": [
    "airline=pd.read_csv(\"airlines_data.csv\")\n",
    "airline"
   ]
  },
  {
   "cell_type": "markdown",
   "id": "10e0fa9a-0cbc-4be6-86a3-e6a457f5e201",
   "metadata": {
    "id": "10e0fa9a-0cbc-4be6-86a3-e6a457f5e201"
   },
   "source": [
    "The first three variables (Aircraft,Fuel,Employee) represent **inputs** and the last two ones represent **outputs**. If that is so, there should be a way to compute some measure of efficiency: the ratio **output/input**.\n",
    "\n",
    "Let's compute some ratios:"
   ]
  },
  {
   "cell_type": "code",
   "execution_count": null,
   "id": "6f5812f5-d64b-4d05-91e7-57159dbc6368",
   "metadata": {
    "id": "6f5812f5-d64b-4d05-91e7-57159dbc6368"
   },
   "outputs": [],
   "source": [
    "# ratio passenger employee:\n",
    "airline['rate_ClientsByEmployee']=(airline.Passenger/airline.Employee)\n",
    "airline['rate_CargoByFleet']=(airline.Freight/airline.Aircraft)"
   ]
  },
  {
   "cell_type": "markdown",
   "id": "dd7ee6d4-1673-4976-a4a6-2f10b3de2135",
   "metadata": {
    "id": "dd7ee6d4-1673-4976-a4a6-2f10b3de2135"
   },
   "source": [
    "Let me plot those ratios:"
   ]
  },
  {
   "cell_type": "code",
   "execution_count": null,
   "id": "2f2c746f-28fb-4e24-92d2-aaffc4af7658",
   "metadata": {
    "id": "2f2c746f-28fb-4e24-92d2-aaffc4af7658"
   },
   "outputs": [],
   "source": [
    "import altair as alt\n",
    "\n",
    "points = alt.Chart(airline).mark_point().encode(\n",
    "    x='rate_ClientsByEmployee:Q',\n",
    "    y='rate_CargoByFleet:Q'\n",
    ")\n",
    "\n",
    "text = points.mark_text(\n",
    "    align='right',\n",
    "    baseline='middle',\n",
    "    dx=-7\n",
    ").encode(\n",
    "    text='name'\n",
    ").interactive()\n",
    "\n",
    "points + text"
   ]
  },
  {
   "cell_type": "markdown",
   "id": "c0665021-e733-4e7d-bf03-fca028b269c9",
   "metadata": {
    "id": "c0665021-e733-4e7d-bf03-fca028b269c9"
   },
   "source": [
    "Which one is more efficient? As you see, one airline might not be good in both ratios:"
   ]
  },
  {
   "cell_type": "code",
   "execution_count": null,
   "id": "9333f68a-1e25-4d03-907d-f142a623823f",
   "metadata": {
    "id": "9333f68a-1e25-4d03-907d-f142a623823f"
   },
   "outputs": [],
   "source": [
    "airline[['name','rate_ClientsByEmployee','rate_CargoByFleet']].sort_values(by='rate_ClientsByEmployee',ascending=False).head()"
   ]
  },
  {
   "cell_type": "code",
   "execution_count": null,
   "id": "3c2a7e8b-71ba-4f97-a0de-1e4bc02f285f",
   "metadata": {
    "id": "3c2a7e8b-71ba-4f97-a0de-1e4bc02f285f"
   },
   "outputs": [],
   "source": [
    "airline[['name','rate_ClientsByEmployee','rate_CargoByFleet']].sort_values(by='rate_CargoByFleet',ascending=False).head()"
   ]
  },
  {
   "cell_type": "markdown",
   "id": "d22cef46-f69f-4ca0-bfe0-69e4d6cd2f81",
   "metadata": {
    "id": "d22cef46-f69f-4ca0-bfe0-69e4d6cd2f81"
   },
   "source": [
    "Let me show you the **envelope**:"
   ]
  },
  {
   "cell_type": "code",
   "execution_count": null,
   "id": "d71901fd-13dc-45c1-b01f-39005c3b04a7",
   "metadata": {
    "id": "d71901fd-13dc-45c1-b01f-39005c3b04a7"
   },
   "outputs": [],
   "source": [
    "Best_ClientsByEmployee=airline.rate_ClientsByEmployee.idxmax()\n",
    "Best_CargoByFleet=airline.rate_CargoByFleet.idxmax()\n",
    "\n",
    "frontier1=airline.loc[Best_ClientsByEmployee,['rate_ClientsByEmployee','rate_CargoByFleet']].to_list()\n",
    "frontier2=airline.loc[Best_CargoByFleet,['rate_ClientsByEmployee','rate_CargoByFleet']].to_list()\n",
    "\n",
    "#parallels\n",
    "frontier1v=[frontier1[0],0]\n",
    "frontier2h=[0,frontier2[1]]\n",
    "\n",
    "#then\n",
    "envelope=pd.DataFrame([frontier2h,frontier2,frontier1,frontier1v],columns=['x','y'])\n",
    "envelope"
   ]
  },
  {
   "cell_type": "markdown",
   "id": "d4253373-1d5a-4944-a782-922959dd399b",
   "metadata": {
    "id": "d4253373-1d5a-4944-a782-922959dd399b"
   },
   "source": [
    "Updating the plot:"
   ]
  },
  {
   "cell_type": "code",
   "execution_count": null,
   "id": "ca1f47ef-b224-4141-aade-887208a19fa5",
   "metadata": {
    "id": "ca1f47ef-b224-4141-aade-887208a19fa5"
   },
   "outputs": [],
   "source": [
    "points + text + alt.Chart(envelope).mark_line(color='red').encode(\n",
    "    x='x',\n",
    "    y='y',\n",
    ")"
   ]
  },
  {
   "cell_type": "markdown",
   "id": "2ef65583-5277-43fd-8338-080d7f7d8525",
   "metadata": {
    "id": "2ef65583-5277-43fd-8338-080d7f7d8525"
   },
   "source": [
    "The presence of several units (DMUs), several inputs, and several outputs makes it difficult to judge who is doing better. This an optimization problem that may be carried out using **Pyfrontier**:"
   ]
  },
  {
   "cell_type": "code",
   "execution_count": null,
   "id": "4247566e-f442-4151-a776-d5aafbe4e93e",
   "metadata": {
    "id": "4247566e-f442-4151-a776-d5aafbe4e93e"
   },
   "outputs": [],
   "source": [
    "## installation\n",
    "# pip install Pyfrontier"
   ]
  },
  {
   "cell_type": "markdown",
   "id": "59b0f779-fa22-4c99-9346-2e25aa80afbc",
   "metadata": {
    "id": "59b0f779-fa22-4c99-9346-2e25aa80afbc"
   },
   "source": [
    "Let me recover the names for each group of variables:"
   ]
  },
  {
   "cell_type": "code",
   "execution_count": null,
   "id": "e157f107-913d-4877-b1a3-3bae3e0e93e9",
   "metadata": {
    "id": "e157f107-913d-4877-b1a3-3bae3e0e93e9"
   },
   "outputs": [],
   "source": [
    "airlineInput=airline.columns[1:4].to_list()\n",
    "airlineOutput=airline.columns[4:6].to_list()"
   ]
  },
  {
   "cell_type": "markdown",
   "id": "9b202766-484f-4b33-8cc4-235059540290",
   "metadata": {
    "id": "9b202766-484f-4b33-8cc4-235059540290"
   },
   "source": [
    "Let's apply the function:"
   ]
  },
  {
   "cell_type": "code",
   "execution_count": null,
   "id": "8d077a3c-08f5-4ee2-98fe-36cc707522b9",
   "metadata": {
    "id": "8d077a3c-08f5-4ee2-98fe-36cc707522b9"
   },
   "outputs": [],
   "source": [
    "from Pyfrontier.frontier_model import EnvelopDEA\n",
    "\n",
    "dea_air_vrs_in = EnvelopDEA(\"VRS\", \"in\")\n",
    "dea_air_vrs_in.fit(\n",
    "    inputs=airline[airlineInput].to_numpy(),\n",
    "    outputs=airline[airlineOutput].to_numpy()\n",
    ")"
   ]
  },
  {
   "cell_type": "markdown",
   "id": "d7d42a32-693a-4c39-9153-588466d2df0f",
   "metadata": {
    "id": "d7d42a32-693a-4c39-9153-588466d2df0f"
   },
   "source": [
    "Here is the result:"
   ]
  },
  {
   "cell_type": "code",
   "execution_count": null,
   "id": "85a16e24-54fa-4558-a9b3-f0165c078a99",
   "metadata": {
    "id": "85a16e24-54fa-4558-a9b3-f0165c078a99"
   },
   "outputs": [],
   "source": [
    "airline['vrs_in']=[r.score for r in dea_air_vrs_in.result]\n",
    "airline.set_index(airline.name,inplace=True)\n",
    "airline['vrs_in']"
   ]
  },
  {
   "cell_type": "markdown",
   "id": "fb60762d-fdf7-4a0a-8565-faa149f3c55b",
   "metadata": {
    "id": "fb60762d-fdf7-4a0a-8565-faa149f3c55b"
   },
   "source": [
    "At this stage, you may be tempted to do a regression:"
   ]
  },
  {
   "cell_type": "code",
   "execution_count": null,
   "id": "aec8fe2a-09f2-400c-960b-2b12450c35a8",
   "metadata": {
    "id": "aec8fe2a-09f2-400c-960b-2b12450c35a8"
   },
   "outputs": [],
   "source": [
    "# !pip install py4etrics\n"
   ]
  },
  {
   "cell_type": "code",
   "execution_count": null,
   "id": "db3f11f1-6520-4303-9dc9-e7352153afb0",
   "metadata": {
    "id": "db3f11f1-6520-4303-9dc9-e7352153afb0"
   },
   "outputs": [],
   "source": [
    "import numpy as np # linear algebra\n",
    "from py4etrics import tobit\n",
    "# import statsmodels.api as sm\n",
    "\n",
    "airline['censored'] =np.where(airline['vrs_in']==1, 1, 0)\n",
    "cens = airline['censored']\n",
    "endog = airline.loc[:,'vrs_in']\n",
    "exog = airline.loc[:,'Aircraft':'Freight']\n",
    "\n",
    "tobit_res = tobit.Tobit(endog, exog, cens,right=1).fit()\n",
    "tobit_res.summary()"
   ]
  },
  {
   "cell_type": "markdown",
   "id": "e58be274-861d-47a3-badf-007a73bd433c",
   "metadata": {
    "id": "e58be274-861d-47a3-badf-007a73bd433c"
   },
   "source": [
    "<div class=\"alert-success\">\n",
    "\n",
    "<strong>Exercise: Efficiency in Public sector</strong>\n",
    "\n",
    "- Make a group of 2 people from this course.\n",
    "- Find a set of municipalities (homogenity required).\n",
    "- Find a set of common input and out variables for them.\n",
    "- Compute efficiency."
   ]
  }
 ],
 "metadata": {
  "colab": {
   "provenance": []
  },
  "kernelspec": {
   "display_name": "Python 3",
   "language": "python",
   "name": "python3"
  },
  "language_info": {
   "codemirror_mode": {
    "name": "ipython",
    "version": 3
   },
   "file_extension": ".py",
   "mimetype": "text/x-python",
   "name": "python",
   "nbconvert_exporter": "python",
   "pygments_lexer": "ipython3",
   "version": "3.12.5"
  }
 },
 "nbformat": 4,
 "nbformat_minor": 5
}
