{
 "cells": [
  {
   "cell_type": "markdown",
   "id": "4a43f844",
   "metadata": {},
   "source": [
    "<p align=\"left\">\n",
    "  <img src=\"https://www.grupolarabida.org/wp-content/uploads/2020/11/Copia-de-Imagotipo-PUCP-alta_resolucion-1-1024x493.png\" alt=\"PUCP Logo\" width=\"300\"/>\n",
    "</p>\n",
    "\n",
    "# Tarea: Introdución a la Optimización - Analítica Social e Inteligencia Estratégica\n",
    "\n",
    "**Estudiante:** Nicolás Silva Andujar  \n",
    "**Código:** 20200832  \n",
    "**Carrera:** Ciencia Política y Gobierno  \n",
    "\n",
    "En esta tarea, aplicamos métodos de **Optimización, Análisis de Jerarquía Analítica (AHP) y Benchmarking** para la toma de decisiones estratégicas en situaciones complejas.\n",
    "\n",
    "**LinkedIn:** [Nicolás Silva Andujar](https://www.linkedin.com/in/nicolas-silva0522a/)\n",
    "\n",
    "---\n",
    "\n"
   ]
  },
  {
   "cell_type": "markdown",
   "id": "aa32e7ce",
   "metadata": {},
   "source": [
    "# Parte 1: *Optimización*"
   ]
  },
  {
   "cell_type": "markdown",
   "id": "34a49d4f",
   "metadata": {},
   "source": [
    "### **Ejercicio 1: Problema de dieta**"
   ]
  },
  {
   "cell_type": "code",
   "execution_count": 1,
   "id": "a7e1cb7a",
   "metadata": {
    "id": "a7e1cb7a"
   },
   "outputs": [
    {
     "data": {
      "text/html": [
       "<iframe src=\"https://docs.google.com/presentation/d/e/2PACX-1vTSq9X74urGAB_5n_MIJ9ZGIboKSvBdokVTBXVLh_qqZnmLRTJioOF431Rzys3Qi9UaFwWXjeq6Wmd5/embed?start=false&loop=false&delayms=3000\" frameborder=\"0\" width=\"960\" height=\"569\" allowfullscreen=\"true\" mozallowfullscreen=\"true\" webkitallowfullscreen=\"true\"></iframe>\n"
      ],
      "text/plain": [
       "<IPython.core.display.HTML object>"
      ]
     },
     "metadata": {},
     "output_type": "display_data"
    }
   ],
   "source": [
    "%%html\n",
    "<iframe src=\"https://docs.google.com/presentation/d/e/2PACX-1vTSq9X74urGAB_5n_MIJ9ZGIboKSvBdokVTBXVLh_qqZnmLRTJioOF431Rzys3Qi9UaFwWXjeq6Wmd5/embed?start=false&loop=false&delayms=3000\" frameborder=\"0\" width=\"960\" height=\"569\" allowfullscreen=\"true\" mozallowfullscreen=\"true\" webkitallowfullscreen=\"true\"></iframe>"
   ]
  },
  {
   "cell_type": "markdown",
   "id": "e541d12d-5739-454b-89db-c73e33bbec24",
   "metadata": {},
   "source": [
    "**Iniciamos el modelo**"
   ]
  },
  {
   "cell_type": "code",
   "execution_count": 2,
   "id": "d4951184",
   "metadata": {},
   "outputs": [],
   "source": [
    "import pulp as pp"
   ]
  },
  {
   "cell_type": "code",
   "execution_count": 3,
   "id": "8e2cacf5-19be-49b7-8302-e4424b1dc9b6",
   "metadata": {},
   "outputs": [],
   "source": [
    "model2 = pp.LpProblem(name='diet-problem', \n",
    "                     sense=pp.LpMinimize) "
   ]
  },
  {
   "cell_type": "markdown",
   "id": "f5ceec37-3f42-4391-a638-8e18f98cc3df",
   "metadata": {},
   "source": [
    "**Declaramos variables**"
   ]
  },
  {
   "cell_type": "code",
   "execution_count": 4,
   "id": "eced5266-41fa-419c-a096-c7c36e663f2d",
   "metadata": {},
   "outputs": [],
   "source": [
    "# VegaVita\n",
    "Vega = pp.LpVariable(name=\"VegaVita\",  \n",
    "                    lowBound=0,  \n",
    "                    cat='Integer') \n",
    "\n",
    "# HappyHealth\n",
    "Happy = pp.LpVariable(name=\"HappyHealth\",\n",
    "                 lowBound=0,\n",
    "                 cat='Integer')"
   ]
  },
  {
   "cell_type": "markdown",
   "id": "03854fc4-7c20-4347-9ff8-002105c3527a",
   "metadata": {},
   "source": [
    "**Creamos función para OPTIMIZAR**"
   ]
  },
  {
   "cell_type": "code",
   "execution_count": 5,
   "id": "60310fd8-8e35-4917-875a-45a1b6fec2d6",
   "metadata": {},
   "outputs": [],
   "source": [
    "VegaCoeff=0.2\n",
    "HappyCoeff=0.3\n",
    "obj_func_ = VegaCoeff*Vega + HappyCoeff*Happy"
   ]
  },
  {
   "cell_type": "markdown",
   "id": "59f6624a-d27e-43e2-a450-36228d367ec9",
   "metadata": {},
   "source": [
    "**Constrains**"
   ]
  },
  {
   "cell_type": "code",
   "execution_count": 6,
   "id": "fb019e06-d6c5-42dd-932e-b0de27f19923",
   "metadata": {},
   "outputs": [],
   "source": [
    "# SUBJECT TO:\n",
    "C1= pp.LpConstraint(name='VitaminC Constraint',   \n",
    "                    e= 20*Vega + 30*Happy, rhs=60, \n",
    "                    sense=pp.LpConstraintGE) \n",
    "C2= pp.LpConstraint(name='Calcium Constraint',\n",
    "                    e= 500*Vega + 250*Happy, rhs=1000,\n",
    "                    sense=pp.LpConstraintGE) \n",
    "C3= pp.LpConstraint(name='Iron Constraint',\n",
    "                    e= 9*Vega + 2*Happy, rhs=18,\n",
    "                    sense=pp.LpConstraintGE, )\n",
    "C4= pp.LpConstraint(name='Niacin Constraint',\n",
    "                    e= 2*Vega + 10*Happy, rhs=20,\n",
    "                    sense=pp.LpConstraintGE, )\n",
    "C5= pp.LpConstraint(name='Magnesium Constraint',\n",
    "                    e= 60*Vega + 90*Happy, rhs=360,\n",
    "                    sense=pp.LpConstraintGE, )"
   ]
  },
  {
   "cell_type": "markdown",
   "id": "ceeebc3e-076c-4140-ac2b-b753e6e4b266",
   "metadata": {},
   "source": [
    "**Construimos el modelo**"
   ]
  },
  {
   "cell_type": "code",
   "execution_count": 7,
   "id": "425dc3cd-2504-4799-98fa-163c3118a33c",
   "metadata": {},
   "outputs": [],
   "source": [
    "model2 += obj_func_\n",
    "model2 += C1\n",
    "model2 += C2\n",
    "model2 += C3\n",
    "model2 += C4\n",
    "model2 += C5"
   ]
  },
  {
   "cell_type": "markdown",
   "id": "dd879ef7-549d-40a5-ae3d-75dfa6c9d657",
   "metadata": {},
   "source": [
    "**Resolvemos el modelo**"
   ]
  },
  {
   "cell_type": "code",
   "execution_count": 8,
   "id": "372d3df0-7792-453e-a04f-f89cd6d862d3",
   "metadata": {},
   "outputs": [
    {
     "name": "stdout",
     "output_type": "stream",
     "text": [
      "['GLPK_CMD', 'PYGLPK', 'CPLEX_CMD', 'CPLEX_PY', 'GUROBI', 'GUROBI_CMD', 'MOSEK', 'XPRESS', 'XPRESS', 'XPRESS_PY', 'PULP_CBC_CMD', 'COIN_CMD', 'COINMP_DLL', 'CHOCO_CMD', 'MIPCL_CMD', 'SCIP_CMD', 'FSCIP_CMD', 'SCIP_PY', 'HiGHS', 'HiGHS_CMD', 'COPT', 'COPT_DLL', 'COPT_CMD']\n"
     ]
    }
   ],
   "source": [
    "solver_list = pp.listSolvers()\n",
    "print(solver_list)"
   ]
  },
  {
   "cell_type": "code",
   "execution_count": 9,
   "id": "4d47b023-1f9e-4d88-9478-4c7d0be86c5d",
   "metadata": {},
   "outputs": [],
   "source": [
    "model2.solve();"
   ]
  },
  {
   "cell_type": "code",
   "execution_count": 10,
   "id": "a1d4b2f1-782c-41b6-9e89-ca9cf76473de",
   "metadata": {},
   "outputs": [
    {
     "data": {
      "text/plain": [
       "{'Model Status': 'Optimal',\n",
       " 'Optimal Solution': 1.2000000000000002,\n",
       " 'HappyHealth': 2.0,\n",
       " 'VegaVita': 3.0}"
      ]
     },
     "execution_count": 10,
     "metadata": {},
     "output_type": "execute_result"
    }
   ],
   "source": [
    "import pandas as pd\n",
    "\n",
    "Results={\"Model Status\":pp.LpStatus[model2.status]}\n",
    "Results.update({\"Optimal Solution\":pp.value(model2.objective)})\n",
    "Results.update({v.name: v.varValue for v in model2.variables()})\n",
    "Results"
   ]
  },
  {
   "cell_type": "code",
   "execution_count": 11,
   "id": "2fbd19ee-f6c3-4b2c-b330-285130cd5347",
   "metadata": {},
   "outputs": [
    {
     "data": {
      "text/html": [
       "<style type=\"text/css\">\n",
       "</style>\n",
       "<table id=\"T_e1556\">\n",
       "  <thead>\n",
       "    <tr>\n",
       "      <th class=\"blank level0\" >&nbsp;</th>\n",
       "      <th id=\"T_e1556_level0_col0\" class=\"col_heading level0 col0\" >Optimal Solution</th>\n",
       "      <th id=\"T_e1556_level0_col1\" class=\"col_heading level0 col1\" >HappyHealth</th>\n",
       "      <th id=\"T_e1556_level0_col2\" class=\"col_heading level0 col2\" >VegaVita</th>\n",
       "    </tr>\n",
       "    <tr>\n",
       "      <th class=\"index_name level0\" >Model Status</th>\n",
       "      <th class=\"blank col0\" >&nbsp;</th>\n",
       "      <th class=\"blank col1\" >&nbsp;</th>\n",
       "      <th class=\"blank col2\" >&nbsp;</th>\n",
       "    </tr>\n",
       "  </thead>\n",
       "  <tbody>\n",
       "    <tr>\n",
       "      <th id=\"T_e1556_level0_row0\" class=\"row_heading level0 row0\" >Optimal</th>\n",
       "      <td id=\"T_e1556_row0_col0\" class=\"data row0 col0\" >1.2000000000000002</td>\n",
       "      <td id=\"T_e1556_row0_col1\" class=\"data row0 col1\" >2.0</td>\n",
       "      <td id=\"T_e1556_row0_col2\" class=\"data row0 col2\" >3.0</td>\n",
       "    </tr>\n",
       "  </tbody>\n",
       "</table>\n"
      ],
      "text/plain": [
       "<pandas.io.formats.style.Styler at 0x19250fdc650>"
      ]
     },
     "execution_count": 11,
     "metadata": {},
     "output_type": "execute_result"
    }
   ],
   "source": [
    "pd.DataFrame.from_dict(Results,orient='index').T.set_index('Model Status').style.format('{:,}')"
   ]
  },
  {
   "cell_type": "markdown",
   "id": "6b1ddc4b",
   "metadata": {},
   "source": [
    "### **Ejercicio 2: Problemas de horario**"
   ]
  },
  {
   "cell_type": "code",
   "execution_count": 12,
   "id": "13f944ca-ef56-46e8-88f7-2b08141c2208",
   "metadata": {
    "id": "13f944ca-ef56-46e8-88f7-2b08141c2208"
   },
   "outputs": [
    {
     "data": {
      "text/html": [
       "<iframe src=\"https://docs.google.com/presentation/d/e/2PACX-1vQtBRpIr6Hx1_T0zJ3_DRqsE82YUjx7ZkeEKLdA64fbjtjkmc6Ibf6ebzp6CY69D482IGpG2h9GcsC5/embed?start=false&loop=false&delayms=3000\" frameborder=\"0\" width=\"960\" height=\"569\" allowfullscreen=\"true\" mozallowfullscreen=\"true\" webkitallowfullscreen=\"true\"></iframe>\n"
      ],
      "text/plain": [
       "<IPython.core.display.HTML object>"
      ]
     },
     "metadata": {},
     "output_type": "display_data"
    }
   ],
   "source": [
    "%%html\n",
    "<iframe src=\"https://docs.google.com/presentation/d/e/2PACX-1vQtBRpIr6Hx1_T0zJ3_DRqsE82YUjx7ZkeEKLdA64fbjtjkmc6Ibf6ebzp6CY69D482IGpG2h9GcsC5/embed?start=false&loop=false&delayms=3000\" frameborder=\"0\" width=\"960\" height=\"569\" allowfullscreen=\"true\" mozallowfullscreen=\"true\" webkitallowfullscreen=\"true\"></iframe>"
   ]
  },
  {
   "cell_type": "markdown",
   "id": "a2f4763f",
   "metadata": {},
   "source": [
    "**Iniciamos el modelo**"
   ]
  },
  {
   "cell_type": "code",
   "execution_count": 13,
   "id": "f64635a8",
   "metadata": {},
   "outputs": [],
   "source": [
    "model3 = pp.LpProblem(name=\"scheduling-problem\", sense=pp.LpMinimize)\n"
   ]
  },
  {
   "cell_type": "markdown",
   "id": "393e1e49",
   "metadata": {},
   "source": [
    "**Establecemos las variables**"
   ]
  },
  {
   "cell_type": "code",
   "execution_count": 14,
   "id": "7068493d",
   "metadata": {},
   "outputs": [],
   "source": [
    "DR_0_8 = pp.LpVariable(name=\"DR_0_8\", lowBound=0, cat='Integer')\n",
    "DR_4_12 = pp.LpVariable(name=\"DR_4_12\", lowBound=0, cat='Integer')\n",
    "DR_8_16 = pp.LpVariable(name=\"DR_8_16\", lowBound=0, cat='Integer')\n",
    "DR_12_20 = pp.LpVariable(name=\"DR_12_20\", lowBound=0, cat='Integer')\n",
    "DR_16_0 = pp.LpVariable(name=\"DR_16_0\", lowBound=0, cat='Integer')\n",
    "DR_20_4 = pp.LpVariable(name=\"DR_20_4\", lowBound=0, cat='Integer')"
   ]
  },
  {
   "cell_type": "markdown",
   "id": "825fd6ec",
   "metadata": {},
   "source": [
    "**Creamos la función para optimizar**"
   ]
  },
  {
   "cell_type": "code",
   "execution_count": 15,
   "id": "b0cf31b0",
   "metadata": {},
   "outputs": [],
   "source": [
    "obj_func2 = DR_0_8 + DR_4_12 + DR_8_16 + DR_12_20 + DR_16_0 + DR_20_4\n"
   ]
  },
  {
   "cell_type": "markdown",
   "id": "07379b3f",
   "metadata": {},
   "source": [
    "**Contrains**"
   ]
  },
  {
   "cell_type": "code",
   "execution_count": 16,
   "id": "eb3c3568",
   "metadata": {},
   "outputs": [],
   "source": [
    "L1 = pp.LpConstraint(e=DR_0_8 + DR_20_4, sense=pp.LpConstraintGE, rhs=4, name=\"Demand Midnight to 4 am\")\n",
    "L2 = pp.LpConstraint(e=DR_0_8 + DR_4_12, sense=pp.LpConstraintGE, rhs=8, name=\"Demand 4 am to 8 am\")\n",
    "L3 = pp.LpConstraint(e=DR_4_12 + DR_8_16, sense=pp.LpConstraintGE, rhs=10, name=\"Demand 8 am to 12 pm\")\n",
    "L4 = pp.LpConstraint(e=DR_8_16 + DR_12_20, sense=pp.LpConstraintGE, rhs=7, name=\"Demand 12 pm to 4 pm\")\n",
    "L5 = pp.LpConstraint(e=DR_12_20 + DR_16_0, sense=pp.LpConstraintGE, rhs=12, name=\"Demand 4 pm to 8 pm\")\n",
    "L6 = pp.LpConstraint(e=DR_16_0 + DR_20_4, sense=pp.LpConstraintGE, rhs=4, name=\"Demand 8 pm to midnight\")"
   ]
  },
  {
   "cell_type": "code",
   "execution_count": 17,
   "id": "bb367c4e",
   "metadata": {},
   "outputs": [],
   "source": [
    "model3 += obj_func2\n",
    "model3 += L1\n",
    "model3 += L2\n",
    "model3 += L3\n",
    "model3 += L4\n",
    "model3 += L5\n",
    "model3 += L6"
   ]
  },
  {
   "cell_type": "markdown",
   "id": "8ac0faa2",
   "metadata": {},
   "source": [
    "**Resolvemos el modelo**"
   ]
  },
  {
   "cell_type": "code",
   "execution_count": 18,
   "id": "9510d706",
   "metadata": {},
   "outputs": [],
   "source": [
    "model3.solve();\n"
   ]
  },
  {
   "cell_type": "code",
   "execution_count": 19,
   "id": "45936d4f",
   "metadata": {},
   "outputs": [
    {
     "data": {
      "text/plain": [
       "{'Model Status': 'Optimal',\n",
       " 'Optimal Solution': 26.0,\n",
       " 'DR_0_8': 0.0,\n",
       " 'DR_12_20': 12.0,\n",
       " 'DR_16_0': 0.0,\n",
       " 'DR_20_4': 4.0,\n",
       " 'DR_4_12': 10.0,\n",
       " 'DR_8_16': 0.0}"
      ]
     },
     "execution_count": 19,
     "metadata": {},
     "output_type": "execute_result"
    }
   ],
   "source": [
    "results={\"Model Status\":pp.LpStatus[model3.status]}\n",
    "results.update({\"Optimal Solution\":pp.value(model3.objective)})\n",
    "results.update({v.name: v.varValue for v in model3.variables()})\n",
    "results"
   ]
  },
  {
   "cell_type": "code",
   "execution_count": 20,
   "id": "5ae00473",
   "metadata": {},
   "outputs": [
    {
     "data": {
      "text/html": [
       "<style type=\"text/css\">\n",
       "</style>\n",
       "<table id=\"T_bdd03\">\n",
       "  <thead>\n",
       "    <tr>\n",
       "      <th class=\"blank level0\" >&nbsp;</th>\n",
       "      <th id=\"T_bdd03_level0_col0\" class=\"col_heading level0 col0\" >Optimal Solution</th>\n",
       "      <th id=\"T_bdd03_level0_col1\" class=\"col_heading level0 col1\" >DR_0_8</th>\n",
       "      <th id=\"T_bdd03_level0_col2\" class=\"col_heading level0 col2\" >DR_12_20</th>\n",
       "      <th id=\"T_bdd03_level0_col3\" class=\"col_heading level0 col3\" >DR_16_0</th>\n",
       "      <th id=\"T_bdd03_level0_col4\" class=\"col_heading level0 col4\" >DR_20_4</th>\n",
       "      <th id=\"T_bdd03_level0_col5\" class=\"col_heading level0 col5\" >DR_4_12</th>\n",
       "      <th id=\"T_bdd03_level0_col6\" class=\"col_heading level0 col6\" >DR_8_16</th>\n",
       "    </tr>\n",
       "    <tr>\n",
       "      <th class=\"index_name level0\" >Model Status</th>\n",
       "      <th class=\"blank col0\" >&nbsp;</th>\n",
       "      <th class=\"blank col1\" >&nbsp;</th>\n",
       "      <th class=\"blank col2\" >&nbsp;</th>\n",
       "      <th class=\"blank col3\" >&nbsp;</th>\n",
       "      <th class=\"blank col4\" >&nbsp;</th>\n",
       "      <th class=\"blank col5\" >&nbsp;</th>\n",
       "      <th class=\"blank col6\" >&nbsp;</th>\n",
       "    </tr>\n",
       "  </thead>\n",
       "  <tbody>\n",
       "    <tr>\n",
       "      <th id=\"T_bdd03_level0_row0\" class=\"row_heading level0 row0\" >Optimal</th>\n",
       "      <td id=\"T_bdd03_row0_col0\" class=\"data row0 col0\" >26.0</td>\n",
       "      <td id=\"T_bdd03_row0_col1\" class=\"data row0 col1\" >0.0</td>\n",
       "      <td id=\"T_bdd03_row0_col2\" class=\"data row0 col2\" >12.0</td>\n",
       "      <td id=\"T_bdd03_row0_col3\" class=\"data row0 col3\" >0.0</td>\n",
       "      <td id=\"T_bdd03_row0_col4\" class=\"data row0 col4\" >4.0</td>\n",
       "      <td id=\"T_bdd03_row0_col5\" class=\"data row0 col5\" >10.0</td>\n",
       "      <td id=\"T_bdd03_row0_col6\" class=\"data row0 col6\" >0.0</td>\n",
       "    </tr>\n",
       "  </tbody>\n",
       "</table>\n"
      ],
      "text/plain": [
       "<pandas.io.formats.style.Styler at 0x1925388e2d0>"
      ]
     },
     "execution_count": 20,
     "metadata": {},
     "output_type": "execute_result"
    }
   ],
   "source": [
    "pd.DataFrame.from_dict(results,orient='index').T.set_index('Model Status').style.format('{:,}')"
   ]
  },
  {
   "cell_type": "markdown",
   "id": "2478f1d7-aa1c-4e6c-b404-d7faf01ab371",
   "metadata": {
    "id": "2478f1d7-aa1c-4e6c-b404-d7faf01ab371"
   },
   "source": [
    "# Parte 2: *Multicriteria Decision-Making*"
   ]
  },
  {
   "cell_type": "markdown",
   "id": "b50bc5f6-7d5d-4a90-bf30-ec0cd2e9aaac",
   "metadata": {
    "id": "b50bc5f6-7d5d-4a90-bf30-ec0cd2e9aaac"
   },
   "source": [
    "<div class=\"alert-success\">\n",
    "\n",
    "<strong>Ejercicio: Elegir un país para un programa de maestría</strong>\n",
    "\n",
    "- Si tienes los criterios: costo de vida, dificultad del idioma, posibilidades de conseguir un trabajo en ese país después de finalizar los estudios.\n",
    "- Si tienes las alternativas: Brasil, Canadá, EE.UU., Alemania.\n",
    "- Crea un modelo AHP y obtén el ranking.\n"
   ]
  },
  {
   "cell_type": "markdown",
   "id": "ee78de76",
   "metadata": {},
   "source": [
    "### Matriz de Comparación para Costo de Vida\n",
    "\n",
    "| Comparación          | País 1  | Puntaje | País 2      | Puntaje | Justificación                                                                                                                               |\n",
    "|----------------------|---------|---------|-------------|---------|---------------------------------------------------------------------------------------------------------------------------------------------|\n",
    "| **Brasil vs. Canadá**      | Brasil  | 1       | Canadá      | 7       | Según el índice de precios, Brasil es significativamente más asequible que Canadá, especialmente en vivienda y servicios, justificando un valor alto de **7** a favor de Brasil. |\n",
    "| **Brasil vs. Reino Unido** | Brasil  | 1       | Reino Unido | 9       | El costo de vida en el Reino Unido es considerablemente mayor que en Brasil, especialmente en ciudades grandes como Londres. Brasil, con su bajo costo de vida, obtiene un **9**. |\n",
    "| **Brasil vs. EE.UU.**      | Brasil  | 1       | EE.UU.      | 9       | EE.UU. tiene un índice de precios más alto en promedio en comparación con Brasil, especialmente en vivienda y servicios. Esto justifica un valor de **9** para Brasil como una opción mucho más asequible. |\n",
    "| **Canadá vs. Reino Unido** | Canadá  | 1       | Reino Unido | 3       | Aunque ambos tienen un costo de vida alto, Reino Unido es moderadamente más caro, especialmente en grandes ciudades, justificando una preferencia de **3** hacia Canadá. |\n",
    "| **Canadá vs. EE.UU.**      | Canadá  | 1       | EE.UU.      | 3       | EE.UU. es moderadamente más caro que Canadá, especialmente en servicios y vivienda. Esto justifica un valor de **3** a favor de Canadá en términos de accesibilidad. |\n",
    "| **Reino Unido vs. EE.UU.** | Reino Unido | 1    | EE.UU. | 2 | Reino Unido y EE.UU. tienen costos de vida similares, aunque ligeramente mayores en Reino Unido en ciertas áreas, justificando una leve preferencia hacia EE.UU. con un valor de **2**. |\n"
   ]
  },
  {
   "cell_type": "markdown",
   "id": "31cfd002",
   "metadata": {},
   "source": [
    "### Matriz de Comparación para Dificultad del Lenguaje\n",
    "\n",
    "| Comparación          | País 1  | Puntaje | País 2      | Puntaje | Justificación                                                                                                                                                             |\n",
    "|----------------------|---------|---------|-------------|---------|---------------------------------------------------------------------------------------------------------------------------------------------------------------------------|\n",
    "| **Brasil vs. Canadá**      | Brasil  | 1       | Canadá      | 3       | Aunque el portugués es un idioma nuevo para hispanohablantes, su similitud con el español facilita el aprendizaje. Sin embargo, el inglés, que se habla en Canadá, es un idioma global y más accesible para estudios internacionales, justificando una preferencia moderada de **3** hacia Canadá. |\n",
    "| **Brasil vs. Reino Unido** | Brasil  | 1       | Reino Unido | 5       | El inglés británico, como idioma principal en el Reino Unido, es ampliamente reconocido y facilita el acceso a materiales y redes internacionales. Aunque el portugués es cercano al español, el inglés ofrece mayores ventajas para la academia y los negocios, justificando una preferencia significativa de **5** hacia el Reino Unido. |\n",
    "| **Brasil vs. EE.UU.**      | Brasil  | 1       | EE.UU.      | 6       | El inglés estadounidense es ampliamente utilizado en educación, tecnología y negocios internacionales, y es el estándar en muchas industrias globales. Esto justifica una preferencia alta de **6** hacia EE.UU., donde el inglés es el idioma principal. |\n",
    "| **Canadá vs. Reino Unido** | Canadá  | 1       | Reino Unido | 3       | Aunque ambos países tienen el inglés como idioma principal, el Reino Unido utiliza variantes lingüísticas y culturales distintas. Aun así, ambas opciones son accesibles para angloparlantes, justificando una preferencia moderada de **3** hacia el Reino Unido. |\n",
    "| **Canadá vs. EE.UU.**      | Canadá  | 1       | EE.UU.      | 5       | Aunque Canadá y EE.UU. comparten el inglés como idioma principal, el inglés estadounidense es el estándar en muchos sectores y ofrece mayor familiaridad en ámbitos internacionales, justificando una preferencia alta de **5** hacia EE.UU. |\n",
    "| **Reino Unido vs. EE.UU.** | Reino Unido | 1    | EE.UU. | 3 | Ambos países son angloparlantes, pero el inglés estadounidense es más común en entornos académicos y profesionales globales. Esto justifica una preferencia moderada de **3** hacia EE.UU. |\n"
   ]
  },
  {
   "cell_type": "markdown",
   "metadata": {},
   "source": [
    "### Matriz de Comparación para Oportunidades de Empleo Post-Maestría\n",
    "\n",
    "| Comparación               | País 1  | Puntaje | País 2      | Puntaje | Justificación                                                                                                                                                                                                                                                                                                 |\n",
    "|---------------------------|---------|---------|-------------|---------|-------------------------------------------------------------------------------------------------------------------------------------------------------------------------------------------------------------------------------------------------------------------------------------------------------------|\n",
    "| **Brasil vs. Canadá**     | Brasil  | 1       | Canadá      | 4       | Canadá ofrece el Post-Graduation Work Permit (PGWP), permitiendo a los graduados internacionales trabajar hasta tres años y facilitando el acceso a la residencia permanente. Aunque Brasil ofrece oportunidades en sectores como ingeniería y salud, su mercado laboral es más limitado para expatriados y requiere permisos adicionales. |\n",
    "| **Brasil vs. Reino Unido** | Brasil  | 1       | Reino Unido | 3       | El Reino Unido permite a los graduados trabajar hasta dos años con la Graduate Route, mientras que Brasil requiere permisos de trabajo específicos y tiene menos opciones estructuradas para graduados internacionales. Aunque Brasil ofrece oportunidades en ingeniería y gestión, el Reino Unido proporciona mayor estabilidad laboral. |\n",
    "| **Brasil vs. EE.UU.**     | Brasil  | 1       | EE.UU.      | 4       | EE.UU. ofrece el OPT de hasta un año (y una extensión de 24 meses para graduados en STEM), lo que brinda a los estudiantes internacionales una ventaja en campos como tecnología, ciencia de datos y gestión. Además, el salario promedio en EE.UU. ($74,990) es significativamente mayor que en Brasil ($21,000). |\n",
    "| **Canadá vs. Reino Unido** | Canadá  | 4       | Reino Unido | 1       | Canadá tiene una ventaja con el PGWP, que permite hasta tres años de empleo y facilita la residencia permanente, mientras que el Reino Unido limita el empleo a dos años bajo la Graduate Route. La diferencia en la duración y las opciones de residencia favorece a Canadá. |\n",
    "| **Canadá vs. EE.UU.**     | Canadá  | 5       | EE.UU.      | 1       | Aunque ambos países ofrecen amplias oportunidades para los graduados, EE.UU. tiene un mercado laboral más robusto, especialmente en tecnología y STEM. La extensión del OPT para graduados en STEM y el salario promedio más alto justifican una preferencia fuerte hacia EE.UU. |\n",
    "| **Reino Unido vs. EE.UU.** | Reino Unido | 1       | EE.UU. | 6       | Aunque el Reino Unido ofrece dos años de empleo post-maestría con la Graduate Route, EE.UU. tiene una ventaja clara en empleabilidad, especialmente para graduados en STEM con la extensión de OPT, así como mayores salarios promedio y oportunidades en sectores tecnológicos. |\n"
   ]
  },
  {
   "cell_type": "markdown",
   "id": "4fe3425b",
   "metadata": {},
   "source": [
    "1. Descargamos la data"
   ]
  },
  {
   "cell_type": "code",
   "execution_count": 23,
   "id": "dc540081",
   "metadata": {},
   "outputs": [],
   "source": [
    "# the link to the data\n",
    "\n",
    "linkGoogle='https://docs.google.com/spreadsheets/d/e/2PACX-1vRUt165g9_9geYIsZvC75FLg3G6a5rwpz8U4SrCyS0Nk_AOVNdRrC6V9gKk6oy0IQ/pub?output=xlsx'# the link to the data"
   ]
  },
  {
   "cell_type": "markdown",
   "id": "f09b1738",
   "metadata": {},
   "source": [
    "2. Abrimos cada página"
   ]
  },
  {
   "cell_type": "code",
   "execution_count": 24,
   "id": "465e0883",
   "metadata": {},
   "outputs": [],
   "source": [
    "\n",
    "pairwise_living=pd.read_excel(linkGoogle,sheet_name='cost_living', index_col=0)\n",
    "pairwise_language=pd.read_excel(linkGoogle,sheet_name='language', index_col=0)\n",
    "pairwise_job=pd.read_excel(linkGoogle,sheet_name='job_finding', index_col=0)\n",
    "pairwise_criteria=pd.read_excel(linkGoogle,sheet_name='criteria', index_col=0)"
   ]
  },
  {
   "cell_type": "markdown",
   "id": "59b7f5c1",
   "metadata": {},
   "source": [
    "3. Convertimos las matrices en comparaciones (Pairwise)"
   ]
  },
  {
   "cell_type": "code",
   "execution_count": 25,
   "id": "a3970083",
   "metadata": {},
   "outputs": [],
   "source": [
    "import networkx as nx\n",
    "\n",
    "G_living = nx.from_pandas_adjacency(pairwise_living,create_using=nx.MultiDiGraph())\n",
    "living_comparisons ={(e[0],e[1]):e[2]['weight'] for e in G_living.edges(data=True) if e[0]!= e[1]}\n",
    "\n",
    "G_language = nx.from_pandas_adjacency(pairwise_language,create_using=nx.MultiDiGraph())\n",
    "language_comparisons={(e[0],e[1]):e[2]['weight'] for e in G_language.edges(data=True) if e[0]!= e[1]}\n",
    "\n",
    "G_job = nx.from_pandas_adjacency(pairwise_job,create_using=nx.MultiDiGraph())\n",
    "job_comparisons={(e[0],e[1]):e[2]['weight'] for e in G_job.edges(data=True) if e[0]!= e[1]}\n"
   ]
  },
  {
   "cell_type": "code",
   "execution_count": 26,
   "id": "301d774a",
   "metadata": {},
   "outputs": [
    {
     "data": {
      "text/plain": [
       "{('cost_living', 'language'): 8.0,\n",
       " ('cost_living', 'job_finding'): 6.0,\n",
       " ('language', 'cost_living'): 0.125,\n",
       " ('language', 'job_finding'): 0.111111111,\n",
       " ('job_finding', 'cost_living'): 5.0,\n",
       " ('job_finding', 'language'): 9.0}"
      ]
     },
     "execution_count": 26,
     "metadata": {},
     "output_type": "execute_result"
    }
   ],
   "source": [
    "#para criteria\n",
    "G_CRIT = nx.from_pandas_adjacency(pairwise_criteria,create_using=nx.MultiDiGraph())\n",
    "criteria_comparisons ={(e[0],e[1]):e[2]['weight'] for e in G_CRIT.edges(data=True) if e[0]!= e[1]}\n",
    "criteria_comparisons"
   ]
  },
  {
   "cell_type": "markdown",
   "id": "1910e539",
   "metadata": {},
   "source": [
    "4. Aplicamos el algoritmo"
   ]
  },
  {
   "cell_type": "code",
   "execution_count": null,
   "id": "3c53bcdc",
   "metadata": {},
   "outputs": [
    {
     "name": "stderr",
     "output_type": "stream",
     "text": [
      "\n",
      "[notice] A new release of pip is available: 24.2 -> 24.3.1\n",
      "[notice] To update, run: python.exe -m pip install --upgrade pip\n"
     ]
    },
    {
     "name": "stdout",
     "output_type": "stream",
     "text": [
      "Requirement already satisfied: ahpy in c:\\users\\nicolas silva\\appdata\\local\\programs\\python\\python312\\lib\\site-packages (2.0)\n",
      "Requirement already satisfied: numpy in c:\\users\\nicolas silva\\appdata\\local\\programs\\python\\python312\\lib\\site-packages (from ahpy) (2.0.2)\n",
      "Requirement already satisfied: scipy in c:\\users\\nicolas silva\\appdata\\local\\programs\\python\\python312\\lib\\site-packages (from ahpy) (1.14.1)\n"
     ]
    }
   ],
   "source": [
    "#!pip install ahpy\n",
    "import ahpy\n",
    "\n",
    "living = ahpy.Compare('living', living_comparisons, precision=3, random_index='saaty')\n",
    "language = ahpy.Compare('language', language_comparisons, precision=3, random_index='saaty')\n",
    "job = ahpy.Compare('job', job_comparisons, precision=3, random_index='saaty')\n",
    "criteria = ahpy.Compare('criteria', criteria_comparisons, precision=3, random_index='saaty')"
   ]
  },
  {
   "cell_type": "markdown",
   "id": "d901bbb2",
   "metadata": {},
   "source": [
    "5. Creamos la jerarquía"
   ]
  },
  {
   "cell_type": "code",
   "execution_count": 29,
   "id": "3ad4acd2",
   "metadata": {},
   "outputs": [],
   "source": [
    "criteria.add_children([living, language, job])"
   ]
  },
  {
   "cell_type": "markdown",
   "id": "67c40438",
   "metadata": {},
   "source": [
    "6. Resultados"
   ]
  },
  {
   "cell_type": "code",
   "execution_count": 30,
   "id": "d7c366ec",
   "metadata": {},
   "outputs": [
    {
     "name": "stdout",
     "output_type": "stream",
     "text": [
      "{'USA': np.float64(0.027), 'UK': np.float64(0.013), 'Canada': np.float64(0.006), 'Brazil': np.float64(0.003)}\n"
     ]
    }
   ],
   "source": [
    "print(criteria.target_weights)"
   ]
  },
  {
   "cell_type": "markdown",
   "id": "e5894d1d",
   "metadata": {},
   "source": [
    "7. Evaluamos consistencia"
   ]
  },
  {
   "cell_type": "code",
   "execution_count": 73,
   "id": "e481b4df",
   "metadata": {},
   "outputs": [
    {
     "data": {
      "text/plain": [
       "[('living', np.float64(0.057)),\n",
       " ('language', np.float64(0.056)),\n",
       " ('job', np.float64(0.219)),\n",
       " ('criteria', np.float64(0.243))]"
      ]
     },
     "execution_count": 73,
     "metadata": {},
     "output_type": "execute_result"
    }
   ],
   "source": [
    "## We should review comparissons if greater than 0.1!\n",
    "[(val.name,val.consistency_ratio) for val in [living, language, job, criteria]]"
   ]
  },
  {
   "cell_type": "markdown",
   "id": "60f6a0b9-872e-40c1-b681-64d6a9dc26e2",
   "metadata": {
    "id": "60f6a0b9-872e-40c1-b681-64d6a9dc26e2"
   },
   "source": [
    "# Parte 3: *Benchmarking*"
   ]
  },
  {
   "cell_type": "markdown",
   "id": "19cd21f6",
   "metadata": {},
   "source": [
    "<div class=\"alert-success\">\n",
    "\n",
    "<strong>Ejercicio: Eficiencia en el sector público (2023)</strong>\n",
    "\n",
    "- Encontrar un conjunto de municipalidades (se requiere homogeneidad).\n",
    "- Identificar un conjunto de variables comunes de entrada y salida para ellas.\n",
    "- Calcular la eficiencia.\n"
   ]
  },
  {
   "cell_type": "markdown",
   "id": "f013dca6",
   "metadata": {},
   "source": [
    "Para realizar el análisis se han seleccionado **2 inputs** y **3 outputs** para medir la eficiencia en la gestión municipal respecto a los insumos para garantizar la seguridad ciudadana.\n",
    "\n",
    "Las variables de análisis son las siguientes:\n",
    "\n",
    "**Inputs**\n",
    "\n",
    "* Ingresos totales\n",
    "* Sectores totales a los que se realiza seguimiento para garantizar seguridad\n",
    "\n",
    "**Outputs**\n",
    "\n",
    "* Gastos totales\n",
    "* Porcentaje de victimización\n",
    "* Infraestructura de seguridad total"
   ]
  },
  {
   "cell_type": "markdown",
   "id": "6fc709b1",
   "metadata": {},
   "source": [
    "De acuerdo con estas varaibles, y la población, se ha estimado un conjunto de distritos similares."
   ]
  },
  {
   "cell_type": "markdown",
   "id": "ccf7d28f",
   "metadata": {},
   "source": [
    "*Añadimos la data correspondiente para construir nuestros outputs* \n",
    "\n",
    "En esta ocasión, utilizaremos la información del [Registro Nacional de Municipalidades del 2023](https://www.datosabiertos.gob.pe/dataset/registro-nacional-de-municipalidades-renamu-2023-instituto-nacional-de-estad%C3%ADstica-e). "
   ]
  },
  {
   "cell_type": "code",
   "execution_count": 405,
   "id": "ece5845b",
   "metadata": {},
   "outputs": [],
   "source": [
    "import pyreadstat\n",
    "df, meta = pyreadstat.read_sav(\"Base-Datos_2023_f.sav\")"
   ]
  },
  {
   "cell_type": "code",
   "execution_count": 406,
   "id": "dd9902f3",
   "metadata": {},
   "outputs": [
    {
     "data": {
      "text/html": [
       "<div>\n",
       "<style scoped>\n",
       "    .dataframe tbody tr th:only-of-type {\n",
       "        vertical-align: middle;\n",
       "    }\n",
       "\n",
       "    .dataframe tbody tr th {\n",
       "        vertical-align: top;\n",
       "    }\n",
       "\n",
       "    .dataframe thead th {\n",
       "        text-align: right;\n",
       "    }\n",
       "</style>\n",
       "<table border=\"1\" class=\"dataframe\">\n",
       "  <thead>\n",
       "    <tr style=\"text-align: right;\">\n",
       "      <th></th>\n",
       "      <th>Distrito</th>\n",
       "      <th>Ingresos</th>\n",
       "      <th>sectores_t</th>\n",
       "      <th>infra</th>\n",
       "      <th>Gastos</th>\n",
       "    </tr>\n",
       "  </thead>\n",
       "  <tbody>\n",
       "    <tr>\n",
       "      <th>0</th>\n",
       "      <td>CHACHAPOYAS</td>\n",
       "      <td>24,416,506.39</td>\n",
       "      <td>5.00</td>\n",
       "      <td>NaN</td>\n",
       "      <td>42,362,843.29</td>\n",
       "    </tr>\n",
       "    <tr>\n",
       "      <th>1</th>\n",
       "      <td>ASUNCION</td>\n",
       "      <td>1,084,221.64</td>\n",
       "      <td>NaN</td>\n",
       "      <td>NaN</td>\n",
       "      <td>1,043,962.73</td>\n",
       "    </tr>\n",
       "    <tr>\n",
       "      <th>2</th>\n",
       "      <td>BALSAS</td>\n",
       "      <td>1,465,238.64</td>\n",
       "      <td>NaN</td>\n",
       "      <td>NaN</td>\n",
       "      <td>1,705,577.22</td>\n",
       "    </tr>\n",
       "    <tr>\n",
       "      <th>3</th>\n",
       "      <td>CHETO</td>\n",
       "      <td>1,328,705.55</td>\n",
       "      <td>NaN</td>\n",
       "      <td>NaN</td>\n",
       "      <td>1,531,739.79</td>\n",
       "    </tr>\n",
       "    <tr>\n",
       "      <th>4</th>\n",
       "      <td>CHILIQUIN</td>\n",
       "      <td>928,065.81</td>\n",
       "      <td>NaN</td>\n",
       "      <td>NaN</td>\n",
       "      <td>5,341,670.14</td>\n",
       "    </tr>\n",
       "  </tbody>\n",
       "</table>\n",
       "</div>"
      ],
      "text/plain": [
       "      Distrito      Ingresos  sectores_t  infra        Gastos\n",
       "0  CHACHAPOYAS 24,416,506.39        5.00    NaN 42,362,843.29\n",
       "1     ASUNCION  1,084,221.64         NaN    NaN  1,043,962.73\n",
       "2       BALSAS  1,465,238.64         NaN    NaN  1,705,577.22\n",
       "3        CHETO  1,328,705.55         NaN    NaN  1,531,739.79\n",
       "4    CHILIQUIN    928,065.81         NaN    NaN  5,341,670.14"
      ]
     },
     "execution_count": 406,
     "metadata": {},
     "output_type": "execute_result"
    }
   ],
   "source": [
    "df = df[['Distrito',\"C96\", 'P72A_1_1',  'P70A_9_2',\"C97\"]].copy()\n",
    "df.rename(columns={\"C96\": \"Ingresos\",'P72A_1_1': 'sectores_t',  \"C97\": \"Gastos\",'P70A_9_2':\"infra\"}, inplace=True)\n",
    "df.reset_index(drop=True, inplace=True)\n",
    "df.head()"
   ]
  },
  {
   "cell_type": "markdown",
   "id": "de068884",
   "metadata": {},
   "source": [
    "Añadimos variables faltantes de otras fuentes de información. La **Población** proviene de [REUNIS del MINSA](https://www.minsa.gob.pe/reunis/data/poblacion_estimada.asp).\n",
    "\n",
    "El porcentaje de victimización proviene del RENAMU."
   ]
  },
  {
   "cell_type": "code",
   "execution_count": 407,
   "id": "03a50cd2",
   "metadata": {},
   "outputs": [],
   "source": [
    "df2 =pd.read_excel(\"porcentaje_victimizacion_por_distrito.xlsx\")\n",
    "poblacion =pd.read_excel(\"poblacion_2023.xlsx\")"
   ]
  },
  {
   "cell_type": "code",
   "execution_count": 408,
   "id": "36e2b735",
   "metadata": {},
   "outputs": [],
   "source": [
    "df_ = df.merge(df2[['Distrito', 'porcentaje_victimizacion']], on='Distrito', how='left')"
   ]
  },
  {
   "cell_type": "code",
   "execution_count": 409,
   "id": "920f9d47",
   "metadata": {},
   "outputs": [],
   "source": [
    "df_ = df_.merge(poblacion[['Distrito', 'Total']], on='Distrito', how='left')"
   ]
  },
  {
   "cell_type": "code",
   "execution_count": 410,
   "id": "980d4d12",
   "metadata": {},
   "outputs": [
    {
     "name": "stdout",
     "output_type": "stream",
     "text": [
      "                  Distrito        Ingresos  sectores_t  infra          Gastos  \\\n",
      "1665            CHORRILLOS  158,955,561.68        4.00  31.00  136,398,031.24   \n",
      "1969           SAN ANTONIO  158,607,843.92        3.00    NaN   51,522,392.98   \n",
      "2075               SULLANA  160,136,371.26        6.00   1.00  147,215,512.70   \n",
      "1696             SAN BORJA  160,212,820.97        8.00  12.00  155,445,678.38   \n",
      "997              QUELLOUNO  161,616,393.34        4.00   8.00  118,601,102.95   \n",
      "1691         PUENTE PIEDRA  154,266,520.38       13.00  30.00  125,088,588.16   \n",
      "452             PAUCARPATA  166,266,149.80        5.00    NaN  141,876,766.53   \n",
      "1968                TORATA  150,530,385.41       45.00   0.00  113,920,401.53   \n",
      "2377               LOCUMBA  167,912,507.18        4.00  10.00   95,667,616.36   \n",
      "1349              HUANCAYO  149,930,722.83        4.00  10.00  119,763,095.16   \n",
      "440                  CAYMA  149,830,383.08       11.00   2.00   85,561,574.87   \n",
      "990              SANTA ANA  169,229,462.41        8.00    NaN  113,368,800.07   \n",
      "2223               JULIACA  148,587,493.81        6.00    NaN  126,305,758.53   \n",
      "195      CHAVIN DE HUANTAR  169,556,347.33        3.00    NaN   81,678,438.11   \n",
      "2401              CALLERIA  171,694,117.19        8.00   6.00  167,269,225.38   \n",
      "1675             LA MOLINA  146,003,997.22        6.00  27.00  138,164,493.60   \n",
      "2379                   ITE  145,554,933.48        2.00   5.00  100,464,004.42   \n",
      "1705  SAN MARTIN DE PORRES  145,409,912.79       18.00   7.00  156,226,225.89   \n",
      "527                  MAJES  145,024,235.57        6.00   3.00   75,110,292.82   \n",
      "1724     VILLA EL SALVADOR  144,382,195.79       13.00   7.00  119,143,935.40   \n",
      "1986                   ILO  175,261,567.66        4.00   1.00  129,976,101.19   \n",
      "916          SAN SEBASTIAN  140,761,077.44        7.00   5.00   83,604,252.36   \n",
      "1327          VISTA ALEGRE  138,915,676.03        3.00   3.00  101,281,311.31   \n",
      "192                  HUARI  138,123,067.67        9.00   6.00   84,011,752.80   \n",
      "810             BAMBAMARCA  137,503,076.39        3.00    NaN  110,725,852.76   \n",
      "2033          TAMBO GRANDE  134,874,887.70       15.00   1.00  106,742,574.04   \n",
      "2068                 PAITA  132,574,718.38       11.00    NaN   83,588,817.99   \n",
      "1322                 NASCA  186,167,620.56        5.00   1.00  141,665,268.34   \n",
      "1680            LURIGANCHO  131,491,859.87        9.00    NaN  130,745,284.00   \n",
      "445                LA JOYA  130,570,471.75        5.00    NaN  117,721,497.73   \n",
      "1882               IQUITOS  129,733,420.60        4.00  12.00  130,819,688.05   \n",
      "1677           LA VICTORIA  128,737,272.88       17.00   4.00  123,246,147.66   \n",
      "\n",
      "      porcentaje_victimizacion  Poblacion  \n",
      "1665                     15.62     373.55  \n",
      "1969                       NaN     276.00  \n",
      "2075                     31.25     195.02  \n",
      "1696                       NaN     131.66  \n",
      "997                        NaN      15.01  \n",
      "1691                       NaN     417.13  \n",
      "452                        NaN     140.77  \n",
      "1968                     12.50       7.89  \n",
      "2377                       NaN       3.09  \n",
      "1349                     12.50     125.65  \n",
      "440                      15.62     110.22  \n",
      "990                        NaN      30.50  \n",
      "2223                     57.50     256.16  \n",
      "195                        NaN       8.39  \n",
      "2401                       NaN     183.64  \n",
      "1675                       NaN     167.44  \n",
      "2379                       NaN       3.52  \n",
      "1705                     20.83     794.84  \n",
      "527                        NaN      76.44  \n",
      "1724                       NaN     441.48  \n",
      "1986                       NaN      75.81  \n",
      "916                      25.00     142.03  \n",
      "1327                       NaN      26.30  \n",
      "192                        NaN       9.62  \n",
      "810                        NaN      61.57  \n",
      "2033                       NaN     126.38  \n",
      "2068                       NaN     109.67  \n",
      "1322                       NaN        NaN  \n",
      "1680                     18.75     310.09  \n",
      "445                        NaN      42.24  \n",
      "1882                     12.50     155.68  \n",
      "1677                       NaN     188.90  \n"
     ]
    }
   ],
   "source": [
    "# Convertimos a numérico\n",
    "df_['Ingresos'] = pd.to_numeric(df_['Ingresos'], errors='coerce')\n",
    "df_['sectores_t'] = pd.to_numeric(df_['sectores_t'], errors='coerce')\n",
    "df_['infra'] = pd.to_numeric(df_['infra'], errors='coerce')\n",
    "df_['Gastos'] = pd.to_numeric(df_['Gastos'], errors='coerce')\n",
    "df_['porcentaje_victimizacion'] = pd.to_numeric(df_['porcentaje_victimizacion'], errors='coerce')\n",
    "df_['Total'] = pd.to_numeric(df_['Total'], errors='coerce')\n",
    "\n",
    "# Valores de referencia de acuerdo con Chorrillos\n",
    "referencia = df_[df_['Distrito'] == 'CHORRILLOS'][['Ingresos', 'sectores_t', 'infra', 'Gastos', 'porcentaje_victimizacion', 'Total']].values[0]\n",
    "\n",
    "df_['diferencia_ingreso'] = abs(df_['Ingresos'] - referencia[0])\n",
    "df_['diferencia_sectores'] = abs(df_['sectores_t'] - referencia[1])\n",
    "df_['diferencia_infra'] = abs(df_['infra'] - referencia[2])\n",
    "df_['diferencia_gastos'] = abs(df_['Gastos'] - referencia[3])\n",
    "df_['diferencia_victimizacion'] = abs(df_['porcentaje_victimizacion'] - referencia[4])\n",
    "df_['diferencia_poblacion'] = abs(df_['Total'] - referencia[5])\n",
    "\n",
    "# Ordenar y obtener los 15 distritos más similares\n",
    "df_similares = df_.sort_values(by=['diferencia_ingreso', 'diferencia_sectores', 'diferencia_infra', 'diferencia_gastos', 'diferencia_victimizacion', 'diferencia_poblacion']).head(40)\n",
    "df_similares = df_similares.drop_duplicates(subset='Distrito')\n",
    "\n",
    "#Numérico\n",
    "df_similares['Ingresos'] = df_similares['Ingresos'].map('{:,.2f}'.format)\n",
    "df_similares['Gastos'] = df_similares['Gastos'].map('{:,.2f}'.format)\n",
    "\n",
    "df_similares.rename(columns={'Total': 'Poblacion'}, inplace=True)\n",
    "\n",
    "df_similares = df_similares[['Distrito', 'Ingresos', 'sectores_t', 'infra', 'Gastos', 'porcentaje_victimizacion', 'Poblacion']]\n",
    "\n",
    "print(df_similares)\n"
   ]
  },
  {
   "cell_type": "code",
   "execution_count": 411,
   "id": "7d881255",
   "metadata": {},
   "outputs": [
    {
     "data": {
      "text/html": [
       "<div>\n",
       "<style scoped>\n",
       "    .dataframe tbody tr th:only-of-type {\n",
       "        vertical-align: middle;\n",
       "    }\n",
       "\n",
       "    .dataframe tbody tr th {\n",
       "        vertical-align: top;\n",
       "    }\n",
       "\n",
       "    .dataframe thead th {\n",
       "        text-align: right;\n",
       "    }\n",
       "</style>\n",
       "<table border=\"1\" class=\"dataframe\">\n",
       "  <thead>\n",
       "    <tr style=\"text-align: right;\">\n",
       "      <th></th>\n",
       "      <th>Distrito</th>\n",
       "      <th>Ingresos</th>\n",
       "      <th>sectores_t</th>\n",
       "      <th>infra</th>\n",
       "      <th>Gastos</th>\n",
       "      <th>porcentaje_victimizacion</th>\n",
       "      <th>Poblacion</th>\n",
       "    </tr>\n",
       "  </thead>\n",
       "  <tbody>\n",
       "    <tr>\n",
       "      <th>0</th>\n",
       "      <td>CHORRILLOS</td>\n",
       "      <td>158,955,561.68</td>\n",
       "      <td>4.00</td>\n",
       "      <td>31.00</td>\n",
       "      <td>136,398,031.24</td>\n",
       "      <td>15.62</td>\n",
       "      <td>373.55</td>\n",
       "    </tr>\n",
       "    <tr>\n",
       "      <th>1</th>\n",
       "      <td>SULLANA</td>\n",
       "      <td>160,136,371.26</td>\n",
       "      <td>6.00</td>\n",
       "      <td>1.00</td>\n",
       "      <td>147,215,512.70</td>\n",
       "      <td>31.25</td>\n",
       "      <td>195.02</td>\n",
       "    </tr>\n",
       "    <tr>\n",
       "      <th>2</th>\n",
       "      <td>TORATA</td>\n",
       "      <td>150,530,385.41</td>\n",
       "      <td>45.00</td>\n",
       "      <td>0.00</td>\n",
       "      <td>113,920,401.53</td>\n",
       "      <td>12.50</td>\n",
       "      <td>7.89</td>\n",
       "    </tr>\n",
       "    <tr>\n",
       "      <th>3</th>\n",
       "      <td>HUANCAYO</td>\n",
       "      <td>149,930,722.83</td>\n",
       "      <td>4.00</td>\n",
       "      <td>10.00</td>\n",
       "      <td>119,763,095.16</td>\n",
       "      <td>12.50</td>\n",
       "      <td>125.65</td>\n",
       "    </tr>\n",
       "    <tr>\n",
       "      <th>4</th>\n",
       "      <td>CAYMA</td>\n",
       "      <td>149,830,383.08</td>\n",
       "      <td>11.00</td>\n",
       "      <td>2.00</td>\n",
       "      <td>85,561,574.87</td>\n",
       "      <td>15.62</td>\n",
       "      <td>110.22</td>\n",
       "    </tr>\n",
       "    <tr>\n",
       "      <th>5</th>\n",
       "      <td>SAN MARTIN DE PORRES</td>\n",
       "      <td>145,409,912.79</td>\n",
       "      <td>18.00</td>\n",
       "      <td>7.00</td>\n",
       "      <td>156,226,225.89</td>\n",
       "      <td>20.83</td>\n",
       "      <td>794.84</td>\n",
       "    </tr>\n",
       "    <tr>\n",
       "      <th>6</th>\n",
       "      <td>SAN SEBASTIAN</td>\n",
       "      <td>140,761,077.44</td>\n",
       "      <td>7.00</td>\n",
       "      <td>5.00</td>\n",
       "      <td>83,604,252.36</td>\n",
       "      <td>25.00</td>\n",
       "      <td>142.03</td>\n",
       "    </tr>\n",
       "    <tr>\n",
       "      <th>7</th>\n",
       "      <td>IQUITOS</td>\n",
       "      <td>129,733,420.60</td>\n",
       "      <td>4.00</td>\n",
       "      <td>12.00</td>\n",
       "      <td>130,819,688.05</td>\n",
       "      <td>12.50</td>\n",
       "      <td>155.68</td>\n",
       "    </tr>\n",
       "  </tbody>\n",
       "</table>\n",
       "</div>"
      ],
      "text/plain": [
       "               Distrito        Ingresos  sectores_t  infra          Gastos  \\\n",
       "0            CHORRILLOS  158,955,561.68        4.00  31.00  136,398,031.24   \n",
       "1               SULLANA  160,136,371.26        6.00   1.00  147,215,512.70   \n",
       "2                TORATA  150,530,385.41       45.00   0.00  113,920,401.53   \n",
       "3              HUANCAYO  149,930,722.83        4.00  10.00  119,763,095.16   \n",
       "4                 CAYMA  149,830,383.08       11.00   2.00   85,561,574.87   \n",
       "5  SAN MARTIN DE PORRES  145,409,912.79       18.00   7.00  156,226,225.89   \n",
       "6         SAN SEBASTIAN  140,761,077.44        7.00   5.00   83,604,252.36   \n",
       "7               IQUITOS  129,733,420.60        4.00  12.00  130,819,688.05   \n",
       "\n",
       "   porcentaje_victimizacion  Poblacion  \n",
       "0                     15.62     373.55  \n",
       "1                     31.25     195.02  \n",
       "2                     12.50       7.89  \n",
       "3                     12.50     125.65  \n",
       "4                     15.62     110.22  \n",
       "5                     20.83     794.84  \n",
       "6                     25.00     142.03  \n",
       "7                     12.50     155.68  "
      ]
     },
     "execution_count": 411,
     "metadata": {},
     "output_type": "execute_result"
    }
   ],
   "source": [
    "df_similares = df_similares.dropna().reset_index(drop=True)\n",
    "df_similares"
   ]
  },
  {
   "cell_type": "code",
   "execution_count": 412,
   "id": "c173f0bb",
   "metadata": {},
   "outputs": [],
   "source": [
    "#Aseguramos que nuestras variables estén en formato numérico\n",
    "df_similares['Ingresos'] = df_similares['Ingresos'].str.replace(',', '').astype(float)\n",
    "df_similares['Gastos'] = df_similares['Gastos'].str.replace(',', '').astype(float)\n",
    "df_similares['Gastos'] = pd.to_numeric(df_similares['Gastos'], errors='coerce')\n",
    "df_similares['Ingresos'] = pd.to_numeric(df_similares['Ingresos'], errors='coerce')\n",
    "df_similares['porcentaje_victimizacion'] = pd.to_numeric(df_similares['porcentaje_victimizacion'], errors='coerce')\n",
    "df_similares['sectores_t'] = pd.to_numeric(df_similares['sectores_t'], errors='coerce')"
   ]
  },
  {
   "cell_type": "code",
   "execution_count": 413,
   "id": "51f86c15",
   "metadata": {},
   "outputs": [
    {
     "data": {
      "text/html": [
       "<div>\n",
       "<style scoped>\n",
       "    .dataframe tbody tr th:only-of-type {\n",
       "        vertical-align: middle;\n",
       "    }\n",
       "\n",
       "    .dataframe tbody tr th {\n",
       "        vertical-align: top;\n",
       "    }\n",
       "\n",
       "    .dataframe thead th {\n",
       "        text-align: right;\n",
       "    }\n",
       "</style>\n",
       "<table border=\"1\" class=\"dataframe\">\n",
       "  <thead>\n",
       "    <tr style=\"text-align: right;\">\n",
       "      <th></th>\n",
       "      <th>Distrito</th>\n",
       "      <th>Ingresos</th>\n",
       "      <th>sectores_t</th>\n",
       "      <th>infra</th>\n",
       "      <th>Gastos</th>\n",
       "      <th>porcentaje_victimizacion</th>\n",
       "      <th>Poblacion</th>\n",
       "    </tr>\n",
       "  </thead>\n",
       "  <tbody>\n",
       "    <tr>\n",
       "      <th>0</th>\n",
       "      <td>CHORRILLOS</td>\n",
       "      <td>158,955,561.68</td>\n",
       "      <td>4.00</td>\n",
       "      <td>31.00</td>\n",
       "      <td>136,398,031.24</td>\n",
       "      <td>15.62</td>\n",
       "      <td>373.55</td>\n",
       "    </tr>\n",
       "    <tr>\n",
       "      <th>1</th>\n",
       "      <td>SULLANA</td>\n",
       "      <td>160,136,371.26</td>\n",
       "      <td>6.00</td>\n",
       "      <td>1.00</td>\n",
       "      <td>147,215,512.70</td>\n",
       "      <td>31.25</td>\n",
       "      <td>195.02</td>\n",
       "    </tr>\n",
       "    <tr>\n",
       "      <th>2</th>\n",
       "      <td>TORATA</td>\n",
       "      <td>150,530,385.41</td>\n",
       "      <td>45.00</td>\n",
       "      <td>0.00</td>\n",
       "      <td>113,920,401.53</td>\n",
       "      <td>12.50</td>\n",
       "      <td>7.89</td>\n",
       "    </tr>\n",
       "    <tr>\n",
       "      <th>3</th>\n",
       "      <td>HUANCAYO</td>\n",
       "      <td>149,930,722.83</td>\n",
       "      <td>4.00</td>\n",
       "      <td>10.00</td>\n",
       "      <td>119,763,095.16</td>\n",
       "      <td>12.50</td>\n",
       "      <td>125.65</td>\n",
       "    </tr>\n",
       "    <tr>\n",
       "      <th>4</th>\n",
       "      <td>CAYMA</td>\n",
       "      <td>149,830,383.08</td>\n",
       "      <td>11.00</td>\n",
       "      <td>2.00</td>\n",
       "      <td>85,561,574.87</td>\n",
       "      <td>15.62</td>\n",
       "      <td>110.22</td>\n",
       "    </tr>\n",
       "    <tr>\n",
       "      <th>5</th>\n",
       "      <td>SAN MARTIN DE PORRES</td>\n",
       "      <td>145,409,912.79</td>\n",
       "      <td>18.00</td>\n",
       "      <td>7.00</td>\n",
       "      <td>156,226,225.89</td>\n",
       "      <td>20.83</td>\n",
       "      <td>794.84</td>\n",
       "    </tr>\n",
       "    <tr>\n",
       "      <th>6</th>\n",
       "      <td>SAN SEBASTIAN</td>\n",
       "      <td>140,761,077.44</td>\n",
       "      <td>7.00</td>\n",
       "      <td>5.00</td>\n",
       "      <td>83,604,252.36</td>\n",
       "      <td>25.00</td>\n",
       "      <td>142.03</td>\n",
       "    </tr>\n",
       "    <tr>\n",
       "      <th>7</th>\n",
       "      <td>IQUITOS</td>\n",
       "      <td>129,733,420.60</td>\n",
       "      <td>4.00</td>\n",
       "      <td>12.00</td>\n",
       "      <td>130,819,688.05</td>\n",
       "      <td>12.50</td>\n",
       "      <td>155.68</td>\n",
       "    </tr>\n",
       "  </tbody>\n",
       "</table>\n",
       "</div>"
      ],
      "text/plain": [
       "               Distrito       Ingresos  sectores_t  infra         Gastos  \\\n",
       "0            CHORRILLOS 158,955,561.68        4.00  31.00 136,398,031.24   \n",
       "1               SULLANA 160,136,371.26        6.00   1.00 147,215,512.70   \n",
       "2                TORATA 150,530,385.41       45.00   0.00 113,920,401.53   \n",
       "3              HUANCAYO 149,930,722.83        4.00  10.00 119,763,095.16   \n",
       "4                 CAYMA 149,830,383.08       11.00   2.00  85,561,574.87   \n",
       "5  SAN MARTIN DE PORRES 145,409,912.79       18.00   7.00 156,226,225.89   \n",
       "6         SAN SEBASTIAN 140,761,077.44        7.00   5.00  83,604,252.36   \n",
       "7               IQUITOS 129,733,420.60        4.00  12.00 130,819,688.05   \n",
       "\n",
       "   porcentaje_victimizacion  Poblacion  \n",
       "0                     15.62     373.55  \n",
       "1                     31.25     195.02  \n",
       "2                     12.50       7.89  \n",
       "3                     12.50     125.65  \n",
       "4                     15.62     110.22  \n",
       "5                     20.83     794.84  \n",
       "6                     25.00     142.03  \n",
       "7                     12.50     155.68  "
      ]
     },
     "execution_count": 413,
     "metadata": {},
     "output_type": "execute_result"
    }
   ],
   "source": [
    "df_similares"
   ]
  },
  {
   "cell_type": "code",
   "execution_count": 414,
   "id": "f819dcf2",
   "metadata": {},
   "outputs": [],
   "source": [
    "pd.options.display.float_format = '{:,.2f}'.format\n"
   ]
  },
  {
   "cell_type": "markdown",
   "id": "9ea32914",
   "metadata": {},
   "source": [
    "Construimos tasas entre nuestros inputs y outputs"
   ]
  },
  {
   "cell_type": "code",
   "execution_count": 415,
   "id": "6f5812f5-d64b-4d05-91e7-57159dbc6368",
   "metadata": {
    "id": "6f5812f5-d64b-4d05-91e7-57159dbc6368"
   },
   "outputs": [],
   "source": [
    "# ratio passenger employee:\n",
    "df_similares['rate_GastosByIngresos']=(df_similares.Gastos/df_similares.Ingresos)\n",
    "df_similares['rate_victimizacionBySectores']=(df_similares.porcentaje_victimizacion/df_similares.sectores_t)\n"
   ]
  },
  {
   "cell_type": "code",
   "execution_count": 416,
   "id": "670633ef",
   "metadata": {},
   "outputs": [
    {
     "data": {
      "text/html": [
       "<div>\n",
       "<style scoped>\n",
       "    .dataframe tbody tr th:only-of-type {\n",
       "        vertical-align: middle;\n",
       "    }\n",
       "\n",
       "    .dataframe tbody tr th {\n",
       "        vertical-align: top;\n",
       "    }\n",
       "\n",
       "    .dataframe thead th {\n",
       "        text-align: right;\n",
       "    }\n",
       "</style>\n",
       "<table border=\"1\" class=\"dataframe\">\n",
       "  <thead>\n",
       "    <tr style=\"text-align: right;\">\n",
       "      <th></th>\n",
       "      <th>Distrito</th>\n",
       "      <th>Ingresos</th>\n",
       "      <th>sectores_t</th>\n",
       "      <th>infra</th>\n",
       "      <th>Gastos</th>\n",
       "      <th>porcentaje_victimizacion</th>\n",
       "      <th>Poblacion</th>\n",
       "      <th>rate_GastosByIngresos</th>\n",
       "      <th>rate_victimizacionBySectores</th>\n",
       "    </tr>\n",
       "  </thead>\n",
       "  <tbody>\n",
       "    <tr>\n",
       "      <th>0</th>\n",
       "      <td>CHORRILLOS</td>\n",
       "      <td>158,955,561.68</td>\n",
       "      <td>4.00</td>\n",
       "      <td>31.00</td>\n",
       "      <td>136,398,031.24</td>\n",
       "      <td>15.62</td>\n",
       "      <td>373.55</td>\n",
       "      <td>0.86</td>\n",
       "      <td>3.91</td>\n",
       "    </tr>\n",
       "    <tr>\n",
       "      <th>1</th>\n",
       "      <td>SULLANA</td>\n",
       "      <td>160,136,371.26</td>\n",
       "      <td>6.00</td>\n",
       "      <td>1.00</td>\n",
       "      <td>147,215,512.70</td>\n",
       "      <td>31.25</td>\n",
       "      <td>195.02</td>\n",
       "      <td>0.92</td>\n",
       "      <td>5.21</td>\n",
       "    </tr>\n",
       "    <tr>\n",
       "      <th>2</th>\n",
       "      <td>TORATA</td>\n",
       "      <td>150,530,385.41</td>\n",
       "      <td>45.00</td>\n",
       "      <td>0.00</td>\n",
       "      <td>113,920,401.53</td>\n",
       "      <td>12.50</td>\n",
       "      <td>7.89</td>\n",
       "      <td>0.76</td>\n",
       "      <td>0.28</td>\n",
       "    </tr>\n",
       "    <tr>\n",
       "      <th>3</th>\n",
       "      <td>HUANCAYO</td>\n",
       "      <td>149,930,722.83</td>\n",
       "      <td>4.00</td>\n",
       "      <td>10.00</td>\n",
       "      <td>119,763,095.16</td>\n",
       "      <td>12.50</td>\n",
       "      <td>125.65</td>\n",
       "      <td>0.80</td>\n",
       "      <td>3.12</td>\n",
       "    </tr>\n",
       "    <tr>\n",
       "      <th>4</th>\n",
       "      <td>CAYMA</td>\n",
       "      <td>149,830,383.08</td>\n",
       "      <td>11.00</td>\n",
       "      <td>2.00</td>\n",
       "      <td>85,561,574.87</td>\n",
       "      <td>15.62</td>\n",
       "      <td>110.22</td>\n",
       "      <td>0.57</td>\n",
       "      <td>1.42</td>\n",
       "    </tr>\n",
       "    <tr>\n",
       "      <th>5</th>\n",
       "      <td>SAN MARTIN DE PORRES</td>\n",
       "      <td>145,409,912.79</td>\n",
       "      <td>18.00</td>\n",
       "      <td>7.00</td>\n",
       "      <td>156,226,225.89</td>\n",
       "      <td>20.83</td>\n",
       "      <td>794.84</td>\n",
       "      <td>1.07</td>\n",
       "      <td>1.16</td>\n",
       "    </tr>\n",
       "    <tr>\n",
       "      <th>6</th>\n",
       "      <td>SAN SEBASTIAN</td>\n",
       "      <td>140,761,077.44</td>\n",
       "      <td>7.00</td>\n",
       "      <td>5.00</td>\n",
       "      <td>83,604,252.36</td>\n",
       "      <td>25.00</td>\n",
       "      <td>142.03</td>\n",
       "      <td>0.59</td>\n",
       "      <td>3.57</td>\n",
       "    </tr>\n",
       "    <tr>\n",
       "      <th>7</th>\n",
       "      <td>IQUITOS</td>\n",
       "      <td>129,733,420.60</td>\n",
       "      <td>4.00</td>\n",
       "      <td>12.00</td>\n",
       "      <td>130,819,688.05</td>\n",
       "      <td>12.50</td>\n",
       "      <td>155.68</td>\n",
       "      <td>1.01</td>\n",
       "      <td>3.12</td>\n",
       "    </tr>\n",
       "  </tbody>\n",
       "</table>\n",
       "</div>"
      ],
      "text/plain": [
       "               Distrito       Ingresos  sectores_t  infra         Gastos  \\\n",
       "0            CHORRILLOS 158,955,561.68        4.00  31.00 136,398,031.24   \n",
       "1               SULLANA 160,136,371.26        6.00   1.00 147,215,512.70   \n",
       "2                TORATA 150,530,385.41       45.00   0.00 113,920,401.53   \n",
       "3              HUANCAYO 149,930,722.83        4.00  10.00 119,763,095.16   \n",
       "4                 CAYMA 149,830,383.08       11.00   2.00  85,561,574.87   \n",
       "5  SAN MARTIN DE PORRES 145,409,912.79       18.00   7.00 156,226,225.89   \n",
       "6         SAN SEBASTIAN 140,761,077.44        7.00   5.00  83,604,252.36   \n",
       "7               IQUITOS 129,733,420.60        4.00  12.00 130,819,688.05   \n",
       "\n",
       "   porcentaje_victimizacion  Poblacion  rate_GastosByIngresos  \\\n",
       "0                     15.62     373.55                   0.86   \n",
       "1                     31.25     195.02                   0.92   \n",
       "2                     12.50       7.89                   0.76   \n",
       "3                     12.50     125.65                   0.80   \n",
       "4                     15.62     110.22                   0.57   \n",
       "5                     20.83     794.84                   1.07   \n",
       "6                     25.00     142.03                   0.59   \n",
       "7                     12.50     155.68                   1.01   \n",
       "\n",
       "   rate_victimizacionBySectores  \n",
       "0                          3.91  \n",
       "1                          5.21  \n",
       "2                          0.28  \n",
       "3                          3.12  \n",
       "4                          1.42  \n",
       "5                          1.16  \n",
       "6                          3.57  \n",
       "7                          3.12  "
      ]
     },
     "execution_count": 416,
     "metadata": {},
     "output_type": "execute_result"
    }
   ],
   "source": [
    "df_similares"
   ]
  },
  {
   "cell_type": "markdown",
   "id": "dd7ee6d4-1673-4976-a4a6-2f10b3de2135",
   "metadata": {
    "id": "dd7ee6d4-1673-4976-a4a6-2f10b3de2135"
   },
   "source": [
    "Ploteamos algunas tasas"
   ]
  },
  {
   "cell_type": "code",
   "execution_count": 417,
   "id": "2f2c746f-28fb-4e24-92d2-aaffc4af7658",
   "metadata": {
    "id": "2f2c746f-28fb-4e24-92d2-aaffc4af7658"
   },
   "outputs": [
    {
     "data": {
      "text/html": [
       "\n",
       "<style>\n",
       "  #altair-viz-8ce278a251f34a9893762136dba3b8d0.vega-embed {\n",
       "    width: 100%;\n",
       "    display: flex;\n",
       "  }\n",
       "\n",
       "  #altair-viz-8ce278a251f34a9893762136dba3b8d0.vega-embed details,\n",
       "  #altair-viz-8ce278a251f34a9893762136dba3b8d0.vega-embed details summary {\n",
       "    position: relative;\n",
       "  }\n",
       "</style>\n",
       "<div id=\"altair-viz-8ce278a251f34a9893762136dba3b8d0\"></div>\n",
       "<script type=\"text/javascript\">\n",
       "  var VEGA_DEBUG = (typeof VEGA_DEBUG == \"undefined\") ? {} : VEGA_DEBUG;\n",
       "  (function(spec, embedOpt){\n",
       "    let outputDiv = document.currentScript.previousElementSibling;\n",
       "    if (outputDiv.id !== \"altair-viz-8ce278a251f34a9893762136dba3b8d0\") {\n",
       "      outputDiv = document.getElementById(\"altair-viz-8ce278a251f34a9893762136dba3b8d0\");\n",
       "    }\n",
       "    const paths = {\n",
       "      \"vega\": \"https://cdn.jsdelivr.net/npm/vega@5?noext\",\n",
       "      \"vega-lib\": \"https://cdn.jsdelivr.net/npm/vega-lib?noext\",\n",
       "      \"vega-lite\": \"https://cdn.jsdelivr.net/npm/vega-lite@5.20.1?noext\",\n",
       "      \"vega-embed\": \"https://cdn.jsdelivr.net/npm/vega-embed@6?noext\",\n",
       "    };\n",
       "\n",
       "    function maybeLoadScript(lib, version) {\n",
       "      var key = `${lib.replace(\"-\", \"\")}_version`;\n",
       "      return (VEGA_DEBUG[key] == version) ?\n",
       "        Promise.resolve(paths[lib]) :\n",
       "        new Promise(function(resolve, reject) {\n",
       "          var s = document.createElement('script');\n",
       "          document.getElementsByTagName(\"head\")[0].appendChild(s);\n",
       "          s.async = true;\n",
       "          s.onload = () => {\n",
       "            VEGA_DEBUG[key] = version;\n",
       "            return resolve(paths[lib]);\n",
       "          };\n",
       "          s.onerror = () => reject(`Error loading script: ${paths[lib]}`);\n",
       "          s.src = paths[lib];\n",
       "        });\n",
       "    }\n",
       "\n",
       "    function showError(err) {\n",
       "      outputDiv.innerHTML = `<div class=\"error\" style=\"color:red;\">${err}</div>`;\n",
       "      throw err;\n",
       "    }\n",
       "\n",
       "    function displayChart(vegaEmbed) {\n",
       "      vegaEmbed(outputDiv, spec, embedOpt)\n",
       "        .catch(err => showError(`Javascript Error: ${err.message}<br>This usually means there's a typo in your chart specification. See the javascript console for the full traceback.`));\n",
       "    }\n",
       "\n",
       "    if(typeof define === \"function\" && define.amd) {\n",
       "      requirejs.config({paths});\n",
       "      require([\"vega-embed\"], displayChart, err => showError(`Error loading script: ${err.message}`));\n",
       "    } else {\n",
       "      maybeLoadScript(\"vega\", \"5\")\n",
       "        .then(() => maybeLoadScript(\"vega-lite\", \"5.20.1\"))\n",
       "        .then(() => maybeLoadScript(\"vega-embed\", \"6\"))\n",
       "        .catch(showError)\n",
       "        .then(() => displayChart(vegaEmbed));\n",
       "    }\n",
       "  })({\"config\": {\"view\": {\"continuousWidth\": 300, \"continuousHeight\": 300}}, \"layer\": [{\"mark\": {\"type\": \"point\"}, \"encoding\": {\"x\": {\"field\": \"rate_GastosByIngresos\", \"type\": \"quantitative\"}, \"y\": {\"field\": \"rate_victimizacionBySectores\", \"type\": \"quantitative\"}}}, {\"mark\": {\"type\": \"text\", \"align\": \"right\", \"baseline\": \"middle\", \"dx\": -7}, \"encoding\": {\"text\": {\"field\": \"Distrito\", \"type\": \"nominal\"}, \"x\": {\"field\": \"rate_GastosByIngresos\", \"type\": \"quantitative\"}, \"y\": {\"field\": \"rate_victimizacionBySectores\", \"type\": \"quantitative\"}}, \"name\": \"view_16\"}], \"data\": {\"name\": \"data-6b5f025c2cd5f03796056e0c724b00c0\"}, \"params\": [{\"name\": \"param_14\", \"select\": {\"type\": \"interval\", \"encodings\": [\"x\", \"y\"]}, \"bind\": \"scales\", \"views\": [\"view_16\"]}], \"$schema\": \"https://vega.github.io/schema/vega-lite/v5.20.1.json\", \"datasets\": {\"data-6b5f025c2cd5f03796056e0c724b00c0\": [{\"Distrito\": \"CHORRILLOS\", \"Ingresos\": 158955561.68, \"sectores_t\": 4.0, \"infra\": 31.0, \"Gastos\": 136398031.24, \"porcentaje_victimizacion\": 15.625, \"Poblacion\": 373.55, \"rate_GastosByIngresos\": 0.8580890772138474, \"rate_victimizacionBySectores\": 3.90625}, {\"Distrito\": \"SULLANA\", \"Ingresos\": 160136371.26, \"sectores_t\": 6.0, \"infra\": 1.0, \"Gastos\": 147215512.7, \"porcentaje_victimizacion\": 31.25, \"Poblacion\": 195.022, \"rate_GastosByIngresos\": 0.9193134048290535, \"rate_victimizacionBySectores\": 5.208333333333333}, {\"Distrito\": \"TORATA\", \"Ingresos\": 150530385.41, \"sectores_t\": 45.0, \"infra\": 0.0, \"Gastos\": 113920401.53, \"porcentaje_victimizacion\": 12.5, \"Poblacion\": 7.886, \"rate_GastosByIngresos\": 0.7567933956969201, \"rate_victimizacionBySectores\": 0.2777777777777778}, {\"Distrito\": \"HUANCAYO\", \"Ingresos\": 149930722.83, \"sectores_t\": 4.0, \"infra\": 10.0, \"Gastos\": 119763095.16, \"porcentaje_victimizacion\": 12.5, \"Poblacion\": 125.646, \"rate_GastosByIngresos\": 0.7987895535979921, \"rate_victimizacionBySectores\": 3.125}, {\"Distrito\": \"CAYMA\", \"Ingresos\": 149830383.08, \"sectores_t\": 11.0, \"infra\": 2.0, \"Gastos\": 85561574.87, \"porcentaje_victimizacion\": 15.625, \"Poblacion\": 110.215, \"rate_GastosByIngresos\": 0.571056237801351, \"rate_victimizacionBySectores\": 1.4204545454545454}, {\"Distrito\": \"SAN MARTIN DE PORRES\", \"Ingresos\": 145409912.79, \"sectores_t\": 18.0, \"infra\": 7.0, \"Gastos\": 156226225.89, \"porcentaje_victimizacion\": 20.83333333333334, \"Poblacion\": 794.838, \"rate_GastosByIngresos\": 1.0743849775607859, \"rate_victimizacionBySectores\": 1.1574074074074077}, {\"Distrito\": \"SAN SEBASTIAN\", \"Ingresos\": 140761077.44, \"sectores_t\": 7.0, \"infra\": 5.0, \"Gastos\": 83604252.36, \"porcentaje_victimizacion\": 25.0, \"Poblacion\": 142.028, \"rate_GastosByIngresos\": 0.5939443905978673, \"rate_victimizacionBySectores\": 3.5714285714285716}, {\"Distrito\": \"IQUITOS\", \"Ingresos\": 129733420.6, \"sectores_t\": 4.0, \"infra\": 12.0, \"Gastos\": 130819688.05, \"porcentaje_victimizacion\": 12.5, \"Poblacion\": 155.679, \"rate_GastosByIngresos\": 1.0083730733759748, \"rate_victimizacionBySectores\": 3.125}]}}, {\"mode\": \"vega-lite\"});\n",
       "</script>"
      ],
      "text/plain": [
       "alt.LayerChart(...)"
      ]
     },
     "execution_count": 417,
     "metadata": {},
     "output_type": "execute_result"
    }
   ],
   "source": [
    "import altair as alt\n",
    "\n",
    "points = alt.Chart(df_similares).mark_point().encode(\n",
    "    x='rate_GastosByIngresos:Q',\n",
    "    y='rate_victimizacionBySectores:Q'\n",
    ")\n",
    "\n",
    "text = points.mark_text(\n",
    "    align='right',\n",
    "    baseline='middle',\n",
    "    dx=-7\n",
    ").encode(\n",
    "    text='Distrito'\n",
    ").interactive()\n",
    "\n",
    "points + text"
   ]
  },
  {
   "cell_type": "markdown",
   "id": "c0665021-e733-4e7d-bf03-fca028b269c9",
   "metadata": {
    "id": "c0665021-e733-4e7d-bf03-fca028b269c9"
   },
   "source": [
    "¿Cuál es más eficiente? "
   ]
  },
  {
   "cell_type": "code",
   "execution_count": 420,
   "id": "9333f68a-1e25-4d03-907d-f142a623823f",
   "metadata": {
    "id": "9333f68a-1e25-4d03-907d-f142a623823f"
   },
   "outputs": [
    {
     "data": {
      "text/html": [
       "<div>\n",
       "<style scoped>\n",
       "    .dataframe tbody tr th:only-of-type {\n",
       "        vertical-align: middle;\n",
       "    }\n",
       "\n",
       "    .dataframe tbody tr th {\n",
       "        vertical-align: top;\n",
       "    }\n",
       "\n",
       "    .dataframe thead th {\n",
       "        text-align: right;\n",
       "    }\n",
       "</style>\n",
       "<table border=\"1\" class=\"dataframe\">\n",
       "  <thead>\n",
       "    <tr style=\"text-align: right;\">\n",
       "      <th></th>\n",
       "      <th>Distrito</th>\n",
       "      <th>rate_GastosByIngresos</th>\n",
       "      <th>rate_victimizacionBySectores</th>\n",
       "    </tr>\n",
       "  </thead>\n",
       "  <tbody>\n",
       "    <tr>\n",
       "      <th>5</th>\n",
       "      <td>SAN MARTIN DE PORRES</td>\n",
       "      <td>1.07</td>\n",
       "      <td>1.16</td>\n",
       "    </tr>\n",
       "    <tr>\n",
       "      <th>7</th>\n",
       "      <td>IQUITOS</td>\n",
       "      <td>1.01</td>\n",
       "      <td>3.12</td>\n",
       "    </tr>\n",
       "    <tr>\n",
       "      <th>1</th>\n",
       "      <td>SULLANA</td>\n",
       "      <td>0.92</td>\n",
       "      <td>5.21</td>\n",
       "    </tr>\n",
       "    <tr>\n",
       "      <th>0</th>\n",
       "      <td>CHORRILLOS</td>\n",
       "      <td>0.86</td>\n",
       "      <td>3.91</td>\n",
       "    </tr>\n",
       "    <tr>\n",
       "      <th>3</th>\n",
       "      <td>HUANCAYO</td>\n",
       "      <td>0.80</td>\n",
       "      <td>3.12</td>\n",
       "    </tr>\n",
       "  </tbody>\n",
       "</table>\n",
       "</div>"
      ],
      "text/plain": [
       "               Distrito  rate_GastosByIngresos  rate_victimizacionBySectores\n",
       "5  SAN MARTIN DE PORRES                   1.07                          1.16\n",
       "7               IQUITOS                   1.01                          3.12\n",
       "1               SULLANA                   0.92                          5.21\n",
       "0            CHORRILLOS                   0.86                          3.91\n",
       "3              HUANCAYO                   0.80                          3.12"
      ]
     },
     "execution_count": 420,
     "metadata": {},
     "output_type": "execute_result"
    }
   ],
   "source": [
    "df_similares[['Distrito','rate_GastosByIngresos','rate_victimizacionBySectores']].sort_values(by='rate_GastosByIngresos',ascending=False).head()"
   ]
  },
  {
   "cell_type": "code",
   "execution_count": 421,
   "id": "3c2a7e8b-71ba-4f97-a0de-1e4bc02f285f",
   "metadata": {
    "id": "3c2a7e8b-71ba-4f97-a0de-1e4bc02f285f"
   },
   "outputs": [
    {
     "data": {
      "text/html": [
       "<div>\n",
       "<style scoped>\n",
       "    .dataframe tbody tr th:only-of-type {\n",
       "        vertical-align: middle;\n",
       "    }\n",
       "\n",
       "    .dataframe tbody tr th {\n",
       "        vertical-align: top;\n",
       "    }\n",
       "\n",
       "    .dataframe thead th {\n",
       "        text-align: right;\n",
       "    }\n",
       "</style>\n",
       "<table border=\"1\" class=\"dataframe\">\n",
       "  <thead>\n",
       "    <tr style=\"text-align: right;\">\n",
       "      <th></th>\n",
       "      <th>Distrito</th>\n",
       "      <th>rate_GastosByIngresos</th>\n",
       "      <th>rate_victimizacionBySectores</th>\n",
       "    </tr>\n",
       "  </thead>\n",
       "  <tbody>\n",
       "    <tr>\n",
       "      <th>1</th>\n",
       "      <td>SULLANA</td>\n",
       "      <td>0.92</td>\n",
       "      <td>5.21</td>\n",
       "    </tr>\n",
       "    <tr>\n",
       "      <th>0</th>\n",
       "      <td>CHORRILLOS</td>\n",
       "      <td>0.86</td>\n",
       "      <td>3.91</td>\n",
       "    </tr>\n",
       "    <tr>\n",
       "      <th>6</th>\n",
       "      <td>SAN SEBASTIAN</td>\n",
       "      <td>0.59</td>\n",
       "      <td>3.57</td>\n",
       "    </tr>\n",
       "    <tr>\n",
       "      <th>3</th>\n",
       "      <td>HUANCAYO</td>\n",
       "      <td>0.80</td>\n",
       "      <td>3.12</td>\n",
       "    </tr>\n",
       "    <tr>\n",
       "      <th>7</th>\n",
       "      <td>IQUITOS</td>\n",
       "      <td>1.01</td>\n",
       "      <td>3.12</td>\n",
       "    </tr>\n",
       "  </tbody>\n",
       "</table>\n",
       "</div>"
      ],
      "text/plain": [
       "        Distrito  rate_GastosByIngresos  rate_victimizacionBySectores\n",
       "1        SULLANA                   0.92                          5.21\n",
       "0     CHORRILLOS                   0.86                          3.91\n",
       "6  SAN SEBASTIAN                   0.59                          3.57\n",
       "3       HUANCAYO                   0.80                          3.12\n",
       "7        IQUITOS                   1.01                          3.12"
      ]
     },
     "execution_count": 421,
     "metadata": {},
     "output_type": "execute_result"
    }
   ],
   "source": [
    "df_similares[['Distrito','rate_GastosByIngresos','rate_victimizacionBySectores']].sort_values(by='rate_victimizacionBySectores',ascending=False).head()"
   ]
  },
  {
   "cell_type": "markdown",
   "id": "d22cef46-f69f-4ca0-bfe0-69e4d6cd2f81",
   "metadata": {
    "id": "d22cef46-f69f-4ca0-bfe0-69e4d6cd2f81"
   },
   "source": [
    "**Envelope**"
   ]
  },
  {
   "cell_type": "markdown",
   "id": "18eae1a5",
   "metadata": {},
   "source": [
    "Como el envelope esta diseñado para utilizarse con dos columnas (X,y) vamos a descartar la variable de casestas por el presupuesto girado, ya que es muy reducida. En este caso, contar con cámaras parecería explicar más respecto al uso de este presupuesto."
   ]
  },
  {
   "cell_type": "code",
   "execution_count": 423,
   "id": "d71901fd-13dc-45c1-b01f-39005c3b04a7",
   "metadata": {
    "id": "d71901fd-13dc-45c1-b01f-39005c3b04a7"
   },
   "outputs": [
    {
     "data": {
      "text/html": [
       "<div>\n",
       "<style scoped>\n",
       "    .dataframe tbody tr th:only-of-type {\n",
       "        vertical-align: middle;\n",
       "    }\n",
       "\n",
       "    .dataframe tbody tr th {\n",
       "        vertical-align: top;\n",
       "    }\n",
       "\n",
       "    .dataframe thead th {\n",
       "        text-align: right;\n",
       "    }\n",
       "</style>\n",
       "<table border=\"1\" class=\"dataframe\">\n",
       "  <thead>\n",
       "    <tr style=\"text-align: right;\">\n",
       "      <th></th>\n",
       "      <th>x</th>\n",
       "      <th>y</th>\n",
       "    </tr>\n",
       "  </thead>\n",
       "  <tbody>\n",
       "    <tr>\n",
       "      <th>0</th>\n",
       "      <td>0.00</td>\n",
       "      <td>5.21</td>\n",
       "    </tr>\n",
       "    <tr>\n",
       "      <th>1</th>\n",
       "      <td>0.92</td>\n",
       "      <td>5.21</td>\n",
       "    </tr>\n",
       "    <tr>\n",
       "      <th>2</th>\n",
       "      <td>1.07</td>\n",
       "      <td>1.16</td>\n",
       "    </tr>\n",
       "    <tr>\n",
       "      <th>3</th>\n",
       "      <td>1.07</td>\n",
       "      <td>0.00</td>\n",
       "    </tr>\n",
       "  </tbody>\n",
       "</table>\n",
       "</div>"
      ],
      "text/plain": [
       "     x    y\n",
       "0 0.00 5.21\n",
       "1 0.92 5.21\n",
       "2 1.07 1.16\n",
       "3 1.07 0.00"
      ]
     },
     "execution_count": 423,
     "metadata": {},
     "output_type": "execute_result"
    }
   ],
   "source": [
    "Best_GastosByIngresos=df_similares.rate_GastosByIngresos.idxmax()\n",
    "Best_victimizacion=df_similares.rate_victimizacionBySectores.idxmax()\n",
    "\n",
    "frontier1=df_similares.loc[Best_GastosByIngresos,['rate_GastosByIngresos','rate_victimizacionBySectores']].to_list()\n",
    "frontier2=df_similares.loc[Best_victimizacion,['rate_GastosByIngresos','rate_victimizacionBySectores']].to_list()\n",
    "\n",
    "#parallels\n",
    "frontier1v=[frontier1[0],0]\n",
    "frontier2h=[0,frontier2[1]]\n",
    "\n",
    "#then\n",
    "envelope=pd.DataFrame([frontier2h,frontier2,frontier1,frontier1v],columns=['x','y'])\n",
    "envelope"
   ]
  },
  {
   "cell_type": "markdown",
   "id": "d4253373-1d5a-4944-a782-922959dd399b",
   "metadata": {
    "id": "d4253373-1d5a-4944-a782-922959dd399b"
   },
   "source": [
    "Actualizamos el plot"
   ]
  },
  {
   "cell_type": "code",
   "execution_count": 424,
   "id": "ca1f47ef-b224-4141-aade-887208a19fa5",
   "metadata": {
    "id": "ca1f47ef-b224-4141-aade-887208a19fa5"
   },
   "outputs": [
    {
     "data": {
      "text/html": [
       "\n",
       "<style>\n",
       "  #altair-viz-2088240466b748ea923b190756fd20c3.vega-embed {\n",
       "    width: 100%;\n",
       "    display: flex;\n",
       "  }\n",
       "\n",
       "  #altair-viz-2088240466b748ea923b190756fd20c3.vega-embed details,\n",
       "  #altair-viz-2088240466b748ea923b190756fd20c3.vega-embed details summary {\n",
       "    position: relative;\n",
       "  }\n",
       "</style>\n",
       "<div id=\"altair-viz-2088240466b748ea923b190756fd20c3\"></div>\n",
       "<script type=\"text/javascript\">\n",
       "  var VEGA_DEBUG = (typeof VEGA_DEBUG == \"undefined\") ? {} : VEGA_DEBUG;\n",
       "  (function(spec, embedOpt){\n",
       "    let outputDiv = document.currentScript.previousElementSibling;\n",
       "    if (outputDiv.id !== \"altair-viz-2088240466b748ea923b190756fd20c3\") {\n",
       "      outputDiv = document.getElementById(\"altair-viz-2088240466b748ea923b190756fd20c3\");\n",
       "    }\n",
       "    const paths = {\n",
       "      \"vega\": \"https://cdn.jsdelivr.net/npm/vega@5?noext\",\n",
       "      \"vega-lib\": \"https://cdn.jsdelivr.net/npm/vega-lib?noext\",\n",
       "      \"vega-lite\": \"https://cdn.jsdelivr.net/npm/vega-lite@5.20.1?noext\",\n",
       "      \"vega-embed\": \"https://cdn.jsdelivr.net/npm/vega-embed@6?noext\",\n",
       "    };\n",
       "\n",
       "    function maybeLoadScript(lib, version) {\n",
       "      var key = `${lib.replace(\"-\", \"\")}_version`;\n",
       "      return (VEGA_DEBUG[key] == version) ?\n",
       "        Promise.resolve(paths[lib]) :\n",
       "        new Promise(function(resolve, reject) {\n",
       "          var s = document.createElement('script');\n",
       "          document.getElementsByTagName(\"head\")[0].appendChild(s);\n",
       "          s.async = true;\n",
       "          s.onload = () => {\n",
       "            VEGA_DEBUG[key] = version;\n",
       "            return resolve(paths[lib]);\n",
       "          };\n",
       "          s.onerror = () => reject(`Error loading script: ${paths[lib]}`);\n",
       "          s.src = paths[lib];\n",
       "        });\n",
       "    }\n",
       "\n",
       "    function showError(err) {\n",
       "      outputDiv.innerHTML = `<div class=\"error\" style=\"color:red;\">${err}</div>`;\n",
       "      throw err;\n",
       "    }\n",
       "\n",
       "    function displayChart(vegaEmbed) {\n",
       "      vegaEmbed(outputDiv, spec, embedOpt)\n",
       "        .catch(err => showError(`Javascript Error: ${err.message}<br>This usually means there's a typo in your chart specification. See the javascript console for the full traceback.`));\n",
       "    }\n",
       "\n",
       "    if(typeof define === \"function\" && define.amd) {\n",
       "      requirejs.config({paths});\n",
       "      require([\"vega-embed\"], displayChart, err => showError(`Error loading script: ${err.message}`));\n",
       "    } else {\n",
       "      maybeLoadScript(\"vega\", \"5\")\n",
       "        .then(() => maybeLoadScript(\"vega-lite\", \"5.20.1\"))\n",
       "        .then(() => maybeLoadScript(\"vega-embed\", \"6\"))\n",
       "        .catch(showError)\n",
       "        .then(() => displayChart(vegaEmbed));\n",
       "    }\n",
       "  })({\"config\": {\"view\": {\"continuousWidth\": 300, \"continuousHeight\": 300}}, \"layer\": [{\"mark\": {\"type\": \"point\"}, \"encoding\": {\"x\": {\"field\": \"rate_GastosByIngresos\", \"type\": \"quantitative\"}, \"y\": {\"field\": \"rate_victimizacionBySectores\", \"type\": \"quantitative\"}}}, {\"mark\": {\"type\": \"text\", \"align\": \"right\", \"baseline\": \"middle\", \"dx\": -7}, \"encoding\": {\"text\": {\"field\": \"Distrito\", \"type\": \"nominal\"}, \"x\": {\"field\": \"rate_GastosByIngresos\", \"type\": \"quantitative\"}, \"y\": {\"field\": \"rate_victimizacionBySectores\", \"type\": \"quantitative\"}}, \"name\": \"view_17\"}, {\"data\": {\"name\": \"data-2493e74cd36a37e0cfc95aa415d533ed\"}, \"mark\": {\"type\": \"line\", \"color\": \"red\"}, \"encoding\": {\"x\": {\"field\": \"x\", \"type\": \"quantitative\"}, \"y\": {\"field\": \"y\", \"type\": \"quantitative\"}}}], \"data\": {\"name\": \"data-6b5f025c2cd5f03796056e0c724b00c0\"}, \"params\": [{\"name\": \"param_14\", \"select\": {\"type\": \"interval\", \"encodings\": [\"x\", \"y\"]}, \"bind\": \"scales\", \"views\": [\"view_17\"]}], \"$schema\": \"https://vega.github.io/schema/vega-lite/v5.20.1.json\", \"datasets\": {\"data-6b5f025c2cd5f03796056e0c724b00c0\": [{\"Distrito\": \"CHORRILLOS\", \"Ingresos\": 158955561.68, \"sectores_t\": 4.0, \"infra\": 31.0, \"Gastos\": 136398031.24, \"porcentaje_victimizacion\": 15.625, \"Poblacion\": 373.55, \"rate_GastosByIngresos\": 0.8580890772138474, \"rate_victimizacionBySectores\": 3.90625}, {\"Distrito\": \"SULLANA\", \"Ingresos\": 160136371.26, \"sectores_t\": 6.0, \"infra\": 1.0, \"Gastos\": 147215512.7, \"porcentaje_victimizacion\": 31.25, \"Poblacion\": 195.022, \"rate_GastosByIngresos\": 0.9193134048290535, \"rate_victimizacionBySectores\": 5.208333333333333}, {\"Distrito\": \"TORATA\", \"Ingresos\": 150530385.41, \"sectores_t\": 45.0, \"infra\": 0.0, \"Gastos\": 113920401.53, \"porcentaje_victimizacion\": 12.5, \"Poblacion\": 7.886, \"rate_GastosByIngresos\": 0.7567933956969201, \"rate_victimizacionBySectores\": 0.2777777777777778}, {\"Distrito\": \"HUANCAYO\", \"Ingresos\": 149930722.83, \"sectores_t\": 4.0, \"infra\": 10.0, \"Gastos\": 119763095.16, \"porcentaje_victimizacion\": 12.5, \"Poblacion\": 125.646, \"rate_GastosByIngresos\": 0.7987895535979921, \"rate_victimizacionBySectores\": 3.125}, {\"Distrito\": \"CAYMA\", \"Ingresos\": 149830383.08, \"sectores_t\": 11.0, \"infra\": 2.0, \"Gastos\": 85561574.87, \"porcentaje_victimizacion\": 15.625, \"Poblacion\": 110.215, \"rate_GastosByIngresos\": 0.571056237801351, \"rate_victimizacionBySectores\": 1.4204545454545454}, {\"Distrito\": \"SAN MARTIN DE PORRES\", \"Ingresos\": 145409912.79, \"sectores_t\": 18.0, \"infra\": 7.0, \"Gastos\": 156226225.89, \"porcentaje_victimizacion\": 20.83333333333334, \"Poblacion\": 794.838, \"rate_GastosByIngresos\": 1.0743849775607859, \"rate_victimizacionBySectores\": 1.1574074074074077}, {\"Distrito\": \"SAN SEBASTIAN\", \"Ingresos\": 140761077.44, \"sectores_t\": 7.0, \"infra\": 5.0, \"Gastos\": 83604252.36, \"porcentaje_victimizacion\": 25.0, \"Poblacion\": 142.028, \"rate_GastosByIngresos\": 0.5939443905978673, \"rate_victimizacionBySectores\": 3.5714285714285716}, {\"Distrito\": \"IQUITOS\", \"Ingresos\": 129733420.6, \"sectores_t\": 4.0, \"infra\": 12.0, \"Gastos\": 130819688.05, \"porcentaje_victimizacion\": 12.5, \"Poblacion\": 155.679, \"rate_GastosByIngresos\": 1.0083730733759748, \"rate_victimizacionBySectores\": 3.125}], \"data-2493e74cd36a37e0cfc95aa415d533ed\": [{\"x\": 0.0, \"y\": 5.208333333333333}, {\"x\": 0.9193134048290535, \"y\": 5.208333333333333}, {\"x\": 1.0743849775607859, \"y\": 1.1574074074074077}, {\"x\": 1.0743849775607859, \"y\": 0.0}]}}, {\"mode\": \"vega-lite\"});\n",
       "</script>"
      ],
      "text/plain": [
       "alt.LayerChart(...)"
      ]
     },
     "execution_count": 424,
     "metadata": {},
     "output_type": "execute_result"
    }
   ],
   "source": [
    "points + text + alt.Chart(envelope).mark_line(color='red').encode(\n",
    "    x='x',\n",
    "    y='y',\n",
    ")"
   ]
  },
  {
   "cell_type": "markdown",
   "id": "36fb35d8",
   "metadata": {},
   "source": [
    "Eficiencia:"
   ]
  },
  {
   "cell_type": "code",
   "execution_count": null,
   "id": "4247566e-f442-4151-a776-d5aafbe4e93e",
   "metadata": {
    "id": "4247566e-f442-4151-a776-d5aafbe4e93e"
   },
   "outputs": [
    {
     "name": "stdout",
     "output_type": "stream",
     "text": [
      "Collecting Pyfrontier\n",
      "  Downloading Pyfrontier-1.0.2-py3-none-any.whl.metadata (2.7 kB)\n",
      "Requirement already satisfied: numpy>=1.21 in c:\\users\\nicolas silva\\appdata\\local\\programs\\python\\python312\\lib\\site-packages (from Pyfrontier) (2.0.2)\n",
      "Requirement already satisfied: pulp>=2.6.0 in c:\\users\\nicolas silva\\appdata\\local\\programs\\python\\python312\\lib\\site-packages (from Pyfrontier) (2.9.0)\n",
      "Downloading Pyfrontier-1.0.2-py3-none-any.whl (15 kB)\n",
      "Installing collected packages: Pyfrontier\n",
      "Successfully installed Pyfrontier-1.0.2\n"
     ]
    },
    {
     "name": "stderr",
     "output_type": "stream",
     "text": [
      "\n",
      "[notice] A new release of pip is available: 24.2 -> 24.3.1\n",
      "[notice] To update, run: python.exe -m pip install --upgrade pip\n"
     ]
    }
   ],
   "source": [
    "## installation\n",
    "#!pip install Pyfrontier"
   ]
  },
  {
   "cell_type": "code",
   "execution_count": 425,
   "id": "12ff2d65",
   "metadata": {},
   "outputs": [
    {
     "name": "stdout",
     "output_type": "stream",
     "text": [
      "<class 'pandas.core.frame.DataFrame'>\n",
      "RangeIndex: 8 entries, 0 to 7\n",
      "Data columns (total 9 columns):\n",
      " #   Column                        Non-Null Count  Dtype  \n",
      "---  ------                        --------------  -----  \n",
      " 0   Distrito                      8 non-null      object \n",
      " 1   Ingresos                      8 non-null      float64\n",
      " 2   sectores_t                    8 non-null      float64\n",
      " 3   infra                         8 non-null      float64\n",
      " 4   Gastos                        8 non-null      float64\n",
      " 5   porcentaje_victimizacion      8 non-null      float64\n",
      " 6   Poblacion                     8 non-null      float64\n",
      " 7   rate_GastosByIngresos         8 non-null      float64\n",
      " 8   rate_victimizacionBySectores  8 non-null      float64\n",
      "dtypes: float64(8), object(1)\n",
      "memory usage: 708.0+ bytes\n"
     ]
    }
   ],
   "source": [
    "df_similares.info()"
   ]
  },
  {
   "cell_type": "markdown",
   "id": "9b202766-484f-4b33-8cc4-235059540290",
   "metadata": {
    "id": "9b202766-484f-4b33-8cc4-235059540290"
   },
   "source": [
    "Let's apply the function:"
   ]
  },
  {
   "cell_type": "code",
   "execution_count": 438,
   "id": "1cb01922",
   "metadata": {},
   "outputs": [],
   "source": [
    "#definimos inputs y outputs\n",
    "dfInput = df_similares[[\"Ingresos\",\"sectores_t\"]].columns.to_list()\n",
    "dfOutput = df_similares[[\"Gastos\",\"porcentaje_victimizacion\",\"infra\"]].columns.to_list()\n"
   ]
  },
  {
   "cell_type": "code",
   "execution_count": 439,
   "id": "8d077a3c-08f5-4ee2-98fe-36cc707522b9",
   "metadata": {
    "id": "8d077a3c-08f5-4ee2-98fe-36cc707522b9"
   },
   "outputs": [],
   "source": [
    "from Pyfrontier.frontier_model import EnvelopDEA\n",
    "\n",
    "dea_gest_vrs_in = EnvelopDEA(\"VRS\", \"in\")\n",
    "dea_gest_vrs_in.fit(\n",
    "    inputs=df_similares[dfInput].to_numpy(),\n",
    "    outputs=df_similares[dfOutput].to_numpy()\n",
    ")"
   ]
  },
  {
   "cell_type": "markdown",
   "id": "d7d42a32-693a-4c39-9153-588466d2df0f",
   "metadata": {
    "id": "d7d42a32-693a-4c39-9153-588466d2df0f"
   },
   "source": [
    "Here is the result:"
   ]
  },
  {
   "cell_type": "code",
   "execution_count": 440,
   "id": "85a16e24-54fa-4558-a9b3-f0165c078a99",
   "metadata": {
    "id": "85a16e24-54fa-4558-a9b3-f0165c078a99"
   },
   "outputs": [
    {
     "data": {
      "text/plain": [
       "Distrito\n",
       "CHORRILLOS             1.00\n",
       "SULLANA                1.00\n",
       "TORATA                 0.86\n",
       "HUANCAYO               1.00\n",
       "CAYMA                  0.88\n",
       "SAN MARTIN DE PORRES   1.00\n",
       "SAN SEBASTIAN          1.00\n",
       "IQUITOS                1.00\n",
       "Name: vrs_in, dtype: float64"
      ]
     },
     "execution_count": 440,
     "metadata": {},
     "output_type": "execute_result"
    }
   ],
   "source": [
    "df_similares['vrs_in']=[r.score for r in dea_gest_vrs_in.result]\n",
    "df_similares.set_index(df_similares.Distrito,inplace=True)\n",
    "df_similares['vrs_in']"
   ]
  },
  {
   "cell_type": "markdown",
   "id": "fb60762d-fdf7-4a0a-8565-faa149f3c55b",
   "metadata": {
    "id": "fb60762d-fdf7-4a0a-8565-faa149f3c55b"
   },
   "source": [
    "Hagamos uan regresión para probar"
   ]
  },
  {
   "cell_type": "code",
   "execution_count": null,
   "id": "aec8fe2a-09f2-400c-960b-2b12450c35a8",
   "metadata": {
    "id": "aec8fe2a-09f2-400c-960b-2b12450c35a8"
   },
   "outputs": [
    {
     "name": "stdout",
     "output_type": "stream",
     "text": [
      "Collecting py4etrics\n",
      "  Downloading py4etrics-0.1.9-py2.py3-none-any.whl.metadata (1.8 kB)\n",
      "Downloading py4etrics-0.1.9-py2.py3-none-any.whl (19 kB)\n",
      "Installing collected packages: py4etrics\n",
      "Successfully installed py4etrics-0.1.9\n"
     ]
    },
    {
     "name": "stderr",
     "output_type": "stream",
     "text": [
      "\n",
      "[notice] A new release of pip is available: 24.2 -> 24.3.1\n",
      "[notice] To update, run: python.exe -m pip install --upgrade pip\n"
     ]
    }
   ],
   "source": [
    "#!pip install py4etrics\n"
   ]
  },
  {
   "cell_type": "code",
   "execution_count": null,
   "id": "db3f11f1-6520-4303-9dc9-e7352153afb0",
   "metadata": {
    "id": "db3f11f1-6520-4303-9dc9-e7352153afb0"
   },
   "outputs": [
    {
     "name": "stdout",
     "output_type": "stream",
     "text": [
      "                              Tobit Regression Results                             \n",
      "===================================================================================\n",
      "Dep. Variable:                      vrs_in   Pseudo R-squ:                   32.162\n",
      "Method:                 Maximum Likelihood   Log-Likelihood:                   63.4\n",
      "No. Observations:                        8   LL-Null:                          -2.0\n",
      "No. Uncensored Obs:                      2   LL-Ratio:                        130.9\n",
      "No. Left-censored Obs:                   0   LLR p-value:                     0.000\n",
      "No. Right-censored Obs:                  6   AIC:                            -114.8\n",
      "Df Residuals:                            2   BIC:                            -114.3\n",
      "Df Model:                                5   Covariance Type:             nonrobust\n",
      "============================================================================================\n",
      "                               coef    std err          z      P>|z|      [0.025      0.975]\n",
      "--------------------------------------------------------------------------------------------\n",
      "const                       11.1779        nan        nan        nan         nan         nan\n",
      "Ingresos                  -9.03e-08        nan        nan        nan         nan         nan\n",
      "sectores_t                  -0.0301        nan        nan        nan         nan         nan\n",
      "Gastos                    3.765e-08        nan        nan        nan         nan         nan\n",
      "porcentaje_victimizacion     0.0273        nan        nan        nan         nan         nan\n",
      "infra                       -0.0409        nan        nan        nan         nan         nan\n",
      "Log(Sigma)                 -32.6323        nan        nan        nan         nan         nan\n",
      "============================================================================================\n"
     ]
    },
    {
     "name": "stderr",
     "output_type": "stream",
     "text": [
      "c:\\Users\\Nicolas Silva\\AppData\\Local\\Programs\\Python\\Python312\\Lib\\site-packages\\statsmodels\\base\\optimizer.py:737: RuntimeWarning: Maximum number of function evaluations has been exceeded.\n",
      "  retvals = optimize.fmin(f, start_params, args=fargs, xtol=xtol,\n",
      "c:\\Users\\Nicolas Silva\\AppData\\Local\\Programs\\Python\\Python312\\Lib\\site-packages\\statsmodels\\base\\model.py:595: HessianInversionWarning: Inverting hessian failed, no bse or cov_params available\n",
      "  warnings.warn('Inverting hessian failed, no bse or cov_params '\n",
      "c:\\Users\\Nicolas Silva\\AppData\\Local\\Programs\\Python\\Python312\\Lib\\site-packages\\statsmodels\\base\\model.py:607: ConvergenceWarning: Maximum Likelihood optimization failed to converge. Check mle_retvals\n",
      "  warnings.warn(\"Maximum Likelihood optimization failed to \"\n"
     ]
    }
   ],
   "source": [
    "import numpy as np  # \n",
    "from py4etrics import tobit\n",
    "import statsmodels.api as sm\n",
    "\n",
    "df_similares['censored'] = np.where(df_similares['vrs_in'] == 1, 1, 0)\n",
    "cens = df_similares['censored']\n",
    "endog = df_similares['vrs_in']\n",
    "exog = df_similares[[\"Ingresos\", \"sectores_t\", \"Gastos\", \"porcentaje_victimizacion\", \"infra\"]]\n",
    "exog = sm.add_constant(exog)  \n",
    "tobit_res = tobit.Tobit(endog, exog, cens, right=1).fit()\n",
    "\n",
    "print(tobit_res.summary())"
   ]
  }
 ],
 "metadata": {
  "colab": {
   "provenance": []
  },
  "kernelspec": {
   "display_name": "Python 3",
   "language": "python",
   "name": "python3"
  },
  "language_info": {
   "codemirror_mode": {
    "name": "ipython",
    "version": 3
   },
   "file_extension": ".py",
   "mimetype": "text/x-python",
   "name": "python",
   "nbconvert_exporter": "python",
   "pygments_lexer": "ipython3",
   "version": "3.12.5"
  }
 },
 "nbformat": 4,
 "nbformat_minor": 5
}
