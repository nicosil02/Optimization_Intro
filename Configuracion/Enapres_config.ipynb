{
 "cells": [
  {
   "cell_type": "code",
   "execution_count": 7,
   "metadata": {},
   "outputs": [],
   "source": [
    "import pyreadstat\n",
    "import pandas as pd\n",
    "enapres, meta = pyreadstat.read_sav(\"CAP_600_URBANO_7.sav\")"
   ]
  },
  {
   "cell_type": "code",
   "execution_count": 8,
   "metadata": {},
   "outputs": [
    {
     "name": "stdout",
     "output_type": "stream",
     "text": [
      "                             Distrito  porcentaje_victimizacion\n",
      "0                   ALTO SELVA ALEGRE                     12.50\n",
      "1                            AMARILIS                     12.50\n",
      "2   ANDRES AVELINO CACERES DORREGARAY                     18.75\n",
      "3                           ASCENSION                     18.75\n",
      "4                              ASCOPE                      6.25\n",
      "..                                ...                       ...\n",
      "87            VILLA MARIA DEL TRIUNFO                     12.50\n",
      "88                               VIRU                     81.25\n",
      "89                         YANACANCHA                     18.75\n",
      "90                            YUNGUYO                    100.00\n",
      "91                               YURA                     12.50\n",
      "\n",
      "[92 rows x 2 columns]\n"
     ]
    },
    {
     "name": "stderr",
     "output_type": "stream",
     "text": [
      "C:\\Users\\Nicolas Silva\\AppData\\Local\\Temp\\ipykernel_20524\\2646246854.py:24: DeprecationWarning: DataFrameGroupBy.apply operated on the grouping columns. This behavior is deprecated, and in a future version of pandas the grouping columns will be excluded from the operation. Either pass `include_groups=False` to exclude the groupings or explicitly select the grouping columns after groupby to silence this warning.\n",
      "  df_rate = df_victimization.groupby('Distrito').apply(\n"
     ]
    }
   ],
   "source": [
    "import pandas as pd\n",
    "\n",
    "# Filtrar las columnas relevantes\n",
    "df_victimization = enapres[['NOMBREDI', 'P601_1', 'P601_2', 'P602C_2', 'P601_4A', 'P601_5A', 'P601_6A', \n",
    "                            'P601_7', 'P601_8', 'P601_9', 'P601_10', 'P601_12', 'P601_13', \n",
    "                            'P601_14', 'P601_15', 'P601_16']].copy()\n",
    "df_victimization.rename(columns={'NOMBREDI': 'Distrito'}, inplace=True)\n",
    "\n",
    "# Convertir todas las columnas de victimizaciones a valores numéricos\n",
    "for col in df_victimization.columns[1:]:\n",
    "    df_victimization[col] = pd.to_numeric(df_victimization[col], errors='coerce')\n",
    "\n",
    "# Reemplazar respuestas: 1 = sí (víctima), 2 = no, 3 = no tiene\n",
    "df_victimization.replace({1: 1, 2: 0, 3: None}, inplace=True)\n",
    "\n",
    "# Eliminar filas con NaN en las columnas de victimizaciones\n",
    "df_victimization.dropna(subset=df_victimization.columns[1:], inplace=True)\n",
    "\n",
    "# Calcular el total de victimizaciones y el total de respuestas válidas\n",
    "df_victimization['total_victimization'] = df_victimization.iloc[:, 1:].sum(axis=1)  \n",
    "df_victimization['total_responses'] = df_victimization.iloc[:, 1:].count(axis=1)    \n",
    "\n",
    "# Agrupar por distrito y calcular el porcentaje de victimización\n",
    "df_rate = df_victimization.groupby('Distrito').apply(\n",
    "    lambda x: (x['total_victimization'].sum() / x['total_responses'].sum() * 100) if x['total_responses'].sum() > 0 else None\n",
    ").reset_index(name='porcentaje_victimizacion')\n",
    "\n",
    "# Guardar el resultado en un archivo Excel\n",
    "df_rate.to_excel('porcentaje_victimizacion_por_distrito.xlsx', index=False)\n",
    "\n",
    "# Mostrar el resultado\n",
    "print(df_rate)\n",
    "\n"
   ]
  }
 ],
 "metadata": {
  "kernelspec": {
   "display_name": "Python 3",
   "language": "python",
   "name": "python3"
  },
  "language_info": {
   "codemirror_mode": {
    "name": "ipython",
    "version": 3
   },
   "file_extension": ".py",
   "mimetype": "text/x-python",
   "name": "python",
   "nbconvert_exporter": "python",
   "pygments_lexer": "ipython3",
   "version": "3.12.5"
  }
 },
 "nbformat": 4,
 "nbformat_minor": 2
}
